{
 "cells": [
  {
   "cell_type": "markdown",
   "metadata": {},
   "source": [
    "\n",
    "<img style=\"float: left;;\" src='../Figures/iteso.jpg' width=\"100\" height=\"200\"/></a>\n",
    "\n",
    "# <center> <font color= #000047> Introducción CDIN</font> </center>\n",
    "\n"
   ]
  },
  {
   "cell_type": "markdown",
   "metadata": {},
   "source": [
    "**La ciencia de datos es un campo interdisciplinario que involucra a\n",
    "los procesos y sistemas para extraer conocimiento o un mejor\n",
    "entendimiento de grandes volúmenes de datos en sus diferentes\n",
    "formas y formatos.**"
   ]
  },
  {
   "cell_type": "markdown",
   "metadata": {},
   "source": [
    "# Propósito General\n",
    "\n",
    "Analizar bases de datos mediante el uso de algoritmos de\n",
    "aprendizaje máquina para la toma de decisiones en fenómenos\n",
    "financieros."
   ]
  },
  {
   "cell_type": "markdown",
   "metadata": {},
   "source": [
    "# Temario\n",
    "\n",
    "Este curso está dividido en cuatro módulos. \n",
    "\n",
    "`Introducción.` **Repaso de Librerías Numpy, Pandas.**\n",
    "\n",
    "    1. Lenguaje de Programación del Curso.\n",
    "    2. Repaso librería Numpy.\n",
    "    3. Repaso librería Pandas.\n",
    "        - Tarea 1.\n",
    "    4.- ¿Qué es la Ciencia de Datos?\n",
    "    5.- Definiciones.\n",
    "    \n",
    "`Módulo 1.` **Minería de Datos: Datos y su clasificación.**\n",
    "\n",
    "    1. Datos y su Clasificación.\n",
    "    2. Análisis Exploratorio de Datos (EDA).\n",
    "    3. Reporte de Calidad de Datos (DQR).\n",
    "    4. Limpieza de datos.\n",
    "    5. Medidas de Similitud datos.\n",
    "    - Tarea 2.\n",
    "\n",
    "`Módulo 2.` **Preprocesamiento de Datos y Aprendizaje no Supervizado.**\n",
    "\n",
    "    1. Integración de datos.\n",
    "    2. ¿Qué es el Aprendizaje Automático?\n",
    "    3. Aprendizaje no Supervizado para Ciencia de Datos\n",
    "    4. Búsqueda de Patrones (algoritmos de clustering)\n",
    "    5. Reducción de Datos (Análisis de Componentes Principales)\n",
    "    - Tarea 3.\n",
    "    \n",
    "`Módulo 3.` **Aprendizaje Supervizado en Ciencia de Datos.**\n",
    "\n",
    "    1. Análisis de Discriminantes Lineales.\n",
    "    2. Regresión Logística.\n",
    "    3. Máquina de Vector Soporte (SVM)\n",
    "    4. Introducción a las Redes Neuronales\n",
    "    - Tarea 4."
   ]
  },
  {
   "cell_type": "markdown",
   "metadata": {},
   "source": [
    "____\n",
    "### Herramientas computacionales\n",
    "\n",
    "### - [python](https://www.python.org) - [Anaconda](https://www.anaconda.com/distribution/) - [Jupyter](http://jupyter.org)\n",
    "\n",
    " <div>\n",
    "<img style=\"float: left; margin: 0px 0px 15px 15px;\" src=\"https://www.python.org/static/community_logos/python-logo.png\" width=\"200px\" height=\"200px\" alt=\"atom\" />\n",
    "<img style=\"float: left; margin: 0px 0px 15px 15px;\" src=\"https://upload.wikimedia.org/wikipedia/en/c/cd/Anaconda_Logo.png\" width=\"120\" />\n",
    "<img style=\"float: left; margin: 0px 0px 15px 15px;\" src=\"http://jupyter.org/assets/main-logo.svg\" width=\"80\" />\n"
   ]
  },
  {
   "cell_type": "markdown",
   "metadata": {},
   "source": [
    "## Herramientas adicionales"
   ]
  },
  {
   "cell_type": "markdown",
   "metadata": {},
   "source": [
    "- [Markdown](https://confluence.atlassian.com/bitbucketserver/markdown-syntax-guide-776639995.html)\n",
    "- [git](https://git-scm.com)\n",
    "- [GitHub](https://github.com)\n",
    "- [GitKraken](https://www.gitkraken.com/)"
   ]
  },
  {
   "cell_type": "markdown",
   "metadata": {},
   "source": [
    "**Primer tarea**\n",
    "\n",
    "Instalar `Git`, crear una cuenta en `GitHub`"
   ]
  },
  {
   "cell_type": "markdown",
   "metadata": {},
   "source": [
    "# Repaso de Python y Librerías"
   ]
  },
  {
   "cell_type": "markdown",
   "metadata": {},
   "source": [
    "\n",
    "\n",
    "- `Librería Numpy`\n",
    "\n",
    "- `Librería Pandas`"
   ]
  },
  {
   "cell_type": "code",
   "execution_count": null,
   "metadata": {},
   "outputs": [],
   "source": []
  }
 ],
 "metadata": {
  "kernelspec": {
   "display_name": "Python 3",
   "language": "python",
   "name": "python3"
  },
  "language_info": {
   "codemirror_mode": {
    "name": "ipython",
    "version": 3
   },
   "file_extension": ".py",
   "mimetype": "text/x-python",
   "name": "python",
   "nbconvert_exporter": "python",
   "pygments_lexer": "ipython3",
   "version": "3.8.5"
  }
 },
 "nbformat": 4,
 "nbformat_minor": 2
}
