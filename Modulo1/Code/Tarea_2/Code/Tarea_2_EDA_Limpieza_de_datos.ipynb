{
 "cells": [
  {
   "cell_type": "markdown",
   "metadata": {},
   "source": [
    "<img style=\"float: left;;\" src='../Imagenes/iteso.jpg' width=\"50\" height=\"100\"/></a>\n",
    "\n",
    "# <center> <font color= #000047> CIENCIA DE DATOS E INTELIGENCIA DE NEGOCIOS </font> </center>\n",
    "\n",
    "# <center> <font color= #000047> Tarea 2: Análisis Exploratorio de Datos (EDA) y Limpieza de Datos </font> </center>\n"
   ]
  },
  {
   "cell_type": "markdown",
   "metadata": {},
   "source": [
    "<h1> Nombre: </h1>\n",
    "<hr>   "
   ]
  },
  {
   "cell_type": "markdown",
   "metadata": {},
   "source": [
    "Como parte de una exploración inicial de la información dentro de una base de datos, se debe de hacer un reporte de calidad de los datos, donde se muestra la información más relevante y después realizar la limpieza de los datos. Esta tarea consiste en realizar un EDA y limpieza de datos.\n",
    "\n",
    "<div class=\"alert alert-danger\" style=\"margin: 10px\"><strong>NOTA IMPORTANTE!</strong> Asegúrese de escribir su nombre, y el código en las celdas comentadas.</div>"
   ]
  },
  {
   "cell_type": "markdown",
   "metadata": {},
   "source": [
    "**1. Considere los archivos “Accidents_UK_2015.csv”, “Casualties_UK_2015.csv” y “Vehicles_UK_2015.csv” donde se encuentra información sobre los accidentes automovilísticos que fueron reportados durante el año 2015 en el reino unido, utilizando estos tres archivos realice lo siguiente:**\n",
    "\n",
    "> 1. Obtenga los reportes de calidad de datos de cada uno de los archivos. Describa brevemente las tablas obtenidas resaltando los puntos o características que considere más importantes (ejemplo: número total de datos, tipos de datos, datos faltantes, etc..). \n",
    "\n",
    "> 2. Incluir un comparativo del número de accidentes y el número de heridos que se encuentran en el archivo “Acdidents_UK_2015.csv”. \n",
    "\n",
    "> 3. Realizar un histograma de las localizaciones de los accidentes, y comentar estos histogramas. \n",
    "\n",
    "> 4. Determinar el día de la semana en el que ocurren el mayor y el menor número de accidentes. \n",
    "\n",
    "> 5. Del archivo “Casualties_UK_2015.csv”, determinar el número de hombres y de mujeres que resultaron heridos en los accidentes. \n",
    "\n",
    "> 6. Del archivo “Vehicles_UK_2015.csv”, obtenga el número de hombres y mujeres que conducían en los accidentes. \n",
    "\n",
    "> 7. Determine la edad promedio que las personas que conducían y que se accidentaron más y de las que se accidentaron menos. \n",
    "\n",
    "<div class=\"alert alert-danger\" style=\"margin: 10px\"><strong>NOTA:</strong> Todas las figuras deben de estar comentadas o descritas.</div>\n"
   ]
  },
  {
   "cell_type": "code",
   "execution_count": null,
   "metadata": {},
   "outputs": [],
   "source": [
    "# Obtenga los reportes de calidad de datos de cada uno de los archivos. Describa brevemente las tablas obtenidas resaltando los puntos o características que considere más importantes (ejemplo: número total de datos, tipos de datos, datos faltantes, etc..). \n",
    "\n"
   ]
  },
  {
   "cell_type": "code",
   "execution_count": null,
   "metadata": {},
   "outputs": [],
   "source": [
    "# Incluir un comparativo del número de accidentes y el número de heridos que se encuentran en el archivo “Acdidents_UK_2015.csv”. \n",
    "\n"
   ]
  },
  {
   "cell_type": "code",
   "execution_count": null,
   "metadata": {},
   "outputs": [],
   "source": [
    "# Realizar un histograma de las localizaciones de los accidentes, y comentar estos histogramas. \n",
    "\n"
   ]
  },
  {
   "cell_type": "code",
   "execution_count": null,
   "metadata": {},
   "outputs": [],
   "source": [
    "# Determinar el día de la semana en el que ocurren el mayor y el menor número de accidentes. \n",
    "\n"
   ]
  },
  {
   "cell_type": "code",
   "execution_count": null,
   "metadata": {},
   "outputs": [],
   "source": [
    "# Del archivo “Casualties_UK_2015.csv”, determinar el número de hombres y de mujeres que resultaron heridos en los accidentes. \n",
    "\n",
    "\n"
   ]
  },
  {
   "cell_type": "code",
   "execution_count": null,
   "metadata": {},
   "outputs": [],
   "source": [
    "# Del archivo “Vehicles_UK_2015.csv”, obtenga el número de hombres y mujeres que conducían en los accidentes. \n",
    "\n",
    "\n"
   ]
  },
  {
   "cell_type": "code",
   "execution_count": null,
   "metadata": {},
   "outputs": [],
   "source": [
    "# Determine la edad promedio que las personas que conducían y que se accidentaron más y de las que se accidentaron menos. \n",
    "\n",
    "\n"
   ]
  },
  {
   "cell_type": "markdown",
   "metadata": {},
   "source": [
    "**1. En clase se mostró un ejemplo de la limpieza de una base datos ejemplo “dirty_data.csv”, de la que se logró hacer la estandarización de los nombres de las personas, y las fechas de nacimiento. En la columna “ssn” se requiere los siguientes cambios:**\n",
    ">1. Cada registro solo debe de contener números.\n",
    "\n",
    ">2. Cada registro debe de contener 9 dígitos para ser un registro válido, de otra forma el registro deberá contener la palabra “missing”.\n",
    "\n",
    ">3. No se quieren espacios, ni guiones o algún otro símbolo especial en cada registro.\n",
    "\n"
   ]
  },
  {
   "cell_type": "code",
   "execution_count": null,
   "metadata": {},
   "outputs": [],
   "source": [
    "#Cada registro solo debe de contener números."
   ]
  },
  {
   "cell_type": "code",
   "execution_count": null,
   "metadata": {},
   "outputs": [],
   "source": [
    "# Cada registro debe de contener 9 dígitos para ser un registro válido, de otra forma el registro es “missing”."
   ]
  },
  {
   "cell_type": "code",
   "execution_count": null,
   "metadata": {},
   "outputs": [],
   "source": [
    "# No se quieren espacios, ni guiones o algún otro símbolo especial en cada registro."
   ]
  },
  {
   "cell_type": "markdown",
   "metadata": {},
   "source": [
    "**2. Utiliza las mismas funciones para limpiar la base de datos llamada “dirty_Info_Alumnos_v1.csv”. El ejercicio consiste en normalizar toda la tabla teniendo encuentra las siguientes consideraciones:**\n",
    ">1. Dejar los nombres correctos en mayúsculas.\n",
    "\n",
    ">2. Eliminar todos los caracteres especiales de la columna teléfono.\n",
    "\n",
    ">3. Cuando no se tenga la longitud de 10 dígitos en el teléfono, se considerará el dato como: “unknown”.\n",
    "\n",
    ">4. Dejar solo números en la columna semestre.\n",
    "\n",
    ">5. Si el número de expediente no tiene 6 dígitos considerarlo como “missing”."
   ]
  },
  {
   "cell_type": "code",
   "execution_count": null,
   "metadata": {},
   "outputs": [],
   "source": [
    "# Dejar los nombres correctos en mayúsculas."
   ]
  },
  {
   "cell_type": "code",
   "execution_count": 1,
   "metadata": {},
   "outputs": [],
   "source": [
    "# Eliminar todos los caracteres especiales de la columna teléfono."
   ]
  },
  {
   "cell_type": "code",
   "execution_count": null,
   "metadata": {},
   "outputs": [],
   "source": [
    "# Cuando no se tenga la longitud de 10 dígitos en el teléfono, se considerará el dato como: “unknown”."
   ]
  },
  {
   "cell_type": "code",
   "execution_count": null,
   "metadata": {},
   "outputs": [],
   "source": [
    "# Dejar solo números en la columna semestre."
   ]
  },
  {
   "cell_type": "code",
   "execution_count": null,
   "metadata": {},
   "outputs": [],
   "source": [
    "# Si el número de expediente no tiene 6 dígitos considerarlo como “missing”."
   ]
  }
 ],
 "metadata": {
  "kernelspec": {
   "display_name": "Python 3",
   "language": "python",
   "name": "python3"
  },
  "language_info": {
   "codemirror_mode": {
    "name": "ipython",
    "version": 3
   },
   "file_extension": ".py",
   "mimetype": "text/x-python",
   "name": "python",
   "nbconvert_exporter": "python",
   "pygments_lexer": "ipython3",
   "version": "3.8.5"
  }
 },
 "nbformat": 4,
 "nbformat_minor": 2
}
