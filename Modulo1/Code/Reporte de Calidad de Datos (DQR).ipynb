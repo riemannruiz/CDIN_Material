{
 "cells": [
  {
   "cell_type": "markdown",
   "metadata": {},
   "source": [
    "# Reporte de Calidad de Datos (DQR)\n",
    "---"
   ]
  },
  {
   "cell_type": "markdown",
   "metadata": {},
   "source": [
    "## ¿Que es la calidad de datos?\n",
    "\n",
    "Es la cualidad de un conjunto de información recogida de un dataset que reúne entre sus atributos:\n",
    "\n",
    "- Exactitud\n",
    "- Completitud\n",
    "- Integridad\n",
    "- Actualización\n",
    "- Coherencia\n",
    "- Relevancia\n",
    "- Accesibilidad\n",
    "- Confiabilidad\n",
    "\n",
    "Cada una necesarias para resultar útiles al procesamiento, análisis y cualquier otro fin que un usuario quiera darles."
   ]
  },
  {
   "cell_type": "markdown",
   "metadata": {},
   "source": [
    "## Librería de calidad de datos"
   ]
  },
  {
   "cell_type": "markdown",
   "metadata": {},
   "source": [
    "La librería de calidad de datos tiene como objetivo principal ser una herramienta que facilite la verificación de contenido de bases de datos y dé métricas de calidad para que usuarios puedan decidir si sus bases de datos necesitan modificarse para ser utilizadas en los proyectos.\n",
    "\n",
    "La librería fue escrita en el lenguaje de programación de Python y puede analizar bases de datos estructurados que se conviertan en objetos dataframe. Contiene tres módulos principales:\n",
    "- El módulo Calidad datos para analizar cualquier base de datos\n",
    "- El módulo Datos gov para conectarse con los metadatos del Portal de Datos Abiertos de Colombia utilizar sus bases de datos\n",
    "- El módulo de Reporte el cual permite generar un reporte de calidad utilizando los módulos anteriores.\n",
    "\n",
    "\n",
    "Instalamos la librería"
   ]
  },
  {
   "cell_type": "code",
   "execution_count": 4,
   "metadata": {},
   "outputs": [
    {
     "name": "stdout",
     "output_type": "stream",
     "text": [
      "\u001b[33mDEPRECATION: Python 2.7 reached the end of its life on January 1st, 2020. Please upgrade your Python as Python 2.7 is no longer maintained. pip 21.0 will drop support for Python 2.7 in January 2021. More details about Python 2 support in pip can be found at https://pip.pypa.io/en/latest/development/release-process/#python-2-support pip 21.0 will remove support for this functionality.\u001b[0m\n",
      "Defaulting to user installation because normal site-packages is not writeable\n",
      "\u001b[31mERROR: Could not find a version that satisfies the requirement leila (from versions: none)\u001b[0m\n",
      "\u001b[31mERROR: No matching distribution found for leila\u001b[0m\n"
     ]
    }
   ],
   "source": [
    "!pip install leila"
   ]
  },
  {
   "cell_type": "markdown",
   "metadata": {},
   "source": [
    "Los datos utilizados para los ejemplos corresponden a una muestra de los Casos positivos de COVID-19 en Colombia disponibles en el portal de [Datos Abiertos de Colombia](https://www.datos.gov.co/Salud-y-Protecci-n-Social/Casos-positivos-de-COVID-19-en-Colombia/gt2j-8ykr), se debe aclarar que los datos fueron modificados con el propósito de presentar el alcance de las diferentes funciones de la librería."
   ]
  },
  {
   "cell_type": "code",
   "execution_count": null,
   "metadata": {},
   "outputs": [],
   "source": [
    "import pandas as pd\n",
    "\n",
    "dtypes = {'ID de caso': object,\n",
    "\n",
    "          'Código DIVIPOLA': object,\n",
    "\n",
    "          'Codigo departamento': object,\n",
    "\n",
    "          'Codigo pais':object}\n",
    "\n",
    "# Lectura de archivo de datos como dataframe\n",
    "df_datos = pd.read_excel('dataset ejemplos.xlsx', dtype=dtypes)"
   ]
  },
  {
   "cell_type": "markdown",
   "metadata": {},
   "source": [
    "### Ejemplos de Reporte"
   ]
  },
  {
   "cell_type": "markdown",
   "metadata": {},
   "source": [
    "#### **reporte.generar_reporte**\n",
    "\n",
    "Crea un reporte de calidad de datos en formato HTML utilizando las funciones disponibles en los otros módulos de la librería. Ver documentación reporte.generar_reporte()"
   ]
  },
  {
   "cell_type": "markdown",
   "metadata": {},
   "source": [
    "**Parámetros:**\n",
    "\n",
    "\n",
    "- **castNumero** – (bool) {True, False}. Valor por defecto: False. Indica si se desea convertir las columnas de tipos object y bool a float, de ser posible.\n",
    "- **df** – (dataframe) base de datos de insumo para la generación del reporte de calidad de datos.\n",
    "- **api_id** – (str) opcional - Identificación de la base de datos asociado con la API de Socrata (de Datos Abiertos).\n",
    "- **token** – (str) opcional - Token de usuario de la API de Socrata (de Datos Abiertos).\n",
    "- **titulo** – (str) valor por defecto: “Reporte perfilamiento”. Título del reporte a generar.\n",
    "- **archivo** – (str) valor por defecto: “perfilamiento.html”. Ruta donde guardar el reporte.\n",
    "___\n",
    "\n",
    "**Devuelve:**\n",
    "\n",
    "\n",
    "- archivo de reporte en formato HTML.\n",
    "___"
   ]
  },
  {
   "cell_type": "code",
   "execution_count": null,
   "metadata": {},
   "outputs": [],
   "source": [
    "# Se importan las funciones de la librería\n",
    "from leila.reporte import generar_reporte\n",
    "\n",
    "# Se invoca la función para generar el reporte de calidad de datos\n",
    "generar_reporte(df=df_datos,\n",
    "                titulo='Perfilamiento datos COVID-19 - Colombia',\n",
    "                archivo='perfilamiento.html')"
   ]
  },
  {
   "cell_type": "markdown",
   "metadata": {},
   "source": [
    "### Ejemplos de Calidad de datos"
   ]
  },
  {
   "cell_type": "markdown",
   "metadata": {},
   "source": [
    "#### **calidad_datos.CantidadDuplicados**\n",
    "\n",
    "Retorna el porcentaje/número de filas o columnas duplicadas (repetidas) en el dataframe.\n",
    "\n",
    "**Parámetros:**\n",
    "\n",
    "\n",
    "- **eje** – (int) {1, 0}, valor por defecto: 0. Si el valor es 1 la validación se realiza por columnas, si el valor es 0 la validación se realiza por filas.\n",
    "- **numero** – (bool) {True, False}, valor por defecto: False. Si el valor es False el resultado se expresa como un cociente, si el valor es True el valor se expresa como una cantidad de registros (número entero).\n",
    "___\n",
    "**Devuelve:**\n",
    "\n",
    "- (int o float) resultado de unicidad.\n",
    "___"
   ]
  },
  {
   "cell_type": "code",
   "execution_count": null,
   "metadata": {},
   "outputs": [],
   "source": [
    "from leila.calidad_datos import CalidadDatos\n",
    "\n",
    "# Creamos un objeto tipo CalidadDatos con el dataframe de datos de interés\n",
    "datos = CalidadDatos(df_datos)"
   ]
  },
  {
   "cell_type": "code",
   "execution_count": null,
   "metadata": {},
   "outputs": [],
   "source": [
    "# Numero de filas duplicadas\n",
    "repetidos_col_prop = datos.CantidadDuplicados(eje=0, numero=True)\n",
    "print(repetidos_col_prop)"
   ]
  },
  {
   "cell_type": "code",
   "execution_count": null,
   "metadata": {},
   "outputs": [],
   "source": [
    "# Proporción de columnas duplicadas\n",
    "repetidos_col_prop = datos.CantidadDuplicados(eje=1, numero=False)\n",
    "print(repetidos_col_prop)"
   ]
  },
  {
   "cell_type": "markdown",
   "metadata": {},
   "source": [
    "De acuerdo a los resultados obtenidos vemos que la base de datos de ejemplo presenta 10 filas duplicadas y el 8.3% (2 de 24) de las columnas duplicadas."
   ]
  },
  {
   "cell_type": "markdown",
   "metadata": {},
   "source": [
    "#### **calidad_datos.CorrelacionCategoricas**\n",
    "\n",
    "Genera una matriz de correlación entre las variables de tipo categóricas."
   ]
  },
  {
   "cell_type": "markdown",
   "metadata": {},
   "source": [
    "**Parámetros:**\n",
    "\n",
    "- **metodo** – (str) {“phik”, “cramer”}, valor por defecto: “phik”. Medida de correlación a utilizar.\n",
    "- **limite** – (float) (valor de 0 a 1) límite de referencia, se utiliza para determinar si las variables posiblemente son de tipo categóricas y ser incluidas en el análisis. Si el número de valores únicos por columna es mayor al número de registros limite, se considera que la variable no es categórica.\n",
    "- **categoriasMaximas** – (int) (valor mayor a 0), indica el máximo número de categorías de una variable para que sea incluida en el análisis\n",
    "- **variables** – (list) lista de nombres de las columnas separados por comas. Permite escoger las columnas de interés de análisis del dataframe\n",
    "___\n",
    "\n",
    "**Devuelve:**\n",
    "\n",
    "dataframe con las correlaciones de las columnas de tipo categórica analizadas.\n",
    "___"
   ]
  },
  {
   "cell_type": "markdown",
   "metadata": {},
   "source": [
    "Calcular la correlación de variables tipo categóricas, en este caso utilizaremos el método de cramer y limitaremos el cálculo a las variables “Atención”, “Sexo”, “Tipo” y “Estado”."
   ]
  },
  {
   "cell_type": "code",
   "execution_count": null,
   "metadata": {},
   "outputs": [],
   "source": [
    "from leila.calidad_datos import CalidadDatos\n",
    "\n",
    "# Creamos un objeto tipo CalidadDatos con el dataframe de datos de interés\n",
    "datos = CalidadDatos(df_datos)\n",
    "\n",
    "# Se invoca la función para calcular la correlación de variables categóricas\n",
    "matriz_cramer = datos.CorrelacionCategoricas(metodo='cramer', variables=['Atención', 'Sexo', 'Tipo', 'Estado'])\n",
    "print(matriz_cramer)"
   ]
  },
  {
   "cell_type": "markdown",
   "metadata": {},
   "source": [
    "#### **calidad_datos.CorrelacionNumericas**\n",
    "\n",
    "Genera una matriz de correlación entre las variables de tipo numérico.\n",
    "\n",
    "\n",
    "**Parámetros:**\n",
    "\n",
    "- **metodo** – (str) {“pearson”, “kendall”, “spearman”}, valor por defecto: “pearson”. Medida de correlación a utilizar.\n",
    "- **variables** – (list) lista de nombres de las columnas separados por comas. Permite escoger las columnas de interés de análisis del dataframe\n",
    "___\n",
    "\n",
    "**Devuelve:**\n",
    "\n",
    "dataframe con las correlaciones de las columnas de tipo numérico analizadas.\n",
    "___"
   ]
  },
  {
   "cell_type": "code",
   "execution_count": null,
   "metadata": {},
   "outputs": [],
   "source": [
    "from leila.calidad_datos import CalidadDatos\n",
    "\n",
    "# Creamos un objeto tipo CalidadDatos con el dataframe de datos de interés\n",
    "datos = CalidadDatos(df_datos)\n",
    "\n",
    "# Se invoca la función para calcular la correlación de variables numéricas\n",
    "corr_spearman = datos.CorrelacionNumericas(metodo=\"spearman\")\n",
    "print(corr_spearman)"
   ]
  }
 ],
 "metadata": {
  "kernelspec": {
   "display_name": "Python 2",
   "language": "python",
   "name": "python2"
  },
  "language_info": {
   "codemirror_mode": {
    "name": "ipython",
    "version": 2
   },
   "file_extension": ".py",
   "mimetype": "text/x-python",
   "name": "python",
   "nbconvert_exporter": "python",
   "pygments_lexer": "ipython2",
   "version": "2.7.17"
  }
 },
 "nbformat": 4,
 "nbformat_minor": 2
}
