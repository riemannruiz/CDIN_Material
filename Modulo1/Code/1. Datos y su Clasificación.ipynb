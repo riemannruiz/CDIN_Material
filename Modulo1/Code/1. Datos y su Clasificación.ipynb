{
 "cells": [
  {
   "cell_type": "markdown",
   "metadata": {},
   "source": [
    "<img style=\"float: left;;\" src='../Imagenes/iteso.jpg' width=\"50\" height=\"100\"/></a>\n",
    "\n",
    "# <center> <font color= #000047> Módulo I: Minería de Datos</font> </center>\n",
    "\n",
    "\n",
    "---"
   ]
  },
  {
   "cell_type": "markdown",
   "metadata": {},
   "source": [
    "Conocido cómo **Data Mining** es el análisis y exploración, por medios automáticos o semiautomáticos de grandes cantidades de datos para descubrir patrones significativos (útiles) y reglas."
   ]
  },
  {
   "cell_type": "markdown",
   "metadata": {},
   "source": [
    "#### Otras Definiciones"
   ]
  },
  {
   "cell_type": "markdown",
   "metadata": {},
   "source": [
    "- La minería de datos o exploración de datos (es la etapa de análisis de \"Knowledge Discovery in Databases\" o KDD) es un campo de la estadística y las ciencias de la computación referido al proceso que intenta descubrir patrones en grandes volúmenes de conjuntos de datos [(wikipedia.org, 2021)](https://es.wikipedia.org/wiki/Miner%C3%ADa_de_datos)."
   ]
  },
  {
   "cell_type": "markdown",
   "metadata": {},
   "source": [
    "- La Minería de Datos (Data Mining) es considerada un campo interdisciplinario conformado por un conjunto de varias disciplinas como la Estadística, Sistemas de Bases de Datos, Aprendizaje Automático, Visualización y Ciencias de la Información. [(nubecolectiva.com, 2021)](https://blog.nubecolectiva.com/que-es-data-mining-mineria-de-datos-clasificacion-de-los-sistemas-de-data-mining/)."
   ]
  },
  {
   "cell_type": "markdown",
   "metadata": {},
   "source": [
    "### ¿Por que minería de datos?"
   ]
  },
  {
   "cell_type": "markdown",
   "metadata": {},
   "source": [
    "  - Enormes bases de datos pueden ser analizadas mediante la tecnología de data mining.\n",
    "  - Contribuye a la toma de decisiones tácticas y estratégicas para detectar la información clave.\n",
    "  - En su mayoría, los modelos se generan y construyen de manera rápida. El modelado a veces se torna más fácil puesto que muchos algoritmos han sido probados previamente.\n",
    "  - Abre nuevas oportunidades de negocios y ahorra costes a la empresa. "
   ]
  },
  {
   "cell_type": "markdown",
   "metadata": {},
   "source": [
    "## Datos y su Clasificación"
   ]
  },
  {
   "cell_type": "markdown",
   "metadata": {},
   "source": [
    "### ¿Que es un dato?"
   ]
  },
  {
   "cell_type": "markdown",
   "metadata": {},
   "source": [
    "Es una representación simbólica (numérica, alfabética, algorítmica, espacial, etc.) de un atributo o variable cuantitativa o cualitativa. Los datos describen hechos empíricos, sucesos y entidades. Es un valor o referente que recibe el computador por diferentes medios, los datos representan la información que el programador manipula en la construcción de una solución o en el desarrollo de un algoritmo. "
   ]
  },
  {
   "cell_type": "markdown",
   "metadata": {},
   "source": [
    "#### *Jerarquia del conocimiento*\n",
    "<img src=\"../Imagenes/conocimiento.png\">"
   ]
  },
  {
   "cell_type": "markdown",
   "metadata": {},
   "source": [
    "### ¿Que es un conjunto de datos?"
   ]
  },
  {
   "cell_type": "markdown",
   "metadata": {},
   "source": [
    "Tambien conocido cómo dataset es una colección de objetos con sus respectivo atributos."
   ]
  },
  {
   "cell_type": "markdown",
   "metadata": {},
   "source": [
    "- Un **atributo** es una propiedad o característica de un objeto.Ejemplos: color de ojos de una persona, peso, salario anual, etc.\n",
    "- Un atributo también es conocido como variable o característica. Una colección de atributos describe un objeto.\n",
    "- Un **objeto** es también llamado registro, caso, muestra, entidad, o instancia."
   ]
  },
  {
   "cell_type": "markdown",
   "metadata": {},
   "source": [
    "<img src=\"../Imagenes/atributos-valores.png\">"
   ]
  },
  {
   "cell_type": "markdown",
   "metadata": {},
   "source": [
    "### ¿Que tipos de datos se pueden utilizar en la minería de datos?"
   ]
  },
  {
   "cell_type": "markdown",
   "metadata": {},
   "source": [
    "En general existen tres tipos de clasificaciones en las que la información puede estar almacenada\n",
    "\n",
    "- Estructurada\n",
    "- Semi-esctructurada\n",
    "- No estructurada"
   ]
  },
  {
   "cell_type": "markdown",
   "metadata": {},
   "source": [
    "#### **Bases de datos relacional:**\n",
    "\n",
    "Es una colección de relaciones (tablas), donde cada relación contiene atributos (columnas o campos) y tuplas (registros o filas).  Cada tupla representa un objeto que se describe a través de sus atributos y posee un clave única o primaria."
   ]
  },
  {
   "cell_type": "markdown",
   "metadata": {},
   "source": [
    "##### Desde las técnicas de minería de datos se manejan 2 tipos de atributos:\n",
    "- Atributos numéricos: contienen valores enteros o reales.\n",
    "    - Ejemplos: salario, edad\n",
    "- Atributos categóricos o nominales: toman valores en un conjunto finito y preestablecido de categorías.\n",
    "    - Ejemplos: genero, nombre del depto.(gestión, marketing, ventas)"
   ]
  },
  {
   "cell_type": "markdown",
   "metadata": {},
   "source": [
    "*Los siguientes casos entran en la categoría de bases de datos pero cuyo contenido requiere un tratamiento especial.*"
   ]
  },
  {
   "cell_type": "markdown",
   "metadata": {},
   "source": [
    "#### **Bases de datos espaciales:**\n",
    "\n",
    "Mantienen información relacionada a espacios físicos cuyos datos pueden ser geográficos, redes de transporte, información de tráfico, etc., donde la minería de datos podría encontrar patrones que permitan la construcción de nuevos caminos o líneas del metro."
   ]
  },
  {
   "cell_type": "markdown",
   "metadata": {},
   "source": [
    "#### **Bases de datos temporales:** \n",
    "Mantienen información relacionada al tiempo ya sea instantes específicos o intervalos temporales. Aquí la minería de datos podría encontrar tendencias climatológicas."
   ]
  },
  {
   "cell_type": "markdown",
   "metadata": {},
   "source": [
    "#### **Bases de datos documentales:** \n",
    "\n",
    "Pueden poseer datos de los tres tipos (estructurados, semi-estructurados y no estructurados) y donde la minería de datos podría utilizarse para encontrar asociaciones entre contenidos o clasificación de objetos."
   ]
  },
  {
   "cell_type": "markdown",
   "metadata": {},
   "source": [
    "#### **Bases de datos multimedia:**\n",
    "\n",
    "Además de las técnicas de minería de datos se requieren algoritmos de búsqueda eficiente y almacenamiento sobre este tipo de formatos."
   ]
  },
  {
   "cell_type": "markdown",
   "metadata": {},
   "source": [
    "### Tipos de modelos"
   ]
  },
  {
   "cell_type": "markdown",
   "metadata": {},
   "source": [
    "#### **Modelos predictivos**\n",
    "\n",
    "- Un **modelo predictivo:** se entrena (estima) un modelo usando los datos recolectados para hacer predicciones futuras. Nunca es 100% precisa y lo que más importa es el rendimiento del modelo cuando es aplicado a nuevos datos.\n",
    "\n",
    "- Un **modelo descriptivo** sirve para identificar patrones que permiten explorar las propiedades de los datos examinados no para predecir sino para describir futuros datos. Este modelo permite descubrir las características más importantes de la BD"
   ]
  },
  {
   "cell_type": "markdown",
   "metadata": {},
   "source": [
    "### Minería de datos y el proceso de descubrimiento del conocimiento (KDD)\n",
    "\n",
    "Este concepto comprende la limpieza, interpretación y descubrimiento de patrones en la información. Uno de sus pasos reside en la minería de datos.\n",
    "\n",
    "Es un proceso para analizar patrones que responden a tres factores: \n",
    "- Son importantes\n",
    "- Útiles\n",
    "- Entendibles\n",
    "\n"
   ]
  },
  {
   "cell_type": "markdown",
   "metadata": {},
   "source": [
    "Proceso KDD\n",
    "<img src=\"../Imagenes/proceso.png\">"
   ]
  },
  {
   "cell_type": "markdown",
   "metadata": {},
   "source": [
    "#### **Proceso KDD**\n",
    "\n",
    "- Integración de datos: combinar multiples fuentes.\n",
    "- Limpieza de datos: remover ruido e inconsistencia de datos.\n",
    "- Selección de datos: datos relevantes a la tarea de análisis son recuperados a partir de la BD.\n",
    "- Transformación de datos: los datos son transformados a un formato apropiado para minería de datos. \n",
    "- **Minería de datos:** proceso escencial donde métodos inteligentes son aplicados para extraer patrones de datos.\n",
    "- Evaluación: identificar los patrones interesantes representando conocimiento o medidas de interes.\n",
    "- Presentación del conocimiento: tecnicas de visualizacion y representacion del conocimiento son usadas para presenter el conocimiento minado."
   ]
  },
  {
   "cell_type": "markdown",
   "metadata": {},
   "source": [
    "Las primeras fases del KDD determinan que las fasessucesivas sean capaces de extraer conocimiento válido y útil a partir de la información original.\n",
    "\n",
    "Generalmente, la información que se quiere investigarsobre un cierto dominio de la organización seencuentra:\n",
    "- En bases de datos y otras fuentes muy diversas.\n",
    "- El análisis posterior será mucho más sencillo sila fuente es unificada, accesible (interna) y desconectada del trabajo transaccional."
   ]
  },
  {
   "cell_type": "markdown",
   "metadata": {},
   "source": [
    "### Fase de mineríra de datos\n",
    "\n",
    "- Entender el problema que se desea resolver.\n",
    "- Determinar el tipo de modelo a aplicar.\n",
    "    - Predictivo.\n",
    "    - Descriptivo.\n",
    "- Elegir el algoritmo de minería que resuelva la tarea y/o obtenga el modelo.\n",
    "\n",
    "\n",
    "### Tareas en data mining\n",
    "\n",
    "- **Classificacion (Predictiva)**\n",
    "    \n",
    "    Cada instancia pertenece a una clase distinguida por un tipo deatributo. Los demás atributos de la instancia se utilizan para predecir la clase de nuevas instancias.\n",
    "    \n",
    "    *Ejemplo:* \n",
    "    Un oftalmólogo desea determinar cuáles de sus nuevos clientes son candidatos a una cirugía ocular y \n",
    "    cuales no, basado en los resultados de sus clientes anteriores y la evolución de éstos después de la \n",
    "    cirugía. Algunos factores a considerar son el tipo deenfermedad ocular y algunos padecimientos que pueden \n",
    "    afectar la cirugía.\n",
    "    \n",
    "    \n",
    "    \n",
    "- **Regresion (predictiva)**\n",
    "\n",
    "    Consiste en aprender una función real que asigna a cada instancia un valor real, de manera que el objetivo es minimizar el error entre el valor predicho y el valor real.\n",
    "    \n",
    "    *Ejemplo*\n",
    "\n",
    "    Una constructora desea determinar el costo adecuado para los departamentos que va a construir y vender en una determinada zona. Para ello la constructora se puede basar en el costo de las viviendas cercanas a la zona. El modelo ayudaría a predecir el costofactible de sus nuevos deptos.\n",
    "\n",
    "- **Agrupamiento (descriptiva)**\n",
    "\n",
    "    A diferencia de la clasificación, aquí se busca agrupar a los individuos maximizando el grado de similitud entre las instancias de un mismo grupo y minimizando la similitud entre los distintos grupos. Los grupos pueden ser o no disjuntos.\n",
    "    \n",
    "    *Ejemplo*\n",
    "    \n",
    "    Una librería que ofrece sus servicios a través de la red usa el agrupamiento para identificar grupos de clientes en base a sus preferencias de compras que le permita dar un servicio más personalizado. Si un cliente se interesa por un libro, el sistema identifica a que grupo pertenece y le recomienda otros libros.\n",
    "\n",
    "\n",
    "- **Correlacioes (descriptiva)**\n",
    "\n",
    "    Ayudan a determinar el grado de similitud de los valores de dos variables numéricas.  Para medir la correlación se usa el coeficiente de correlación $r$, donde $r∈[−1, 1]$, si $r = 0$ indica que no hay relación entre las variables, $r > 0$ indica que las variables están directamente relacionadas y $r < 0$ indica relacion inversa\n",
    "    \n",
    "    *Ejemplo*\n",
    "    \n",
    "    El departamento de bomberos desea determinar las correlaciones negativas entre el empleo de distintos grosores de protección de material electrico y la frecuencia de incendios.\n",
    "\n",
    "- **Reglas de Asociacion (descriptiva)**\n",
    "    \n",
    "    El objetivo es determinar relaciones no evidentes entre atributoscategóricos. No necesariamente las reglas son del tipo causa-efecto.\n",
    "    \n",
    "    *Ejemplo*\n",
    "    \n",
    "    El ejemplo clásico es el de la cesta de compra para organizar  ́los productos físicamente en el supermercado.\n"
   ]
  }
 ],
 "metadata": {
  "kernelspec": {
   "display_name": "Python 3",
   "language": "python",
   "name": "python3"
  },
  "language_info": {
   "codemirror_mode": {
    "name": "ipython",
    "version": 3
   },
   "file_extension": ".py",
   "mimetype": "text/x-python",
   "name": "python",
   "nbconvert_exporter": "python",
   "pygments_lexer": "ipython3",
   "version": "3.8.5"
  }
 },
 "nbformat": 4,
 "nbformat_minor": 5
}
