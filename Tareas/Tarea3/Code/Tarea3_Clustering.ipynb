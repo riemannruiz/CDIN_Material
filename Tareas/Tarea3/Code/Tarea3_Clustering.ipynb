{
 "cells": [
  {
   "cell_type": "markdown",
   "metadata": {},
   "source": [
    "<img style=\"float: left;;\" src='../Imagenes/iteso.jpg' width=\"50\" height=\"100\"/></a>\n",
    "\n",
    "# <center> <font color= #000047> CIENCIA DE DATOS E INTELIGENCIA DE NEGOCIOS </font> </center>\n",
    "\n",
    "# <center> <font color= #000047> Tarea 3: Aprendizaje No Superviado: Clustering </font> </center>\n"
   ]
  },
  {
   "cell_type": "markdown",
   "metadata": {},
   "source": [
    "<h1> Nombre: </h1>\n",
    "<hr>   "
   ]
  },
  {
   "cell_type": "markdown",
   "metadata": {},
   "source": [
    "Clustering es el proceso de agrupar datos en clases o clusters de tal forma que los objetos de un cluster tengan una similaridad alta entre ellos, y baja (sean muy diferentes) con objetos de otros clusters. Esta metodología puede ser aplicada, por ejemplo, para caracterizar clientes, formar taxonom´ıas, clasificar documentos, etc. Esta tarea consiste en aplicar los conocimientos de los algoritmos de clustering vistos en clase para analizar y segmentar un conjunto de datos que contiene información sobre los montos de gasto anual de varios clientes (informados en unidades monetarias) de diversas categorías de productos. \n",
    "\n",
    "<div class=\"alert alert-danger\" style=\"margin: 10px\"><strong>NOTA IMPORTANTE!</strong> En cada figura, tabla, o resultado que se incluya, se debe de incluir el código que se utilizó para obtenerlo.  <br> Todas las figuras (si las hubiera) deben de estar comentadas o descritas.</div>"
   ]
  },
  {
   "cell_type": "markdown",
   "metadata": {},
   "source": [
    "#### 1. Considere el dataset que se encuentra en la carpeta Data \"wholesale custoers data.csv\". Realizar lo siguiente:\n",
    "\n",
    "> Hacer drop de las columnas ['Region', 'Channel'].\n",
    "\n",
    "> Realizar un reporte de calidad de datos.\n",
    "\n",
    "> Realizar un Análisis Exploratorio de Datos y obtener 3 insights.\n"
   ]
  },
  {
   "cell_type": "code",
   "execution_count": null,
   "metadata": {},
   "outputs": [],
   "source": []
  },
  {
   "cell_type": "markdown",
   "metadata": {},
   "source": [
    "#### 2. Después de realizar el EDA, escoja las características más importantes (Columnas) que crea para poder realizar la segmentación de los clientes con el algoritmo de Clustering Jerárquico. \n",
    "\n",
    "> Obtenga el dendograma\n",
    "\n",
    "> Mediante el criterio del codo y del dendograma concluya número de grupos óptimo para realizar la segmentación. Comenta tus resultados.\n",
    "\n",
    "> Elija al menos 3 variables para la visualización de la clusterización y comente sus resultados."
   ]
  },
  {
   "cell_type": "code",
   "execution_count": null,
   "metadata": {},
   "outputs": [],
   "source": []
  },
  {
   "cell_type": "markdown",
   "metadata": {},
   "source": [
    "#### 3. Aplica el algoritmo Kmeans para los datos con las características más importantes que haya elegido. \n",
    "\n",
    "> Mediante el criterio del codo y el gradiente obten el número óptimo de grupos. \n",
    "\n",
    "> Ejecuta nuevamente el algoritmo de Kmeans con el número óptimo de grupos encontrado y escoge 3 variables para visualizar la segmentación y los centroides."
   ]
  },
  {
   "cell_type": "code",
   "execution_count": null,
   "metadata": {},
   "outputs": [],
   "source": []
  },
  {
   "cell_type": "markdown",
   "metadata": {},
   "source": [
    "#### 4. Investiga el método de silhouette para la elección de los número óptimos en Kmeans y realiza el análisis de elección de grupos con este método"
   ]
  },
  {
   "cell_type": "code",
   "execution_count": null,
   "metadata": {},
   "outputs": [],
   "source": []
  }
 ],
 "metadata": {
  "anaconda-cloud": {},
  "kernelspec": {
   "display_name": "Python 3",
   "language": "python",
   "name": "python3"
  },
  "language_info": {
   "codemirror_mode": {
    "name": "ipython",
    "version": 3
   },
   "file_extension": ".py",
   "mimetype": "text/x-python",
   "name": "python",
   "nbconvert_exporter": "python",
   "pygments_lexer": "ipython3",
   "version": "3.8.8"
  }
 },
 "nbformat": 4,
 "nbformat_minor": 1
}
