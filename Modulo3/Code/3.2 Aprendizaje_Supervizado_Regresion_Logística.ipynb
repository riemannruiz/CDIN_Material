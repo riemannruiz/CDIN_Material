{
 "cells": [
  {
   "cell_type": "markdown",
   "metadata": {},
   "source": [
    "<img style=\"float: left;;\" src='../Imagenes/iteso.jpg' width=\"50\" height=\"100\"/></a>\n",
    "\n",
    "# <center> <font color= #000047> Módulo III: Aprendizaje supervizado: Regresión Logística "
   ]
  },
  {
   "cell_type": "markdown",
   "metadata": {},
   "source": [
    "> La **regresión logística** es un método estadístico que trata de modelar la probabilidad de una variable cualitativa binaria (dos posibles valores) en función de una o más variables independientes. La principal aplicación de la regresión logística es la creación de modelos de clasificación binaria.\n",
    "\n",
    "Se llama **regresión logística simple** cuando solo hay una variable independiente y **regresión logística múltiple** cuando hay más de una. Dependiendo del contexto, a la variable modelada se le conoce como variable dependiente o variable respuesta, y a las variables independientes como **regresores, predictores o features**."
   ]
  },
  {
   "cell_type": "markdown",
   "metadata": {},
   "source": [
    "Si una variable cualitativa con dos niveles (binaría) se codifica como 0 y 1, matemáticamente es posible ajustar un modelo de regresión lineal por mínimos cuadrados. Sin embargo, esta aproximación tiene dos problemas:\n",
    "\n",
    "- Al generar una recta (hiperplano si hay múltiples variables), se pueden obtener valores predichos distintos de 0 y 1, lo que entra en contradicción con la definición de la variable respuesta binaria.\n",
    "\n",
    "- Si se quiere interpretar las predicciones del modelo como probabilidades de pertenencia a cada clase, no se cumpliría la condición de que toda probabilidad ha de estar dentro del intervalo [0,1], ya que podrían obtenerse valores fuera de este.\n",
    "\n",
    "Para evitar estos problemas, la **regresión logística** transforma el valor devuelto por la regresión lineal con una función cuyo resultado siempre está comprendido entre 0 y 1 (función sigmoide). \n",
    "\n",
    "> Existen varias funciones que cumplen esta descripción, una de las más utilizadas es la función logística (también conocida como función sigmoide):\n",
    "\n",
    "$$sigmoide = \\sigma(y) = \\frac{1}{1+e^{-y}}$$\n",
    "\n",
    "<img style=\"float: center;;\" src='../Imagenes/sigmoide.png' width=\"500\" height=\"100\"/></a>"
   ]
  },
  {
   "cell_type": "markdown",
   "metadata": {},
   "source": [
    "\n",
    "> Para valores de $y$  positivos muy grandes,  $e^{−y}$  es aproximadamente 0, por lo que el valor de la función sigmoide es 1. Para valores de  $y$ negativos muy grandes,  $e^{−y}$  tiende a infinito, por lo que el valor de la función sigmoide es 0.\n",
    "\n",
    "> Sustituyendo la  y  de la ecuación anterior por la función de un modelo lineal $y=\\beta_0 + \\beta_1 x_1 + ... + \\beta_p x_p$ se obtiene que:\n",
    "\n",
    "$$P(y=1|X=x) = \\frac{e^{\\beta_0 + \\beta_1x_1 +...+\\beta_px_p}}{1 + e^{\\beta_0 + \\beta_1x_1 +...+\\beta_px_p}}$$\n",
    "\n",
    "> donde $P(y=1|X=x)$ puede interpretarse como la probabilidad de que la variable respuesta  y  adquiera el valor 1 (clase de referencia), dado los predictores $x_1,...,x_p$. El modelo resultante tiene los coeficientes de regresión en los exponentes, por lo que no es un modelo lineal.\n",
    "\n",
    "> La expresión obtenida tiene la característica de ser siempre positiva, ya que la función exponencial solo toma valores positivos y, el cociente de valores positivos, es siempre positivo. Esto hace posible aplicarle el logaritmo:\n",
    "\n",
    "$$ln(\\frac{P(y=1|X=x)}{P(y=0|X=x)}) = \\beta_0 + \\beta_1x_1 +...+\\beta_px_p$$\n",
    "\n",
    "> Al realizar la transformación, en el lado derecho se obtiene la ecuación de un modelo lineal. El término de la izquierda resulta ser el logaritmo de un cociente de probabilidades, lo que se conoce como razón de probabilidad (log of odds).\n",
    "\n",
    "> Como resultado de este proceso se consigue convertir un problema de clasificación no lineal, en un problema de regresión lineal que sí puede ajustarse mediante los métodos convencionales.\n",
    "\n"
   ]
  },
  {
   "cell_type": "markdown",
   "metadata": {},
   "source": [
    "### Función de Costo\n",
    "\n",
    "$$J(\\theta) = -\\frac{1}{m} \\sum_{i=1}^m[y^{(i)}\\log\\hat{y}(x^{(i)}) + (1-y^{(i)})\\log(1 - \\hat{y}(x^{(i)}))]$$"
   ]
  },
  {
   "cell_type": "markdown",
   "metadata": {},
   "source": [
    "### Ejemplos:"
   ]
  },
  {
   "cell_type": "code",
   "execution_count": 1,
   "metadata": {},
   "outputs": [],
   "source": [
    "import numpy as np\n",
    "import pandas as pd\n",
    "import matplotlib.pyplot as plt\n",
    "from sklearn.datasets import make_blobs\n",
    "import scipy.optimize as opt"
   ]
  },
  {
   "cell_type": "code",
   "execution_count": 2,
   "metadata": {},
   "outputs": [
    {
     "data": {
      "image/png": "[encoded data removed]",
      "text/plain": [
       "<Figure size 432x288 with 1 Axes>"
      ]
     },
     "metadata": {
      "needs_background": "light"
     },
     "output_type": "display_data"
    }
   ],
   "source": [
    "# Programar la regresión logística con nuestras propias funciones\n",
    "X,Y = make_blobs(n_samples=200, centers=[[0,0],[3,3]], cluster_std=0.5, \n",
    "                 n_features= 2)\n",
    "plt.scatter(X[:,0],X[:,1], c=Y)\n",
    "plt.xlabel('x1')\n",
    "plt.ylabel('x2')\n",
    "plt.show()"
   ]
  },
  {
   "cell_type": "code",
   "execution_count": 3,
   "metadata": {},
   "outputs": [],
   "source": [
    "# Función logística g(x)\n",
    "def fun_log(x):\n",
    "    return 1/(1+np.exp(-x))"
   ]
  },
  {
   "cell_type": "code",
   "execution_count": 4,
   "metadata": {},
   "outputs": [],
   "source": [
    "# Función para el modelo y_hat = g(y_hat_lineal) = g(b0+b1*x1+b2*x2+...+bm*xm)\n",
    "# y_hat = g(B^T*X)\n",
    "\n",
    "def reg_log(B,X):\n",
    "    y_hat_lineal = np.matrix(X)*np.matrix(B).transpose()\n",
    "    y_hat = np.array(fun_log(y_hat_lineal))\n",
    "    return y_hat[:,0]"
   ]
  },
  {
   "cell_type": "code",
   "execution_count": 5,
   "metadata": {},
   "outputs": [],
   "source": [
    "# Definición de la función de costo\n",
    "def fun_cost(B,X,Y):\n",
    "    m=len(Y)\n",
    "    y_hat = reg_log(B,X)\n",
    "    J = np.sum(-Y*np.log(y_hat) - (1-Y)*np.log(1-y_hat))*(1/m)\n",
    "    return J"
   ]
  },
  {
   "cell_type": "code",
   "execution_count": 12,
   "metadata": {},
   "outputs": [
    {
     "data": {
      "text/plain": [
       "(200, 3)"
      ]
     },
     "execution_count": 12,
     "metadata": {},
     "output_type": "execute_result"
    }
   ],
   "source": [
    "np.shape(Xa)"
   ]
  },
  {
   "cell_type": "code",
   "execution_count": 13,
   "metadata": {},
   "outputs": [],
   "source": [
    "# Entrenar al modelo\n",
    "#Inicializar valores\n",
    "\n",
    "#Xa = [1;X]\n",
    "Xa = np.append(np.ones((len(Y),1)), X, axis=1)\n",
    "n,m = np.shape(Xa)\n",
    "B = np.zeros(m)\n"
   ]
  },
  {
   "cell_type": "code",
   "execution_count": 14,
   "metadata": {},
   "outputs": [
    {
     "data": {
      "text/plain": [
       "array([[ 1.        , -0.48863881, -0.19308437],\n",
       "       [ 1.        ,  3.11546334,  3.16572692],\n",
       "       [ 1.        , -0.41684395, -0.46164155],\n",
       "       [ 1.        ,  0.13531338, -0.59219039],\n",
       "       [ 1.        ,  3.32168802,  3.07585222],\n",
       "       [ 1.        ,  0.22725831, -0.90709876],\n",
       "       [ 1.        ,  0.10319116, -0.31879084],\n",
       "       [ 1.        ,  2.51648254,  2.4615541 ],\n",
       "       [ 1.        , -0.54494553,  0.51778434],\n",
       "       [ 1.        ,  0.87339082,  0.03550423],\n",
       "       [ 1.        ,  2.2339907 ,  2.8504751 ],\n",
       "       [ 1.        ,  0.58130464,  0.19599282],\n",
       "       [ 1.        ,  1.87864499,  3.25200876],\n",
       "       [ 1.        , -0.03957728, -0.79501831],\n",
       "       [ 1.        ,  2.36058422,  2.83888867],\n",
       "       [ 1.        , -0.23874794, -0.55987283],\n",
       "       [ 1.        ,  2.94540817,  3.20232197],\n",
       "       [ 1.        ,  0.24198802,  0.73021486],\n",
       "       [ 1.        ,  3.6760047 ,  3.27348993],\n",
       "       [ 1.        ,  3.50438003,  3.17305751],\n",
       "       [ 1.        ,  1.69486327,  2.42076273],\n",
       "       [ 1.        , -0.05843554, -0.48994085],\n",
       "       [ 1.        ,  3.51954638,  2.24600132],\n",
       "       [ 1.        , -0.10566085,  0.31778337],\n",
       "       [ 1.        ,  3.28935826,  2.26156087],\n",
       "       [ 1.        ,  3.06277017,  3.4482156 ],\n",
       "       [ 1.        , -0.3967345 ,  0.06723392],\n",
       "       [ 1.        ,  2.8632478 ,  2.77498518],\n",
       "       [ 1.        ,  3.0576112 ,  2.91730144],\n",
       "       [ 1.        ,  2.57632256,  2.72353915],\n",
       "       [ 1.        , -0.87752101, -0.30964575],\n",
       "       [ 1.        ,  3.33619258,  3.19837626],\n",
       "       [ 1.        ,  0.09248003, -0.57612665],\n",
       "       [ 1.        ,  2.63672195,  2.65659615],\n",
       "       [ 1.        ,  0.41956431,  0.66041391],\n",
       "       [ 1.        ,  2.91766417,  3.40950904],\n",
       "       [ 1.        ,  0.62066868,  0.46272935],\n",
       "       [ 1.        , -0.89965187,  0.22611053],\n",
       "       [ 1.        ,  2.98658254,  2.52909197],\n",
       "       [ 1.        , -0.04133795,  0.08477463],\n",
       "       [ 1.        ,  3.08503627,  2.63456833],\n",
       "       [ 1.        ,  0.15698992, -0.69636399],\n",
       "       [ 1.        , -0.01482923, -0.08641563],\n",
       "       [ 1.        ,  3.20206714,  3.01486142],\n",
       "       [ 1.        , -0.21520973,  0.23939077],\n",
       "       [ 1.        ,  0.17510342, -0.39955415],\n",
       "       [ 1.        ,  0.02271954,  0.73445026],\n",
       "       [ 1.        ,  0.30344194, -0.39828059],\n",
       "       [ 1.        , -0.90100879,  0.04348106],\n",
       "       [ 1.        , -0.38931769,  0.05607774],\n",
       "       [ 1.        , -0.07057555,  0.99158609],\n",
       "       [ 1.        , -0.26305907,  0.08003756],\n",
       "       [ 1.        ,  0.37950485,  0.14566525],\n",
       "       [ 1.        ,  0.107211  , -0.14009148],\n",
       "       [ 1.        , -0.17172689,  0.1010008 ],\n",
       "       [ 1.        ,  0.06519469,  0.73720255],\n",
       "       [ 1.        ,  2.40492528,  2.30929707],\n",
       "       [ 1.        ,  0.10304978, -0.03179216],\n",
       "       [ 1.        ,  0.97343412, -0.00476119],\n",
       "       [ 1.        , -1.02337754, -0.13792283],\n",
       "       [ 1.        ,  2.6885741 ,  2.44826994],\n",
       "       [ 1.        ,  3.56405728,  2.1270771 ],\n",
       "       [ 1.        ,  2.36312882,  2.99377107],\n",
       "       [ 1.        ,  2.00395078,  3.08387787],\n",
       "       [ 1.        ,  2.24942669,  3.2055186 ],\n",
       "       [ 1.        ,  0.81452676,  0.68435596],\n",
       "       [ 1.        ,  2.86630559,  2.94725772],\n",
       "       [ 1.        ,  2.40052059,  3.53690535],\n",
       "       [ 1.        , -0.24347435,  0.51483743],\n",
       "       [ 1.        ,  2.93639326,  3.13255527],\n",
       "       [ 1.        ,  2.87582732,  3.31091271],\n",
       "       [ 1.        ,  2.35560502,  4.14141141],\n",
       "       [ 1.        ,  3.37452561,  3.55263741],\n",
       "       [ 1.        ,  2.96027062,  3.09375057],\n",
       "       [ 1.        ,  3.75823747,  1.8232897 ],\n",
       "       [ 1.        ,  3.02564672,  2.47536163],\n",
       "       [ 1.        ,  3.69426791,  2.86417227],\n",
       "       [ 1.        ,  2.07590533,  3.14602982],\n",
       "       [ 1.        ,  0.67699538, -0.03070706],\n",
       "       [ 1.        ,  2.33712114,  3.85854541],\n",
       "       [ 1.        ,  3.40695251,  1.87753333],\n",
       "       [ 1.        ,  2.14203865,  3.37369756],\n",
       "       [ 1.        ,  0.07914888,  0.11041466],\n",
       "       [ 1.        ,  0.97722938, -0.00671345],\n",
       "       [ 1.        ,  2.69395704,  3.71870707],\n",
       "       [ 1.        ,  1.81986733,  3.00666757],\n",
       "       [ 1.        ,  0.14053807, -0.18194908],\n",
       "       [ 1.        ,  0.34320202, -0.33824224],\n",
       "       [ 1.        , -0.22614767, -0.11723176],\n",
       "       [ 1.        ,  3.71491752,  2.36671433],\n",
       "       [ 1.        , -0.05849271, -0.74000703],\n",
       "       [ 1.        ,  3.37544858,  3.54481213],\n",
       "       [ 1.        ,  2.66229609,  2.4374214 ],\n",
       "       [ 1.        ,  2.8969056 ,  3.57898529],\n",
       "       [ 1.        , -0.34902467,  0.19294621],\n",
       "       [ 1.        ,  0.22017254,  0.09630311],\n",
       "       [ 1.        ,  3.76005911,  2.63313252],\n",
       "       [ 1.        ,  0.1002329 , -0.24802646],\n",
       "       [ 1.        ,  0.01841631,  0.60473383],\n",
       "       [ 1.        ,  2.60326149,  3.79155183],\n",
       "       [ 1.        ,  2.16003286,  2.97490286],\n",
       "       [ 1.        ,  2.03472541,  1.90209182],\n",
       "       [ 1.        ,  0.17749438,  0.91561891],\n",
       "       [ 1.        ,  0.22940468,  0.13960945],\n",
       "       [ 1.        ,  3.51410826,  2.95863619],\n",
       "       [ 1.        ,  0.0706153 , -0.3515597 ],\n",
       "       [ 1.        ,  2.98090052,  3.15255275],\n",
       "       [ 1.        ,  2.49169398,  3.52339485],\n",
       "       [ 1.        ,  0.32073494, -0.54839561],\n",
       "       [ 1.        ,  2.44236587,  3.20131087],\n",
       "       [ 1.        ,  2.61506093,  3.16085178],\n",
       "       [ 1.        , -1.06534558,  0.1007642 ],\n",
       "       [ 1.        ,  0.32117763, -0.68122486],\n",
       "       [ 1.        ,  0.44265109,  0.31676827],\n",
       "       [ 1.        ,  3.98384504,  3.35257979],\n",
       "       [ 1.        , -0.09388691, -0.09637407],\n",
       "       [ 1.        ,  3.3542779 ,  3.59337826],\n",
       "       [ 1.        ,  2.48923692,  3.21935106],\n",
       "       [ 1.        ,  1.67884124,  3.21007829],\n",
       "       [ 1.        ,  0.45534808, -0.7247483 ],\n",
       "       [ 1.        ,  3.45843389,  2.45539041],\n",
       "       [ 1.        , -0.18219704,  0.2531772 ],\n",
       "       [ 1.        ,  2.99623397,  2.03284402],\n",
       "       [ 1.        ,  3.35254724,  2.56015199],\n",
       "       [ 1.        ,  3.17507621,  3.70458981],\n",
       "       [ 1.        ,  3.78991972,  3.33890072],\n",
       "       [ 1.        ,  2.48008252,  3.04120423],\n",
       "       [ 1.        , -0.64879434,  0.37584017],\n",
       "       [ 1.        ,  2.91416451,  3.07356016],\n",
       "       [ 1.        , -0.50808008, -0.25314452],\n",
       "       [ 1.        ,  0.26153963, -0.67667509],\n",
       "       [ 1.        ,  3.24094098,  4.41160309],\n",
       "       [ 1.        ,  1.11395196, -0.07131365],\n",
       "       [ 1.        ,  0.9132101 , -0.32840247],\n",
       "       [ 1.        ,  2.01453434,  3.4092266 ],\n",
       "       [ 1.        , -0.19191925,  1.04537805],\n",
       "       [ 1.        ,  0.1512597 , -0.15529472],\n",
       "       [ 1.        ,  3.62620301,  3.66930551],\n",
       "       [ 1.        ,  3.45229194,  2.99904261],\n",
       "       [ 1.        , -0.945597  ,  0.52088174],\n",
       "       [ 1.        , -0.11246315,  0.21679569],\n",
       "       [ 1.        ,  0.42985728,  0.7311503 ],\n",
       "       [ 1.        , -0.07548241, -0.17728247],\n",
       "       [ 1.        ,  3.83708108,  2.61115711],\n",
       "       [ 1.        , -0.52203464,  0.10756748],\n",
       "       [ 1.        ,  0.17125037,  0.41501259],\n",
       "       [ 1.        ,  0.32552597, -0.65400288],\n",
       "       [ 1.        ,  2.64688136,  3.38549696],\n",
       "       [ 1.        ,  2.8777923 ,  2.63707739],\n",
       "       [ 1.        ,  0.44346228,  0.59534159],\n",
       "       [ 1.        , -0.2293922 , -0.41935693],\n",
       "       [ 1.        ,  0.30425078,  0.13418245],\n",
       "       [ 1.        ,  2.83541333,  3.20439511],\n",
       "       [ 1.        , -0.2652994 ,  0.08405375],\n",
       "       [ 1.        ,  2.42686589,  4.08767102],\n",
       "       [ 1.        , -0.42436628, -0.41404487],\n",
       "       [ 1.        ,  2.40296655,  2.89029446],\n",
       "       [ 1.        , -1.42837786,  0.43124786],\n",
       "       [ 1.        ,  3.10652645,  2.47837228],\n",
       "       [ 1.        ,  2.55410746,  3.15266241],\n",
       "       [ 1.        ,  0.54151953, -0.49521968],\n",
       "       [ 1.        ,  0.09799869, -0.38562028],\n",
       "       [ 1.        , -0.29404455,  0.74099603],\n",
       "       [ 1.        ,  2.88811493,  3.47440032],\n",
       "       [ 1.        ,  2.84361761,  3.10984886],\n",
       "       [ 1.        ,  3.26396153,  3.26707341],\n",
       "       [ 1.        ,  2.64100215,  3.53376527],\n",
       "       [ 1.        ,  2.66192503,  3.1295643 ],\n",
       "       [ 1.        ,  0.23721844,  0.29871265],\n",
       "       [ 1.        ,  3.47325963,  3.13378409],\n",
       "       [ 1.        ,  2.47070264,  2.50416097],\n",
       "       [ 1.        , -1.04817683, -0.19367507],\n",
       "       [ 1.        ,  2.98375744,  4.10463188],\n",
       "       [ 1.        ,  0.58045562, -0.9394185 ],\n",
       "       [ 1.        , -0.75438718, -0.35784849],\n",
       "       [ 1.        ,  0.09585648, -0.36197356],\n",
       "       [ 1.        ,  2.37358529,  2.69255456],\n",
       "       [ 1.        ,  3.57220765,  2.2326491 ],\n",
       "       [ 1.        ,  0.23891775,  0.80217482],\n",
       "       [ 1.        ,  2.37281164,  2.39034971],\n",
       "       [ 1.        ,  3.912286  ,  3.59610174],\n",
       "       [ 1.        , -0.47321998,  0.14765037],\n",
       "       [ 1.        ,  0.91131712, -0.43961022],\n",
       "       [ 1.        ,  2.95388299,  3.2397641 ],\n",
       "       [ 1.        ,  0.54112055, -1.31920589],\n",
       "       [ 1.        ,  0.16437434, -0.20160537],\n",
       "       [ 1.        ,  2.66468336,  2.88734183],\n",
       "       [ 1.        , -0.58583428, -0.03819417],\n",
       "       [ 1.        , -0.20820714, -0.63169682],\n",
       "       [ 1.        , -0.84077412,  0.97526584],\n",
       "       [ 1.        ,  3.34139305,  2.78300707],\n",
       "       [ 1.        ,  3.68372421,  3.54977771],\n",
       "       [ 1.        ,  2.09499278,  3.10080487],\n",
       "       [ 1.        , -0.07445052,  0.3636206 ],\n",
       "       [ 1.        ,  0.63066897, -1.40744431],\n",
       "       [ 1.        ,  3.27547304,  3.18483678],\n",
       "       [ 1.        , -0.04387228, -0.53121034],\n",
       "       [ 1.        , -0.28069846, -0.12390825],\n",
       "       [ 1.        ,  3.28777187,  2.933094  ],\n",
       "       [ 1.        ,  2.96440219,  3.27078729]])"
      ]
     },
     "execution_count": 14,
     "metadata": {},
     "output_type": "execute_result"
    }
   ],
   "source": [
    "Xa"
   ]
  },
  {
   "cell_type": "code",
   "execution_count": 15,
   "metadata": {},
   "outputs": [
    {
     "data": {
      "text/plain": [
       "array([0., 0., 0.])"
      ]
     },
     "execution_count": 15,
     "metadata": {},
     "output_type": "execute_result"
    }
   ],
   "source": [
    "B"
   ]
  },
  {
   "cell_type": "code",
   "execution_count": 16,
   "metadata": {},
   "outputs": [
    {
     "name": "stderr",
     "output_type": "stream",
     "text": [
      "<ipython-input-5-ed7bcced3e3f>:5: RuntimeWarning: divide by zero encountered in log\n",
      "  J = np.sum(-Y*np.log(y_hat) - (1-Y)*np.log(1-y_hat))*(1/m)\n",
      "<ipython-input-5-ed7bcced3e3f>:5: RuntimeWarning: invalid value encountered in multiply\n",
      "  J = np.sum(-Y*np.log(y_hat) - (1-Y)*np.log(1-y_hat))*(1/m)\n",
      "<ipython-input-3-0e5fd88abacc>:3: RuntimeWarning: overflow encountered in exp\n",
      "  return 1/(1+np.exp(-x))\n",
      "<ipython-input-5-ed7bcced3e3f>:5: RuntimeWarning: divide by zero encountered in log\n",
      "  J = np.sum(-Y*np.log(y_hat) - (1-Y)*np.log(1-y_hat))*(1/m)\n",
      "<ipython-input-5-ed7bcced3e3f>:5: RuntimeWarning: invalid value encountered in multiply\n",
      "  J = np.sum(-Y*np.log(y_hat) - (1-Y)*np.log(1-y_hat))*(1/m)\n",
      "<ipython-input-3-0e5fd88abacc>:3: RuntimeWarning: overflow encountered in exp\n",
      "  return 1/(1+np.exp(-x))\n",
      "<ipython-input-3-0e5fd88abacc>:3: RuntimeWarning: overflow encountered in exp\n",
      "  return 1/(1+np.exp(-x))\n",
      "<ipython-input-5-ed7bcced3e3f>:5: RuntimeWarning: divide by zero encountered in log\n",
      "  J = np.sum(-Y*np.log(y_hat) - (1-Y)*np.log(1-y_hat))*(1/m)\n",
      "<ipython-input-5-ed7bcced3e3f>:5: RuntimeWarning: invalid value encountered in multiply\n",
      "  J = np.sum(-Y*np.log(y_hat) - (1-Y)*np.log(1-y_hat))*(1/m)\n"
     ]
    }
   ],
   "source": [
    "# Minimizar la función de costo\n",
    "res = opt.minimize(fun_cost, B, args=(Xa,Y))"
   ]
  },
  {
   "cell_type": "code",
   "execution_count": 20,
   "metadata": {},
   "outputs": [],
   "source": [
    "B = res.x"
   ]
  },
  {
   "cell_type": "code",
   "execution_count": 23,
   "metadata": {},
   "outputs": [
    {
     "name": "stderr",
     "output_type": "stream",
     "text": [
      "<ipython-input-3-0e5fd88abacc>:3: RuntimeWarning: overflow encountered in exp\n",
      "  return 1/(1+np.exp(-x))\n"
     ]
    },
    {
     "data": {
      "text/plain": [
       "array([0., 1., 0., 0., 1., 0., 0., 1., 0., 0., 1., 0., 1., 0., 1., 0., 1.,\n",
       "       0., 1., 1., 1., 0., 1., 0., 1., 1., 0., 1., 1., 1., 0., 1., 0., 1.,\n",
       "       0., 1., 0., 0., 1., 0., 1., 0., 0., 1., 0., 0., 0., 0., 0., 0., 0.,\n",
       "       0., 0., 0., 0., 0., 1., 0., 0., 0., 1., 1., 1., 1., 1., 0., 1., 1.,\n",
       "       0., 1., 1., 1., 1., 1., 1., 1., 1., 1., 0., 1., 1., 1., 0., 0., 1.,\n",
       "       1., 0., 0., 0., 1., 0., 1., 1., 1., 0., 0., 1., 0., 0., 1., 1., 1.,\n",
       "       0., 0., 1., 0., 1., 1., 0., 1., 1., 0., 0., 0., 1., 0., 1., 1., 1.,\n",
       "       0., 1., 0., 1., 1., 1., 1., 1., 0., 1., 0., 0., 1., 0., 0., 1., 0.,\n",
       "       0., 1., 1., 0., 0., 0., 0., 1., 0., 0., 0., 1., 1., 0., 0., 0., 1.,\n",
       "       0., 1., 0., 1., 0., 1., 1., 0., 0., 0., 1., 1., 1., 1., 1., 0., 1.,\n",
       "       1., 0., 1., 0., 0., 0., 1., 1., 0., 1., 1., 0., 0., 1., 0., 0., 1.,\n",
       "       0., 0., 0., 1., 1., 1., 0., 0., 1., 0., 0., 1., 1.])"
      ]
     },
     "execution_count": 23,
     "metadata": {},
     "output_type": "execute_result"
    }
   ],
   "source": [
    "# Evaluación del modelo \n",
    "Yhat = np.round(reg_log(B,Xa),0)\n",
    "Yhat"
   ]
  },
  {
   "cell_type": "code",
   "execution_count": 25,
   "metadata": {},
   "outputs": [
    {
     "data": {
      "text/plain": [
       "array([0, 1, 0, 0, 1, 0, 0, 1, 0, 0, 1, 0, 1, 0, 1, 0, 1, 0, 1, 1, 1, 0,\n",
       "       1, 0, 1, 1, 0, 1, 1, 1, 0, 1, 0, 1, 0, 1, 0, 0, 1, 0, 1, 0, 0, 1,\n",
       "       0, 0, 0, 0, 0, 0, 0, 0, 0, 0, 0, 0, 1, 0, 0, 0, 1, 1, 1, 1, 1, 0,\n",
       "       1, 1, 0, 1, 1, 1, 1, 1, 1, 1, 1, 1, 0, 1, 1, 1, 0, 0, 1, 1, 0, 0,\n",
       "       0, 1, 0, 1, 1, 1, 0, 0, 1, 0, 0, 1, 1, 1, 0, 0, 1, 0, 1, 1, 0, 1,\n",
       "       1, 0, 0, 0, 1, 0, 1, 1, 1, 0, 1, 0, 1, 1, 1, 1, 1, 0, 1, 0, 0, 1,\n",
       "       0, 0, 1, 0, 0, 1, 1, 0, 0, 0, 0, 1, 0, 0, 0, 1, 1, 0, 0, 0, 1, 0,\n",
       "       1, 0, 1, 0, 1, 1, 0, 0, 0, 1, 1, 1, 1, 1, 0, 1, 1, 0, 1, 0, 0, 0,\n",
       "       1, 1, 0, 1, 1, 0, 0, 1, 0, 0, 1, 0, 0, 0, 1, 1, 1, 0, 0, 1, 0, 0,\n",
       "       1, 1])"
      ]
     },
     "execution_count": 25,
     "metadata": {},
     "output_type": "execute_result"
    }
   ],
   "source": [
    "Y"
   ]
  },
  {
   "cell_type": "code",
   "execution_count": 27,
   "metadata": {},
   "outputs": [
    {
     "name": "stderr",
     "output_type": "stream",
     "text": [
      "<ipython-input-3-0e5fd88abacc>:3: RuntimeWarning: overflow encountered in exp\n",
      "  return 1/(1+np.exp(-x))\n"
     ]
    },
    {
     "data": {
      "image/png": "[encoded data removed]",
      "text/plain": [
       "<Figure size 432x288 with 1 Axes>"
      ]
     },
     "metadata": {
      "needs_background": "light"
     },
     "output_type": "display_data"
    }
   ],
   "source": [
    "# Generar la visualización de la clasificación\n",
    "\n",
    "x = np.arange(-3,5,0.01)\n",
    "y = np.arange(-3,5,0.01)\n",
    "Xm, Ym = np.meshgrid(x,y)\n",
    "m,n = np.shape(Xm)\n",
    "Xmr = np.reshape(Xm,(m*n, 1))\n",
    "Ymr = np.reshape(Ym,(m*n, 1))\n",
    "\n",
    "Xtmp = np.append(Xmr,Ymr, axis=1)\n",
    "Xtmp = np.append(np.ones((len(Xmr),1)), Xtmp, axis=1)\n",
    "Ytmp = np.round(reg_log(B,Xtmp),0)\n",
    "\n",
    "Z=np.reshape(Ytmp, (m,n))\n",
    "plt.contour(Xm,Ym,Z)\n",
    "plt.scatter(X[:,0], X[:,1], c=Y)\n",
    "plt.show()"
   ]
  },
  {
   "cell_type": "code",
   "execution_count": 28,
   "metadata": {},
   "outputs": [
    {
     "name": "stderr",
     "output_type": "stream",
     "text": [
      "<ipython-input-3-0e5fd88abacc>:3: RuntimeWarning: overflow encountered in exp\n",
      "  return 1/(1+np.exp(-x))\n"
     ]
    },
    {
     "data": {
      "image/png": "[encoded data removed]",
      "text/plain": [
       "<Figure size 432x288 with 1 Axes>"
      ]
     },
     "metadata": {
      "needs_background": "light"
     },
     "output_type": "display_data"
    }
   ],
   "source": [
    "\n",
    "x = np.arange(-3,5,0.01)\n",
    "y = np.arange(-3,5,0.01)\n",
    "Xm, Ym = np.meshgrid(x,y)\n",
    "m,n = np.shape(Xm)\n",
    "Xmr = np.reshape(Xm,(m*n, 1))\n",
    "Ymr = np.reshape(Ym,(m*n, 1))\n",
    "\n",
    "Xtmp = np.append(Xmr,Ymr, axis=1)\n",
    "Xtmp = np.append(np.ones((len(Xmr),1)), Xtmp, axis=1)\n",
    "Ytmp = np.round(reg_log(B,Xtmp),0)\n",
    "\n",
    "Z=np.reshape(Ytmp, (m,n))\n",
    "plt.contour(Xm,Ym,Z)\n",
    "plt.scatter(X[:,0], X[:,1], c=Yhat)\n",
    "plt.show()"
   ]
  },
  {
   "cell_type": "code",
   "execution_count": 29,
   "metadata": {},
   "outputs": [
    {
     "data": {
      "text/plain": [
       "array([[ 1.        , -0.48863881, -0.19308437],\n",
       "       [ 1.        ,  3.11546334,  3.16572692],\n",
       "       [ 1.        , -0.41684395, -0.46164155],\n",
       "       [ 1.        ,  0.13531338, -0.59219039],\n",
       "       [ 1.        ,  3.32168802,  3.07585222],\n",
       "       [ 1.        ,  0.22725831, -0.90709876],\n",
       "       [ 1.        ,  0.10319116, -0.31879084],\n",
       "       [ 1.        ,  2.51648254,  2.4615541 ],\n",
       "       [ 1.        , -0.54494553,  0.51778434],\n",
       "       [ 1.        ,  0.87339082,  0.03550423],\n",
       "       [ 1.        ,  2.2339907 ,  2.8504751 ],\n",
       "       [ 1.        ,  0.58130464,  0.19599282],\n",
       "       [ 1.        ,  1.87864499,  3.25200876],\n",
       "       [ 1.        , -0.03957728, -0.79501831],\n",
       "       [ 1.        ,  2.36058422,  2.83888867],\n",
       "       [ 1.        , -0.23874794, -0.55987283],\n",
       "       [ 1.        ,  2.94540817,  3.20232197],\n",
       "       [ 1.        ,  0.24198802,  0.73021486],\n",
       "       [ 1.        ,  3.6760047 ,  3.27348993],\n",
       "       [ 1.        ,  3.50438003,  3.17305751],\n",
       "       [ 1.        ,  1.69486327,  2.42076273],\n",
       "       [ 1.        , -0.05843554, -0.48994085],\n",
       "       [ 1.        ,  3.51954638,  2.24600132],\n",
       "       [ 1.        , -0.10566085,  0.31778337],\n",
       "       [ 1.        ,  3.28935826,  2.26156087],\n",
       "       [ 1.        ,  3.06277017,  3.4482156 ],\n",
       "       [ 1.        , -0.3967345 ,  0.06723392],\n",
       "       [ 1.        ,  2.8632478 ,  2.77498518],\n",
       "       [ 1.        ,  3.0576112 ,  2.91730144],\n",
       "       [ 1.        ,  2.57632256,  2.72353915],\n",
       "       [ 1.        , -0.87752101, -0.30964575],\n",
       "       [ 1.        ,  3.33619258,  3.19837626],\n",
       "       [ 1.        ,  0.09248003, -0.57612665],\n",
       "       [ 1.        ,  2.63672195,  2.65659615],\n",
       "       [ 1.        ,  0.41956431,  0.66041391],\n",
       "       [ 1.        ,  2.91766417,  3.40950904],\n",
       "       [ 1.        ,  0.62066868,  0.46272935],\n",
       "       [ 1.        , -0.89965187,  0.22611053],\n",
       "       [ 1.        ,  2.98658254,  2.52909197],\n",
       "       [ 1.        , -0.04133795,  0.08477463],\n",
       "       [ 1.        ,  3.08503627,  2.63456833],\n",
       "       [ 1.        ,  0.15698992, -0.69636399],\n",
       "       [ 1.        , -0.01482923, -0.08641563],\n",
       "       [ 1.        ,  3.20206714,  3.01486142],\n",
       "       [ 1.        , -0.21520973,  0.23939077],\n",
       "       [ 1.        ,  0.17510342, -0.39955415],\n",
       "       [ 1.        ,  0.02271954,  0.73445026],\n",
       "       [ 1.        ,  0.30344194, -0.39828059],\n",
       "       [ 1.        , -0.90100879,  0.04348106],\n",
       "       [ 1.        , -0.38931769,  0.05607774],\n",
       "       [ 1.        , -0.07057555,  0.99158609],\n",
       "       [ 1.        , -0.26305907,  0.08003756],\n",
       "       [ 1.        ,  0.37950485,  0.14566525],\n",
       "       [ 1.        ,  0.107211  , -0.14009148],\n",
       "       [ 1.        , -0.17172689,  0.1010008 ],\n",
       "       [ 1.        ,  0.06519469,  0.73720255],\n",
       "       [ 1.        ,  2.40492528,  2.30929707],\n",
       "       [ 1.        ,  0.10304978, -0.03179216],\n",
       "       [ 1.        ,  0.97343412, -0.00476119],\n",
       "       [ 1.        , -1.02337754, -0.13792283],\n",
       "       [ 1.        ,  2.6885741 ,  2.44826994],\n",
       "       [ 1.        ,  3.56405728,  2.1270771 ],\n",
       "       [ 1.        ,  2.36312882,  2.99377107],\n",
       "       [ 1.        ,  2.00395078,  3.08387787],\n",
       "       [ 1.        ,  2.24942669,  3.2055186 ],\n",
       "       [ 1.        ,  0.81452676,  0.68435596],\n",
       "       [ 1.        ,  2.86630559,  2.94725772],\n",
       "       [ 1.        ,  2.40052059,  3.53690535],\n",
       "       [ 1.        , -0.24347435,  0.51483743],\n",
       "       [ 1.        ,  2.93639326,  3.13255527],\n",
       "       [ 1.        ,  2.87582732,  3.31091271],\n",
       "       [ 1.        ,  2.35560502,  4.14141141],\n",
       "       [ 1.        ,  3.37452561,  3.55263741],\n",
       "       [ 1.        ,  2.96027062,  3.09375057],\n",
       "       [ 1.        ,  3.75823747,  1.8232897 ],\n",
       "       [ 1.        ,  3.02564672,  2.47536163],\n",
       "       [ 1.        ,  3.69426791,  2.86417227],\n",
       "       [ 1.        ,  2.07590533,  3.14602982],\n",
       "       [ 1.        ,  0.67699538, -0.03070706],\n",
       "       [ 1.        ,  2.33712114,  3.85854541],\n",
       "       [ 1.        ,  3.40695251,  1.87753333],\n",
       "       [ 1.        ,  2.14203865,  3.37369756],\n",
       "       [ 1.        ,  0.07914888,  0.11041466],\n",
       "       [ 1.        ,  0.97722938, -0.00671345],\n",
       "       [ 1.        ,  2.69395704,  3.71870707],\n",
       "       [ 1.        ,  1.81986733,  3.00666757],\n",
       "       [ 1.        ,  0.14053807, -0.18194908],\n",
       "       [ 1.        ,  0.34320202, -0.33824224],\n",
       "       [ 1.        , -0.22614767, -0.11723176],\n",
       "       [ 1.        ,  3.71491752,  2.36671433],\n",
       "       [ 1.        , -0.05849271, -0.74000703],\n",
       "       [ 1.        ,  3.37544858,  3.54481213],\n",
       "       [ 1.        ,  2.66229609,  2.4374214 ],\n",
       "       [ 1.        ,  2.8969056 ,  3.57898529],\n",
       "       [ 1.        , -0.34902467,  0.19294621],\n",
       "       [ 1.        ,  0.22017254,  0.09630311],\n",
       "       [ 1.        ,  3.76005911,  2.63313252],\n",
       "       [ 1.        ,  0.1002329 , -0.24802646],\n",
       "       [ 1.        ,  0.01841631,  0.60473383],\n",
       "       [ 1.        ,  2.60326149,  3.79155183],\n",
       "       [ 1.        ,  2.16003286,  2.97490286],\n",
       "       [ 1.        ,  2.03472541,  1.90209182],\n",
       "       [ 1.        ,  0.17749438,  0.91561891],\n",
       "       [ 1.        ,  0.22940468,  0.13960945],\n",
       "       [ 1.        ,  3.51410826,  2.95863619],\n",
       "       [ 1.        ,  0.0706153 , -0.3515597 ],\n",
       "       [ 1.        ,  2.98090052,  3.15255275],\n",
       "       [ 1.        ,  2.49169398,  3.52339485],\n",
       "       [ 1.        ,  0.32073494, -0.54839561],\n",
       "       [ 1.        ,  2.44236587,  3.20131087],\n",
       "       [ 1.        ,  2.61506093,  3.16085178],\n",
       "       [ 1.        , -1.06534558,  0.1007642 ],\n",
       "       [ 1.        ,  0.32117763, -0.68122486],\n",
       "       [ 1.        ,  0.44265109,  0.31676827],\n",
       "       [ 1.        ,  3.98384504,  3.35257979],\n",
       "       [ 1.        , -0.09388691, -0.09637407],\n",
       "       [ 1.        ,  3.3542779 ,  3.59337826],\n",
       "       [ 1.        ,  2.48923692,  3.21935106],\n",
       "       [ 1.        ,  1.67884124,  3.21007829],\n",
       "       [ 1.        ,  0.45534808, -0.7247483 ],\n",
       "       [ 1.        ,  3.45843389,  2.45539041],\n",
       "       [ 1.        , -0.18219704,  0.2531772 ],\n",
       "       [ 1.        ,  2.99623397,  2.03284402],\n",
       "       [ 1.        ,  3.35254724,  2.56015199],\n",
       "       [ 1.        ,  3.17507621,  3.70458981],\n",
       "       [ 1.        ,  3.78991972,  3.33890072],\n",
       "       [ 1.        ,  2.48008252,  3.04120423],\n",
       "       [ 1.        , -0.64879434,  0.37584017],\n",
       "       [ 1.        ,  2.91416451,  3.07356016],\n",
       "       [ 1.        , -0.50808008, -0.25314452],\n",
       "       [ 1.        ,  0.26153963, -0.67667509],\n",
       "       [ 1.        ,  3.24094098,  4.41160309],\n",
       "       [ 1.        ,  1.11395196, -0.07131365],\n",
       "       [ 1.        ,  0.9132101 , -0.32840247],\n",
       "       [ 1.        ,  2.01453434,  3.4092266 ],\n",
       "       [ 1.        , -0.19191925,  1.04537805],\n",
       "       [ 1.        ,  0.1512597 , -0.15529472],\n",
       "       [ 1.        ,  3.62620301,  3.66930551],\n",
       "       [ 1.        ,  3.45229194,  2.99904261],\n",
       "       [ 1.        , -0.945597  ,  0.52088174],\n",
       "       [ 1.        , -0.11246315,  0.21679569],\n",
       "       [ 1.        ,  0.42985728,  0.7311503 ],\n",
       "       [ 1.        , -0.07548241, -0.17728247],\n",
       "       [ 1.        ,  3.83708108,  2.61115711],\n",
       "       [ 1.        , -0.52203464,  0.10756748],\n",
       "       [ 1.        ,  0.17125037,  0.41501259],\n",
       "       [ 1.        ,  0.32552597, -0.65400288],\n",
       "       [ 1.        ,  2.64688136,  3.38549696],\n",
       "       [ 1.        ,  2.8777923 ,  2.63707739],\n",
       "       [ 1.        ,  0.44346228,  0.59534159],\n",
       "       [ 1.        , -0.2293922 , -0.41935693],\n",
       "       [ 1.        ,  0.30425078,  0.13418245],\n",
       "       [ 1.        ,  2.83541333,  3.20439511],\n",
       "       [ 1.        , -0.2652994 ,  0.08405375],\n",
       "       [ 1.        ,  2.42686589,  4.08767102],\n",
       "       [ 1.        , -0.42436628, -0.41404487],\n",
       "       [ 1.        ,  2.40296655,  2.89029446],\n",
       "       [ 1.        , -1.42837786,  0.43124786],\n",
       "       [ 1.        ,  3.10652645,  2.47837228],\n",
       "       [ 1.        ,  2.55410746,  3.15266241],\n",
       "       [ 1.        ,  0.54151953, -0.49521968],\n",
       "       [ 1.        ,  0.09799869, -0.38562028],\n",
       "       [ 1.        , -0.29404455,  0.74099603],\n",
       "       [ 1.        ,  2.88811493,  3.47440032],\n",
       "       [ 1.        ,  2.84361761,  3.10984886],\n",
       "       [ 1.        ,  3.26396153,  3.26707341],\n",
       "       [ 1.        ,  2.64100215,  3.53376527],\n",
       "       [ 1.        ,  2.66192503,  3.1295643 ],\n",
       "       [ 1.        ,  0.23721844,  0.29871265],\n",
       "       [ 1.        ,  3.47325963,  3.13378409],\n",
       "       [ 1.        ,  2.47070264,  2.50416097],\n",
       "       [ 1.        , -1.04817683, -0.19367507],\n",
       "       [ 1.        ,  2.98375744,  4.10463188],\n",
       "       [ 1.        ,  0.58045562, -0.9394185 ],\n",
       "       [ 1.        , -0.75438718, -0.35784849],\n",
       "       [ 1.        ,  0.09585648, -0.36197356],\n",
       "       [ 1.        ,  2.37358529,  2.69255456],\n",
       "       [ 1.        ,  3.57220765,  2.2326491 ],\n",
       "       [ 1.        ,  0.23891775,  0.80217482],\n",
       "       [ 1.        ,  2.37281164,  2.39034971],\n",
       "       [ 1.        ,  3.912286  ,  3.59610174],\n",
       "       [ 1.        , -0.47321998,  0.14765037],\n",
       "       [ 1.        ,  0.91131712, -0.43961022],\n",
       "       [ 1.        ,  2.95388299,  3.2397641 ],\n",
       "       [ 1.        ,  0.54112055, -1.31920589],\n",
       "       [ 1.        ,  0.16437434, -0.20160537],\n",
       "       [ 1.        ,  2.66468336,  2.88734183],\n",
       "       [ 1.        , -0.58583428, -0.03819417],\n",
       "       [ 1.        , -0.20820714, -0.63169682],\n",
       "       [ 1.        , -0.84077412,  0.97526584],\n",
       "       [ 1.        ,  3.34139305,  2.78300707],\n",
       "       [ 1.        ,  3.68372421,  3.54977771],\n",
       "       [ 1.        ,  2.09499278,  3.10080487],\n",
       "       [ 1.        , -0.07445052,  0.3636206 ],\n",
       "       [ 1.        ,  0.63066897, -1.40744431],\n",
       "       [ 1.        ,  3.27547304,  3.18483678],\n",
       "       [ 1.        , -0.04387228, -0.53121034],\n",
       "       [ 1.        , -0.28069846, -0.12390825],\n",
       "       [ 1.        ,  3.28777187,  2.933094  ],\n",
       "       [ 1.        ,  2.96440219,  3.27078729]])"
      ]
     },
     "execution_count": 29,
     "metadata": {},
     "output_type": "execute_result"
    }
   ],
   "source": [
    "Xa"
   ]
  },
  {
   "cell_type": "code",
   "execution_count": 34,
   "metadata": {},
   "outputs": [
    {
     "data": {
      "text/plain": [
       "array([[1. , 4. , 2. ],\n",
       "       [1. , 2.5, 0.5]])"
      ]
     },
     "execution_count": 34,
     "metadata": {},
     "output_type": "execute_result"
    }
   ],
   "source": [
    "# Prediciión\n",
    "Xnew =np.array([[1,4,2],\n",
    "        [1,2.5,0.5]])\n",
    "Xnew"
   ]
  },
  {
   "cell_type": "code",
   "execution_count": 35,
   "metadata": {},
   "outputs": [
    {
     "name": "stderr",
     "output_type": "stream",
     "text": [
      "<ipython-input-3-0e5fd88abacc>:3: RuntimeWarning: overflow encountered in exp\n",
      "  return 1/(1+np.exp(-x))\n"
     ]
    }
   ],
   "source": [
    "Yhat_new = np.round(reg_log(B,Xnew),0)"
   ]
  },
  {
   "cell_type": "code",
   "execution_count": 36,
   "metadata": {},
   "outputs": [
    {
     "data": {
      "text/plain": [
       "array([1., 0.])"
      ]
     },
     "execution_count": 36,
     "metadata": {},
     "output_type": "execute_result"
    }
   ],
   "source": [
    "Yhat_new"
   ]
  },
  {
   "cell_type": "code",
   "execution_count": null,
   "metadata": {},
   "outputs": [],
   "source": []
  }
 ],
 "metadata": {
  "kernelspec": {
   "display_name": "Python 3",
   "language": "python",
   "name": "python3"
  },
  "language_info": {
   "codemirror_mode": {
    "name": "ipython",
    "version": 3
   },
   "file_extension": ".py",
   "mimetype": "text/x-python",
   "name": "python",
   "nbconvert_exporter": "python",
   "pygments_lexer": "ipython3",
   "version": "3.8.8"
  }
 },
 "nbformat": 4,
 "nbformat_minor": 2
}
