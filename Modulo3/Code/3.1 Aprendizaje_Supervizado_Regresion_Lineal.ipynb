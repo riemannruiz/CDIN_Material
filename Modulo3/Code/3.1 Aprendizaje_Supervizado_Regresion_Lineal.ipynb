{
 "cells": [
  {
   "cell_type": "markdown",
   "metadata": {},
   "source": [
    "<img style=\"float: left;;\" src='../Imagenes/iteso.jpg' width=\"50\" height=\"100\"/></a>\n",
    "\n",
    "# <center> <font color= #000047> Módulo III: Aprendizaje supervizado: Regresión Lineal "
   ]
  },
  {
   "cell_type": "markdown",
   "metadata": {},
   "source": [
    "## Introducción"
   ]
  },
  {
   "cell_type": "markdown",
   "metadata": {},
   "source": [
    "El Aprendizaje Supervizado se podría definir como un tipo de aprendizaje en IA en el que un algoritmo es entrenado con variables que incluyen los valores que queremos predecir; a estos valores conocidos se les llama `“etiquetas”` y se usan también para la evaluación del modelo. El aprendizaje supervisado se puede subdividir en dos tipos: \n",
    "\n",
    "- Clasificación\n",
    "\n",
    "- Regresión."
   ]
  },
  {
   "cell_type": "markdown",
   "metadata": {},
   "source": [
    "### Clasificación\n",
    "\n",
    "En cuanto a clasificación, el objetivo es predecir las etiquetas de clase categóricas de nuevos registros, con base en observaciones pasadas. Dependiendo de la etiqueta, se puede decir que la clasificación es binaria o multiclase. "
   ]
  },
  {
   "cell_type": "markdown",
   "metadata": {},
   "source": [
    "### Regresión\n",
    "\n",
    "Respecto a regresión, se trata del proceso estadístico predictivo en el que el modelo intenta predecir un valor continuo (como ventas, precio, calificaciones) mediante la relación entre variables dependientes e independientes. Es decir, se encuentra una ecuación en la que se sustituyen los valores de las variables y como resultado se obtiene el valor a predecir "
   ]
  },
  {
   "cell_type": "markdown",
   "metadata": {},
   "source": [
    "### Algunos algortimos de Aprendizaje Supervizado\n",
    "\n",
    "- **Regresión lineal:** Se trata de una regresión en la que al graficar la ecuación se forma una línea recta. Para obtener dicha ecuación, se usa el método de los cuadrados mínimos.\n",
    "\n",
    "\n",
    "- **Regresión logística:** Es una regresión usada principalmente en problemas de clasificación binaria. A pesar de la aparente incongruencia, se trata de una regresión porque el resultado de la ecuación es la probabilidad de que pertenezca a una clase, que dependiendo del umbral que se utilice, se clasifica como positivo o negativo.\n",
    "\n",
    "\n",
    "- **Support Vector Machine (SVM):** Típicamente se usa para problemas de clasificación, pero también se puede usar para regresión. En este algoritmo se construye un hiperplano que separa las clases de datos lo más posible.\n",
    "\n",
    "\n",
    "- **Árboles de decisión:** Algoritmo de clasificación similar a un diagrama de flujo, en el que se evalúan valores en cada nodo para llegar a una clasificación al final.\n",
    "\n",
    "\n",
    "- **Random Forest:** Este algoritmo consiste en combinar una gran cantidad de árboles de decisión independientes entre sí para reducir la varianza. Debido al conjunto de árboles, se le dio el nombre de “bosque”.\n",
    "\n"
   ]
  },
  {
   "cell_type": "markdown",
   "metadata": {},
   "source": [
    "## Regresión Lineal"
   ]
  },
  {
   "cell_type": "code",
   "execution_count": 1,
   "metadata": {},
   "outputs": [],
   "source": [
    "import numpy as np\n",
    "import pandas as pd\n",
    "import matplotlib.pyplot as plt\n"
   ]
  },
  {
   "cell_type": "code",
   "execution_count": 2,
   "metadata": {},
   "outputs": [
    {
     "data": {
      "text/html": [
       "<div>\n",
       "<style scoped>\n",
       "    .dataframe tbody tr th:only-of-type {\n",
       "        vertical-align: middle;\n",
       "    }\n",
       "\n",
       "    .dataframe tbody tr th {\n",
       "        vertical-align: top;\n",
       "    }\n",
       "\n",
       "    .dataframe thead th {\n",
       "        text-align: right;\n",
       "    }\n",
       "</style>\n",
       "<table border=\"1\" class=\"dataframe\">\n",
       "  <thead>\n",
       "    <tr style=\"text-align: right;\">\n",
       "      <th></th>\n",
       "      <th>population</th>\n",
       "      <th>profit</th>\n",
       "    </tr>\n",
       "  </thead>\n",
       "  <tbody>\n",
       "    <tr>\n",
       "      <th>0</th>\n",
       "      <td>6.1101</td>\n",
       "      <td>17.59200</td>\n",
       "    </tr>\n",
       "    <tr>\n",
       "      <th>1</th>\n",
       "      <td>5.5277</td>\n",
       "      <td>9.13020</td>\n",
       "    </tr>\n",
       "    <tr>\n",
       "      <th>2</th>\n",
       "      <td>8.5186</td>\n",
       "      <td>13.66200</td>\n",
       "    </tr>\n",
       "    <tr>\n",
       "      <th>3</th>\n",
       "      <td>7.0032</td>\n",
       "      <td>11.85400</td>\n",
       "    </tr>\n",
       "    <tr>\n",
       "      <th>4</th>\n",
       "      <td>5.8598</td>\n",
       "      <td>6.82330</td>\n",
       "    </tr>\n",
       "    <tr>\n",
       "      <th>...</th>\n",
       "      <td>...</td>\n",
       "      <td>...</td>\n",
       "    </tr>\n",
       "    <tr>\n",
       "      <th>92</th>\n",
       "      <td>5.8707</td>\n",
       "      <td>7.20290</td>\n",
       "    </tr>\n",
       "    <tr>\n",
       "      <th>93</th>\n",
       "      <td>5.3054</td>\n",
       "      <td>1.98690</td>\n",
       "    </tr>\n",
       "    <tr>\n",
       "      <th>94</th>\n",
       "      <td>8.2934</td>\n",
       "      <td>0.14454</td>\n",
       "    </tr>\n",
       "    <tr>\n",
       "      <th>95</th>\n",
       "      <td>13.3940</td>\n",
       "      <td>9.05510</td>\n",
       "    </tr>\n",
       "    <tr>\n",
       "      <th>96</th>\n",
       "      <td>5.4369</td>\n",
       "      <td>0.61705</td>\n",
       "    </tr>\n",
       "  </tbody>\n",
       "</table>\n",
       "<p>97 rows × 2 columns</p>\n",
       "</div>"
      ],
      "text/plain": [
       "    population    profit\n",
       "0       6.1101  17.59200\n",
       "1       5.5277   9.13020\n",
       "2       8.5186  13.66200\n",
       "3       7.0032  11.85400\n",
       "4       5.8598   6.82330\n",
       "..         ...       ...\n",
       "92      5.8707   7.20290\n",
       "93      5.3054   1.98690\n",
       "94      8.2934   0.14454\n",
       "95     13.3940   9.05510\n",
       "96      5.4369   0.61705\n",
       "\n",
       "[97 rows x 2 columns]"
      ]
     },
     "execution_count": 2,
     "metadata": {},
     "output_type": "execute_result"
    }
   ],
   "source": [
    "data = pd.read_csv('../Data/ex1data1.txt', names=['population','profit'])\n",
    "data"
   ]
  },
  {
   "cell_type": "code",
   "execution_count": 3,
   "metadata": {},
   "outputs": [
    {
     "data": {
      "image/png": "[encoded data removed]",
      "text/plain": [
       "<Figure size 432x288 with 1 Axes>"
      ]
     },
     "metadata": {
      "needs_background": "light"
     },
     "output_type": "display_data"
    }
   ],
   "source": [
    "plt.figure(figsize=(6,4))\n",
    "plt.scatter(data['population'], data['profit'])\n",
    "plt.xlabel('population')\n",
    "plt.ylabel('profit')\n",
    "plt.show()"
   ]
  },
  {
   "cell_type": "code",
   "execution_count": 4,
   "metadata": {},
   "outputs": [],
   "source": [
    "# modelo matemático de la regresión lineal\n",
    "X_df = pd.DataFrame(data.population)\n",
    "y_df = pd.DataFrame(data.profit)"
   ]
  },
  {
   "cell_type": "code",
   "execution_count": null,
   "metadata": {},
   "outputs": [],
   "source": []
  },
  {
   "cell_type": "markdown",
   "metadata": {},
   "source": [
    "El objetivo es estimar el modelo:\n",
    "\n",
    "$$ \\hat{y} = \\beta_1 x + \\beta_0$$\n",
    "\n",
    "donde $\\beta_1$ es la pendiente y $\\beta_0$ es la distancia de la intersección con el eje y.\n",
    "\n",
    "Podemos estima mediante una ecuación matricial:\n",
    "\n",
    "$$\\hat{y}=X\\beta$$\n",
    "\n",
    "$$X=[x;1]$$\n",
    "$$\\beta=[\\beta_1 \\beta_0]$$\n"
   ]
  },
  {
   "cell_type": "code",
   "execution_count": 5,
   "metadata": {},
   "outputs": [
    {
     "data": {
      "image/png": "[encoded data removed]",
      "text/plain": [
       "<Figure size 432x288 with 1 Axes>"
      ]
     },
     "metadata": {
      "needs_background": "light"
     },
     "output_type": "display_data"
    }
   ],
   "source": [
    "plt.figure(figsize=(6,4))\n",
    "plt.scatter(data['population'], data['profit'])\n",
    "plt.plot([5,22],[6,6], '-')\n",
    "plt.plot([5,22],[0,20], '-')\n",
    "plt.plot([5,15],[-5,25], '-')\n",
    "\n",
    "plt.xlabel('population')\n",
    "plt.ylabel('profit')\n",
    "plt.show()"
   ]
  },
  {
   "cell_type": "code",
   "execution_count": null,
   "metadata": {},
   "outputs": [],
   "source": []
  },
  {
   "cell_type": "markdown",
   "metadata": {},
   "source": [
    "# Implementar la función de costo \n",
    "\n",
    "Formalmente definimos la funcion de costo como el error cuadrático medio, qué deberemos minimizar.\n",
    "\n",
    "$$ J(\\beta) = \\frac{1}{2m}\\sum_{i=1}^m (\\hat{y}(x_i) - y_i)^2$$\n",
    "\n",
    "$\\beta = [\\beta_0, \\beta_1]$\n",
    "\n",
    "si derivamos parcialmente e igualamos a cero $\\frac{\\partial J(\\beta)}{\\partial \\beta}=0$\n",
    "\n",
    "### Tarea encontrar mediante las derivadas parciales las ecuciones siguientes:\n",
    "\n",
    "\n",
    "tendríamos que las ecuaciones del algoritmo de gradiente descendente son:\n",
    "\n",
    "$$ \\beta_0 = \\beta_0 - \\alpha \\frac{1}{m} \\sum_{i=1}^m (\\hat{y}(x_i) - y_i)$$\n",
    "\n",
    "$$ \\beta_1 = \\beta_1 - \\alpha \\frac{1}{m} \\sum_{i=1}^m (\\hat{y}(x_i) - y_i)x_i$$\n",
    "\n"
   ]
  },
  {
   "cell_type": "code",
   "execution_count": 6,
   "metadata": {},
   "outputs": [],
   "source": [
    "#Graficar un función de costo cualquiera\n",
    "x_quad = [n/10 for n in range(0,100)]\n",
    "y_quad = [(n-4)**2 + 5 for n in x_quad]\n"
   ]
  },
  {
   "cell_type": "code",
   "execution_count": 7,
   "metadata": {},
   "outputs": [
    {
     "data": {
      "image/png": "[encoded data removed]",
      "text/plain": [
       "<Figure size 432x288 with 1 Axes>"
      ]
     },
     "metadata": {
      "needs_background": "light"
     },
     "output_type": "display_data"
    }
   ],
   "source": [
    "plt.figure(figsize=(6,4))\n",
    "plt.plot(x_quad, y_quad, 'k--')\n",
    "plt.axis([0,10,0,30])\n",
    "plt.plot([1,2,3],[14,9,6], 'ro')\n",
    "plt.plot([5,7,8],[6,14,21], 'bo')\n",
    "plt.xlabel('x')\n",
    "plt.ylabel('f(x)')\n",
    "plt.show()"
   ]
  },
  {
   "cell_type": "markdown",
   "metadata": {},
   "source": [
    "$$X=[1;x]$$\n",
    "$$\\beta=[\\beta_0;\\beta_1]$$\n",
    "$$\\hat{y}=X^T\\beta = \\beta_1 x +\\beta_0$$\n"
   ]
  },
  {
   "cell_type": "code",
   "execution_count": 8,
   "metadata": {},
   "outputs": [],
   "source": [
    "def cost_function(X, y, beta):\n",
    "    m = len(y)\n",
    "    #Calcular la función de costo\n",
    "    J = np.sum((X.dot(beta) - y)**2)/(2*m)\n",
    "    return J\n"
   ]
  },
  {
   "cell_type": "code",
   "execution_count": 9,
   "metadata": {},
   "outputs": [],
   "source": [
    "#X=[1;x]\n",
    "X_df['intercept']=1\n"
   ]
  },
  {
   "cell_type": "code",
   "execution_count": 10,
   "metadata": {},
   "outputs": [],
   "source": [
    "X=np.array(X_df)\n",
    "y=np.array(y_df).flatten()\n",
    "beta = np.array([0,0])\n"
   ]
  },
  {
   "cell_type": "code",
   "execution_count": 11,
   "metadata": {},
   "outputs": [
    {
     "data": {
      "text/plain": [
       "32.072733877455676"
      ]
     },
     "execution_count": 11,
     "metadata": {},
     "output_type": "execute_result"
    }
   ],
   "source": [
    "cost_function(X, y, beta)"
   ]
  },
  {
   "cell_type": "code",
   "execution_count": 12,
   "metadata": {},
   "outputs": [],
   "source": [
    "#algoritmo de gradiente descendente\n",
    "\n",
    "def gradient_descent(X,y, beta, alpha, iterations):\n",
    "    cost_history = [0]*iterations\n",
    "    m = len(y)\n",
    "    for iteration in range(iterations):\n",
    "        y_hat = X.dot(beta)\n",
    "        loss = (y_hat - y)\n",
    "        gradiente = X.T.dot(loss)/m\n",
    "        beta = beta - alpha*gradiente\n",
    "        \n",
    "        cost = cost_function(X, y, beta)\n",
    "        cost_history[iteration] = cost\n",
    "        \n",
    "    return beta, cost_history\n"
   ]
  },
  {
   "cell_type": "code",
   "execution_count": 13,
   "metadata": {},
   "outputs": [],
   "source": [
    "#inicializamos los parámetros\n",
    "iterations = 15000\n",
    "alpha = 0.01\n"
   ]
  },
  {
   "cell_type": "code",
   "execution_count": 14,
   "metadata": {},
   "outputs": [],
   "source": [
    "(beta, cost_history) = gradient_descent(X,y,beta, alpha, iterations)"
   ]
  },
  {
   "cell_type": "code",
   "execution_count": 15,
   "metadata": {},
   "outputs": [
    {
     "data": {
      "text/plain": [
       "array([17.592  ,  9.1302 , 13.662  , 11.854  ,  6.8233 , 11.886  ,\n",
       "        4.3483 , 12.     ,  6.5987 ,  3.8166 ,  3.2522 , 15.505  ,\n",
       "        3.1551 ,  7.2258 ,  0.71618,  3.5129 ,  5.3048 ,  0.56077,\n",
       "        3.6518 ,  5.3893 ,  3.1386 , 21.767  ,  4.263  ,  5.1875 ,\n",
       "        3.0825 , 22.638  , 13.501  ,  7.0467 , 14.692  , 24.147  ,\n",
       "       -1.22   ,  5.9966 , 12.134  ,  1.8495 ,  6.5426 ,  4.5623 ,\n",
       "        4.1164 ,  3.3928 , 10.117  ,  5.4974 ,  0.55657,  3.9115 ,\n",
       "        5.3854 ,  2.4406 ,  6.7318 ,  1.0463 ,  5.1337 ,  1.844  ,\n",
       "        8.0043 ,  1.0179 ,  6.7504 ,  1.8396 ,  4.2885 ,  4.9981 ,\n",
       "        1.4233 , -1.4211 ,  2.4756 ,  4.6042 ,  3.9624 ,  5.4141 ,\n",
       "        5.1694 , -0.74279, 17.929  , 12.054  , 17.054  ,  4.8852 ,\n",
       "        5.7442 ,  7.7754 ,  1.0173 , 20.992  ,  6.6799 ,  4.0259 ,\n",
       "        1.2784 ,  3.3411 , -2.6807 ,  0.29678,  3.8845 ,  5.7014 ,\n",
       "        6.7526 ,  2.0576 ,  0.47953,  0.20421,  0.67861,  7.5435 ,\n",
       "        5.3436 ,  4.2415 ,  6.7981 ,  0.92695,  0.152  ,  2.8214 ,\n",
       "        1.8451 ,  4.2959 ,  7.2029 ,  1.9869 ,  0.14454,  9.0551 ,\n",
       "        0.61705])"
      ]
     },
     "execution_count": 15,
     "metadata": {},
     "output_type": "execute_result"
    }
   ],
   "source": [
    "y"
   ]
  },
  {
   "cell_type": "code",
   "execution_count": 16,
   "metadata": {},
   "outputs": [
    {
     "data": {
      "text/plain": [
       "array([[ 6.1101,  1.    ],\n",
       "       [ 5.5277,  1.    ],\n",
       "       [ 8.5186,  1.    ],\n",
       "       [ 7.0032,  1.    ],\n",
       "       [ 5.8598,  1.    ],\n",
       "       [ 8.3829,  1.    ],\n",
       "       [ 7.4764,  1.    ],\n",
       "       [ 8.5781,  1.    ],\n",
       "       [ 6.4862,  1.    ],\n",
       "       [ 5.0546,  1.    ],\n",
       "       [ 5.7107,  1.    ],\n",
       "       [14.164 ,  1.    ],\n",
       "       [ 5.734 ,  1.    ],\n",
       "       [ 8.4084,  1.    ],\n",
       "       [ 5.6407,  1.    ],\n",
       "       [ 5.3794,  1.    ],\n",
       "       [ 6.3654,  1.    ],\n",
       "       [ 5.1301,  1.    ],\n",
       "       [ 6.4296,  1.    ],\n",
       "       [ 7.0708,  1.    ],\n",
       "       [ 6.1891,  1.    ],\n",
       "       [20.27  ,  1.    ],\n",
       "       [ 5.4901,  1.    ],\n",
       "       [ 6.3261,  1.    ],\n",
       "       [ 5.5649,  1.    ],\n",
       "       [18.945 ,  1.    ],\n",
       "       [12.828 ,  1.    ],\n",
       "       [10.957 ,  1.    ],\n",
       "       [13.176 ,  1.    ],\n",
       "       [22.203 ,  1.    ],\n",
       "       [ 5.2524,  1.    ],\n",
       "       [ 6.5894,  1.    ],\n",
       "       [ 9.2482,  1.    ],\n",
       "       [ 5.8918,  1.    ],\n",
       "       [ 8.2111,  1.    ],\n",
       "       [ 7.9334,  1.    ],\n",
       "       [ 8.0959,  1.    ],\n",
       "       [ 5.6063,  1.    ],\n",
       "       [12.836 ,  1.    ],\n",
       "       [ 6.3534,  1.    ],\n",
       "       [ 5.4069,  1.    ],\n",
       "       [ 6.8825,  1.    ],\n",
       "       [11.708 ,  1.    ],\n",
       "       [ 5.7737,  1.    ],\n",
       "       [ 7.8247,  1.    ],\n",
       "       [ 7.0931,  1.    ],\n",
       "       [ 5.0702,  1.    ],\n",
       "       [ 5.8014,  1.    ],\n",
       "       [11.7   ,  1.    ],\n",
       "       [ 5.5416,  1.    ],\n",
       "       [ 7.5402,  1.    ],\n",
       "       [ 5.3077,  1.    ],\n",
       "       [ 7.4239,  1.    ],\n",
       "       [ 7.6031,  1.    ],\n",
       "       [ 6.3328,  1.    ],\n",
       "       [ 6.3589,  1.    ],\n",
       "       [ 6.2742,  1.    ],\n",
       "       [ 5.6397,  1.    ],\n",
       "       [ 9.3102,  1.    ],\n",
       "       [ 9.4536,  1.    ],\n",
       "       [ 8.8254,  1.    ],\n",
       "       [ 5.1793,  1.    ],\n",
       "       [21.279 ,  1.    ],\n",
       "       [14.908 ,  1.    ],\n",
       "       [18.959 ,  1.    ],\n",
       "       [ 7.2182,  1.    ],\n",
       "       [ 8.2951,  1.    ],\n",
       "       [10.236 ,  1.    ],\n",
       "       [ 5.4994,  1.    ],\n",
       "       [20.341 ,  1.    ],\n",
       "       [10.136 ,  1.    ],\n",
       "       [ 7.3345,  1.    ],\n",
       "       [ 6.0062,  1.    ],\n",
       "       [ 7.2259,  1.    ],\n",
       "       [ 5.0269,  1.    ],\n",
       "       [ 6.5479,  1.    ],\n",
       "       [ 7.5386,  1.    ],\n",
       "       [ 5.0365,  1.    ],\n",
       "       [10.274 ,  1.    ],\n",
       "       [ 5.1077,  1.    ],\n",
       "       [ 5.7292,  1.    ],\n",
       "       [ 5.1884,  1.    ],\n",
       "       [ 6.3557,  1.    ],\n",
       "       [ 9.7687,  1.    ],\n",
       "       [ 6.5159,  1.    ],\n",
       "       [ 8.5172,  1.    ],\n",
       "       [ 9.1802,  1.    ],\n",
       "       [ 6.002 ,  1.    ],\n",
       "       [ 5.5204,  1.    ],\n",
       "       [ 5.0594,  1.    ],\n",
       "       [ 5.7077,  1.    ],\n",
       "       [ 7.6366,  1.    ],\n",
       "       [ 5.8707,  1.    ],\n",
       "       [ 5.3054,  1.    ],\n",
       "       [ 8.2934,  1.    ],\n",
       "       [13.394 ,  1.    ],\n",
       "       [ 5.4369,  1.    ]])"
      ]
     },
     "execution_count": 16,
     "metadata": {},
     "output_type": "execute_result"
    }
   ],
   "source": [
    "X"
   ]
  },
  {
   "cell_type": "code",
   "execution_count": 17,
   "metadata": {},
   "outputs": [
    {
     "data": {
      "text/plain": [
       "array([ 1.19303364, -3.89578088])"
      ]
     },
     "execution_count": 17,
     "metadata": {},
     "output_type": "execute_result"
    }
   ],
   "source": [
    "beta"
   ]
  },
  {
   "cell_type": "markdown",
   "metadata": {},
   "source": [
    "El objetivo es estimar el modelo:\n",
    "\n",
    "$$ \\hat{y} = 1.193 x + -3.8957$$"
   ]
  },
  {
   "cell_type": "code",
   "execution_count": 18,
   "metadata": {},
   "outputs": [],
   "source": [
    "# Graficar la recta resultamte que más se ajusta a lso datos\n",
    "best_fit_x = np.linspace(0,25,20)\n",
    "y_hat_fit = [beta[1] + beta[0]*c for c in best_fit_x] \n"
   ]
  },
  {
   "cell_type": "code",
   "execution_count": 19,
   "metadata": {},
   "outputs": [
    {
     "data": {
      "image/png": "[encoded data removed]",
      "text/plain": [
       "<Figure size 432x288 with 1 Axes>"
      ]
     },
     "metadata": {
      "needs_background": "light"
     },
     "output_type": "display_data"
    }
   ],
   "source": [
    "plt.figure(figsize=(6,4))\n",
    "plt.scatter(data['population'], data['profit'])\n",
    "plt.plot(best_fit_x, y_hat_fit, '-r')\n",
    "plt.xlabel('population')\n",
    "plt.ylabel('profit')\n",
    "plt.show()"
   ]
  },
  {
   "cell_type": "code",
   "execution_count": 20,
   "metadata": {},
   "outputs": [
    {
     "data": {
      "text/plain": [
       "[6.737190464870009,\n",
       " 5.931593568604956,\n",
       " 5.901154707081388,\n",
       " 5.895228586444221,\n",
       " 5.8900949431173295,\n",
       " 5.885004158443647,\n",
       " 5.879932480491418,\n",
       " 5.874879094762575,\n",
       " 5.869843911806385,\n",
       " 5.8648268653129305,\n",
       " 5.859827889932181,\n",
       " 5.85484692057229,\n",
       " 5.849883892376587,\n",
       " 5.844938740722034,\n",
       " 5.840011401218361,\n",
       " 5.8351018097072265,\n",
       " 5.830209902261388,\n",
       " 5.825335615183863,\n",
       " 5.820478885007099,\n",
       " 5.815639648492154,\n",
       " 5.810817842627869,\n",
       " 5.806013404630044,\n",
       " 5.801226271940628,\n",
       " 5.7964563822269,\n",
       " 5.7917036733806535,\n",
       " 5.7869680835173956,\n",
       " 5.782249550975539,\n",
       " 5.777548014315596,\n",
       " 5.772863412319382,\n",
       " 5.768195683989214,\n",
       " 5.76354476854712,\n",
       " 5.758910605434047,\n",
       " 5.754293134309077,\n",
       " 5.749692295048629,\n",
       " 5.745108027745684,\n",
       " 5.740540272709012,\n",
       " 5.735988970462381,\n",
       " 5.731454061743792,\n",
       " 5.726935487504702,\n",
       " 5.722433188909257,\n",
       " 5.717947107333528,\n",
       " 5.713477184364749,\n",
       " 5.709023361800549,\n",
       " 5.704585581648199,\n",
       " 5.700163786123857,\n",
       " 5.695757917651815,\n",
       " 5.691367918863752,\n",
       " 5.68699373259798,\n",
       " 5.682635301898707,\n",
       " 5.678292570015292,\n",
       " 5.673965480401506,\n",
       " 5.669653976714796,\n",
       " 5.6653580028155535,\n",
       " 5.6610775027663784,\n",
       " 5.656812420831359,\n",
       " 5.6525627014753335,\n",
       " 5.648328289363181,\n",
       " 5.644109129359092,\n",
       " 5.639905166525854,\n",
       " 5.635716346124135,\n",
       " 5.631542613611772,\n",
       " 5.627383914643055,\n",
       " 5.623240195068026,\n",
       " 5.619111400931778,\n",
       " 5.61499747847374,\n",
       " 5.610898374126984,\n",
       " 5.606814034517531,\n",
       " 5.602744406463646,\n",
       " 5.59868943697516,\n",
       " 5.59464907325276,\n",
       " 5.590623262687323,\n",
       " 5.586611952859217,\n",
       " 5.5826150915376225,\n",
       " 5.578632626679853,\n",
       " 5.574664506430678,\n",
       " 5.570710679121643,\n",
       " 5.566771093270403,\n",
       " 5.562845697580051,\n",
       " 5.558934440938442,\n",
       " 5.555037272417543,\n",
       " 5.551154141272754,\n",
       " 5.547284996942256,\n",
       " 5.5434297890463515,\n",
       " 5.539588467386808,\n",
       " 5.535760981946204,\n",
       " 5.531947282887275,\n",
       " 5.5281473205522715,\n",
       " 5.524361045462306,\n",
       " 5.520588408316713,\n",
       " 5.5168293599924025,\n",
       " 5.513083851543225,\n",
       " 5.5093518341993315,\n",
       " 5.5056332593665385,\n",
       " 5.501928078625699,\n",
       " 5.498236243732065,\n",
       " 5.494557706614666,\n",
       " 5.490892419375677,\n",
       " 5.487240334289805,\n",
       " 5.483601403803652,\n",
       " 5.479975580535112,\n",
       " 5.476362817272741,\n",
       " 5.472763066975151,\n",
       " 5.469176282770398,\n",
       " 5.465602417955358,\n",
       " 5.462041425995137,\n",
       " 5.4584932605224585,\n",
       " 5.454957875337047,\n",
       " 5.451435224405051,\n",
       " 5.4479252618584235,\n",
       " 5.444427941994333,\n",
       " 5.440943219274565,\n",
       " 5.437471048324934,\n",
       " 5.434011383934687,\n",
       " 5.430564181055919,\n",
       " 5.427129394802985,\n",
       " 5.423706980451918,\n",
       " 5.420296893439836,\n",
       " 5.416899089364382,\n",
       " 5.413513523983123,\n",
       " 5.410140153212988,\n",
       " 5.406778933129694,\n",
       " 5.403429819967165,\n",
       " 5.400092770116975,\n",
       " 5.396767740127768,\n",
       " 5.393454686704697,\n",
       " 5.390153566708862,\n",
       " 5.386864337156746,\n",
       " 5.383586955219661,\n",
       " 5.380321378223178,\n",
       " 5.37706756364658,\n",
       " 5.373825469122317,\n",
       " 5.37059505243543,\n",
       " 5.367376271523024,\n",
       " 5.364169084473712,\n",
       " 5.360973449527068,\n",
       " 5.357789325073084,\n",
       " 5.354616669651632,\n",
       " 5.3514554419519165,\n",
       " 5.348305600811943,\n",
       " 5.34516710521798,\n",
       " 5.342039914304029,\n",
       " 5.338923987351284,\n",
       " 5.335819283787603,\n",
       " 5.332725763186988,\n",
       " 5.329643385269053,\n",
       " 5.326572109898499,\n",
       " 5.323511897084587,\n",
       " 5.32046270698063,\n",
       " 5.317424499883461,\n",
       " 5.314397236232924,\n",
       " 5.311380876611354,\n",
       " 5.3083753817430726,\n",
       " 5.305380712493861,\n",
       " 5.302396829870465,\n",
       " 5.2994236950200815,\n",
       " 5.296461269229852,\n",
       " 5.29350951392636,\n",
       " 5.290568390675129,\n",
       " 5.287637861180118,\n",
       " 5.284717887283231,\n",
       " 5.281808430963811,\n",
       " 5.278909454338153,\n",
       " 5.276020919659,\n",
       " 5.273142789315069,\n",
       " 5.270275025830544,\n",
       " 5.267417591864593,\n",
       " 5.264570450210886,\n",
       " 5.261733563797111,\n",
       " 5.258906895684483,\n",
       " 5.256090409067274,\n",
       " 5.253284067272322,\n",
       " 5.250487833758565,\n",
       " 5.2477016721165555,\n",
       " 5.244925546067995,\n",
       " 5.242159419465253,\n",
       " 5.2394032562909025,\n",
       " 5.236657020657251,\n",
       " 5.2339206768058695,\n",
       " 5.2311941891071285,\n",
       " 5.228477522059736,\n",
       " 5.225770640290271,\n",
       " 5.223073508552729,\n",
       " 5.220386091728056,\n",
       " 5.217708354823696,\n",
       " 5.215040262973137,\n",
       " 5.212381781435449,\n",
       " 5.2097328755948435,\n",
       " 5.207093510960208,\n",
       " 5.204463653164672,\n",
       " 5.201843267965149,\n",
       " 5.199232321241896,\n",
       " 5.196630778998063,\n",
       " 5.194038607359259,\n",
       " 5.191455772573107,\n",
       " 5.188882241008802,\n",
       " 5.1863179791566765,\n",
       " 5.18376295362776,\n",
       " 5.181217131153349,\n",
       " 5.1786804785845755,\n",
       " 5.176152962891967,\n",
       " 5.173634551165021,\n",
       " 5.171125210611782,\n",
       " 5.168624908558404,\n",
       " 5.166133612448731,\n",
       " 5.163651289843875,\n",
       " 5.161177908421789,\n",
       " 5.15871343597685,\n",
       " 5.156257840419434,\n",
       " 5.153811089775505,\n",
       " 5.151373152186197,\n",
       " 5.148943995907395,\n",
       " 5.146523589309322,\n",
       " 5.144111900876139,\n",
       " 5.141708899205515,\n",
       " 5.139314553008234,\n",
       " 5.136928831107778,\n",
       " 5.134551702439932,\n",
       " 5.132183136052364,\n",
       " 5.129823101104237,\n",
       " 5.127471566865799,\n",
       " 5.12512850271798,\n",
       " 5.122793878152007,\n",
       " 5.120467662768992,\n",
       " 5.118149826279542,\n",
       " 5.115840338503367,\n",
       " 5.113539169368884,\n",
       " 5.111246288912825,\n",
       " 5.108961667279848,\n",
       " 5.10668527472215,\n",
       " 5.104417081599077,\n",
       " 5.102157058376736,\n",
       " 5.099905175627619,\n",
       " 5.097661404030211,\n",
       " 5.09542571436861,\n",
       " 5.093198077532151,\n",
       " 5.090978464515021,\n",
       " 5.088766846415887,\n",
       " 5.086563194437517,\n",
       " 5.084367479886401,\n",
       " 5.082179674172386,\n",
       " 5.079999748808297,\n",
       " 5.0778276754095675,\n",
       " 5.075663425693872,\n",
       " 5.073506971480756,\n",
       " 5.071358284691268,\n",
       " 5.069217337347596,\n",
       " 5.067084101572705,\n",
       " 5.064958549589969,\n",
       " 5.06284065372281,\n",
       " 5.060730386394342,\n",
       " 5.05862772012701,\n",
       " 5.056532627542231,\n",
       " 5.0544450813600355,\n",
       " 5.052365054398719,\n",
       " 5.050292519574479,\n",
       " 5.0482274499010735,\n",
       " 5.046169818489457,\n",
       " 5.044119598547441,\n",
       " 5.042076763379341,\n",
       " 5.040041286385627,\n",
       " 5.038013141062576,\n",
       " 5.035992301001939,\n",
       " 5.033978739890578,\n",
       " 5.031972431510141,\n",
       " 5.029973349736707,\n",
       " 5.027981468540455,\n",
       " 5.025996761985324,\n",
       " 5.024019204228667,\n",
       " 5.022048769520927,\n",
       " 5.020085432205293,\n",
       " 5.018129166717367,\n",
       " 5.016179947584834,\n",
       " 5.014237749427129,\n",
       " 5.012302546955106,\n",
       " 5.010374314970709,\n",
       " 5.0084530283666435,\n",
       " 5.006538662126046,\n",
       " 5.004631191322175,\n",
       " 5.002730591118061,\n",
       " 5.0008368367662,\n",
       " 4.998949903608226,\n",
       " 4.997069767074595,\n",
       " 4.995196402684257,\n",
       " 4.993329786044343,\n",
       " 4.991469892849846,\n",
       " 4.9896166988833,\n",
       " 4.987770180014478,\n",
       " 4.98593031220006,\n",
       " 4.984097071483333,\n",
       " 4.982270433993872,\n",
       " 4.9804503759472345,\n",
       " 4.978636873644648,\n",
       " 4.9768299034727,\n",
       " 4.975029441903031,\n",
       " 4.973235465492034,\n",
       " 4.971447950880541,\n",
       " 4.969666874793521,\n",
       " 4.967892214039785,\n",
       " 4.966123945511668,\n",
       " 4.964362046184744,\n",
       " 4.962606493117519,\n",
       " 4.96085726345113,\n",
       " 4.959114334409053,\n",
       " 4.957377683296804,\n",
       " 4.95564728750164,\n",
       " 4.95392312449227,\n",
       " 4.95220517181856,\n",
       " 4.95049340711124,\n",
       " 4.948787808081611,\n",
       " 4.9470883525212574,\n",
       " 4.94539501830176,\n",
       " 4.943707783374399,\n",
       " 4.942026625769877,\n",
       " 4.940351523598029,\n",
       " 4.938682455047537,\n",
       " 4.937019398385641,\n",
       " 4.935362331957869,\n",
       " 4.933711234187743,\n",
       " 4.9320660835764984,\n",
       " 4.930426858702819,\n",
       " 4.928793538222535,\n",
       " 4.927166100868362,\n",
       " 4.925544525449623,\n",
       " 4.923928790851962,\n",
       " 4.922318876037079,\n",
       " 4.920714760042454,\n",
       " 4.919116421981069,\n",
       " 4.91752384104114,\n",
       " 4.915936996485853,\n",
       " 4.914355867653075,\n",
       " 4.912780433955111,\n",
       " 4.91121067487841,\n",
       " 4.9096465699833125,\n",
       " 4.908088098903784,\n",
       " 4.906535241347148,\n",
       " 4.904987977093815,\n",
       " 4.903446285997033,\n",
       " 4.90191014798261,\n",
       " 4.9003795430486665,\n",
       " 4.898854451265366,\n",
       " 4.897334852774656,\n",
       " 4.895820727790016,\n",
       " 4.894312056596192,\n",
       " 4.892808819548944,\n",
       " 4.89131099707479,\n",
       " 4.889818569670748,\n",
       " 4.88833151790409,\n",
       " 4.88684982241208,\n",
       " 4.885373463901725,\n",
       " 4.883902423149523,\n",
       " 4.88243668100122,\n",
       " 4.880976218371547,\n",
       " 4.879521016243985,\n",
       " 4.878071055670509,\n",
       " 4.876626317771341,\n",
       " 4.875186783734713,\n",
       " 4.87375243481661,\n",
       " 4.872323252340535,\n",
       " 4.8708992176972625,\n",
       " 4.869480312344593,\n",
       " 4.868066517807122,\n",
       " 4.866657815675987,\n",
       " 4.865254187608633,\n",
       " 4.863855615328574,\n",
       " 4.862462080625159,\n",
       " 4.861073565353324,\n",
       " 4.859690051433372,\n",
       " 4.858311520850714,\n",
       " 4.856937955655664,\n",
       " 4.855569337963178,\n",
       " 4.85420564995264,\n",
       " 4.852846873867617,\n",
       " 4.85149299201564,\n",
       " 4.850143986767962,\n",
       " 4.8487998405593355,\n",
       " 4.847460535887785,\n",
       " 4.84612605531437,\n",
       " 4.8447963814629675,\n",
       " 4.843471497020046,\n",
       " 4.842151384734429,\n",
       " 4.840836027417081,\n",
       " 4.839525407940883,\n",
       " 4.838219509240404,\n",
       " 4.836918314311682,\n",
       " 4.835621806212003,\n",
       " 4.834329968059677,\n",
       " 4.833042783033826,\n",
       " 4.8317602343741575,\n",
       " 4.830482305380745,\n",
       " 4.829208979413817,\n",
       " 4.827940239893541,\n",
       " 4.826676070299799,\n",
       " 4.825416454171979,\n",
       " 4.824161375108761,\n",
       " 4.822910816767899,\n",
       " 4.821664762866011,\n",
       " 4.820423197178371,\n",
       " 4.819186103538688,\n",
       " 4.817953465838902,\n",
       " 4.816725268028978,\n",
       " 4.8155014941166865,\n",
       " 4.814282128167403,\n",
       " 4.813067154303901,\n",
       " 4.811856556706141,\n",
       " 4.810650319611066,\n",
       " 4.809448427312395,\n",
       " 4.808250864160425,\n",
       " 4.807057614561817,\n",
       " 4.805868662979403,\n",
       " 4.804683993931975,\n",
       " 4.80350359199409,\n",
       " 4.802327441795866,\n",
       " 4.80115552802278,\n",
       " 4.799987835415476,\n",
       " 4.798824348769555,\n",
       " 4.7976650529353915,\n",
       " 4.796509932817919,\n",
       " 4.795358973376449,\n",
       " 4.7942121596244665,\n",
       " 4.793069476629436,\n",
       " 4.791930909512612,\n",
       " 4.790796443448837,\n",
       " 4.789666063666355,\n",
       " 4.788539755446615,\n",
       " 4.787417504124084,\n",
       " 4.786299295086054,\n",
       " 4.785185113772448,\n",
       " 4.784074945675635,\n",
       " 4.7829687763402395,\n",
       " 4.781866591362954,\n",
       " 4.780768376392351,\n",
       " 4.779674117128695,\n",
       " 4.778583799323759,\n",
       " 4.777497408780635,\n",
       " 4.776414931353552,\n",
       " 4.775336352947692,\n",
       " 4.774261659519006,\n",
       " 4.773190837074032,\n",
       " 4.772123871669708,\n",
       " 4.771060749413197,\n",
       " 4.770001456461701,\n",
       " 4.768945979022287,\n",
       " 4.767894303351698,\n",
       " 4.7668464157561825,\n",
       " 4.765802302591315,\n",
       " 4.764761950261812,\n",
       " 4.763725345221363,\n",
       " 4.762692473972447,\n",
       " 4.761663323066164,\n",
       " 4.760637879102053,\n",
       " 4.7596161287279255,\n",
       " 4.75859805863968,\n",
       " 4.757583655581141,\n",
       " 4.7565729063438775,\n",
       " 4.755565797767038,\n",
       " 4.7545623167371724,\n",
       " 4.753562450188067,\n",
       " 4.752566185100569,\n",
       " 4.751573508502425,\n",
       " 4.750584407468098,\n",
       " 4.7495988691186195,\n",
       " 4.7486168806214,\n",
       " 4.7476384291900775,\n",
       " 4.7466635020843455,\n",
       " 4.745692086609787,\n",
       " 4.744724170117706,\n",
       " 4.743759740004973,\n",
       " 4.742798783713851,\n",
       " 4.741841288731832,\n",
       " 4.740887242591484,\n",
       " 4.739936632870274,\n",
       " 4.738989447190423,\n",
       " 4.738045673218728,\n",
       " 4.737105298666416,\n",
       " 4.7361683112889725,\n",
       " 4.735234698885989,\n",
       " 4.734304449301005,\n",
       " 4.733377550421342,\n",
       " 4.732453990177952,\n",
       " 4.731533756545261,\n",
       " 4.730616837541011,\n",
       " 4.7297032212260985,\n",
       " 4.7287928957044265,\n",
       " 4.7278858491227505,\n",
       " 4.726982069670518,\n",
       " 4.726081545579717,\n",
       " 4.725184265124721,\n",
       " 4.724290216622143,\n",
       " 4.7233993884306775,\n",
       " 4.722511768950947,\n",
       " 4.721627346625359,\n",
       " 4.7207461099379495,\n",
       " 4.7198680474142325,\n",
       " 4.718993147621053,\n",
       " 4.718121399166439,\n",
       " 4.717252790699451,\n",
       " 4.716387310910036,\n",
       " 4.715524948528875,\n",
       " 4.7146656923272445,\n",
       " 4.713809531116866,\n",
       " 4.712956453749759,\n",
       " 4.712106449118099,\n",
       " 4.711259506154067,\n",
       " 4.710415613829716,\n",
       " 4.709574761156817,\n",
       " 4.708736937186721,\n",
       " 4.707902131010216,\n",
       " 4.707070331757381,\n",
       " 4.706241528597455,\n",
       " 4.70541571073868,\n",
       " 4.7045928674281745,\n",
       " 4.7037729879517896,\n",
       " 4.702956061633963,\n",
       " 4.70214207783759,\n",
       " 4.701331025963877,\n",
       " 4.700522895452207,\n",
       " 4.699717675780005,\n",
       " 4.698915356462592,\n",
       " 4.6981159270530615,\n",
       " 4.6973193771421275,\n",
       " 4.696525696358007,\n",
       " 4.695734874366266,\n",
       " 4.694946900869703,\n",
       " 4.694161765608201,\n",
       " 4.6933794583586,\n",
       " 4.692599968934568,\n",
       " 4.691823287186457,\n",
       " 4.691049403001182,\n",
       " 4.69027830630208,\n",
       " 4.689509987048791,\n",
       " 4.688744435237112,\n",
       " 4.687981640898881,\n",
       " 4.6872215941018345,\n",
       " 4.686464284949491,\n",
       " 4.685709703581008,\n",
       " 4.684957840171069,\n",
       " 4.684208684929745,\n",
       " 4.683462228102367,\n",
       " 4.682718459969402,\n",
       " 4.681977370846331,\n",
       " 4.681238951083514,\n",
       " 4.680503191066067,\n",
       " 4.679770081213745,\n",
       " 4.679039611980803,\n",
       " 4.678311773855883,\n",
       " 4.677586557361888,\n",
       " 4.676863953055852,\n",
       " 4.676143951528825,\n",
       " 4.675426543405748,\n",
       " 4.674711719345328,\n",
       " 4.6739994700399246,\n",
       " 4.673289786215413,\n",
       " 4.672582658631084,\n",
       " 4.671878078079505,\n",
       " 4.671176035386413,\n",
       " 4.6704765214105874,\n",
       " 4.669779527043733,\n",
       " 4.669085043210365,\n",
       " 4.668393060867689,\n",
       " 4.667703571005477,\n",
       " 4.667016564645957,\n",
       " 4.666332032843698,\n",
       " 4.665649966685489,\n",
       " 4.664970357290219,\n",
       " 4.664293195808771,\n",
       " 4.6636184734239015,\n",
       " 4.662946181350124,\n",
       " 4.6622763108336,\n",
       " 4.661608853152018,\n",
       " 4.660943799614486,\n",
       " 4.660281141561418,\n",
       " 4.659620870364415,\n",
       " 4.65896297742616,\n",
       " 4.658307454180302,\n",
       " 4.657654292091346,\n",
       " 4.657003482654543,\n",
       " 4.6563550173957715,\n",
       " 4.65570888787144,\n",
       " 4.655065085668367,\n",
       " 4.654423602403678,\n",
       " 4.653784429724688,\n",
       " 4.6531475593088025,\n",
       " 4.6525129828634,\n",
       " 4.651880692125735,\n",
       " 4.651250678862817,\n",
       " 4.650622934871314,\n",
       " 4.649997451977443,\n",
       " 4.649374222036858,\n",
       " 4.648753236934556,\n",
       " 4.648134488584754,\n",
       " 4.6475179689308,\n",
       " 4.646903669945062,\n",
       " 4.64629158362882,\n",
       " 4.6456817020121655,\n",
       " 4.645074017153899,\n",
       " 4.644468521141423,\n",
       " 4.6438652060906405,\n",
       " 4.643264064145854,\n",
       " 4.642665087479663,\n",
       " 4.6420682682928565,\n",
       " 4.6414735988143185,\n",
       " 4.6408810713009245,\n",
       " 4.64029067803744,\n",
       " 4.63970241133642,\n",
       " 4.6391162635381065,\n",
       " 4.638532227010339,\n",
       " 4.637950294148439,\n",
       " 4.637370457375125,\n",
       " 4.636792709140407,\n",
       " 4.636217041921488,\n",
       " 4.6356434482226705,\n",
       " 4.635071920575256,\n",
       " 4.634502451537443,\n",
       " 4.633935033694242,\n",
       " 4.633369659657368,\n",
       " 4.632806322065146,\n",
       " 4.632245013582422,\n",
       " 4.63168572690046,\n",
       " 4.63112845473685,\n",
       " 4.630573189835415,\n",
       " 4.630019924966111,\n",
       " 4.6294686529249365,\n",
       " 4.628919366533842,\n",
       " 4.62837205864063,\n",
       " 4.627826722118864,\n",
       " 4.627283349867779,\n",
       " 4.626741934812184,\n",
       " 4.626202469902373,\n",
       " 4.625664948114038,\n",
       " 4.625129362448163,\n",
       " 4.62459570593095,\n",
       " 4.624063971613714,\n",
       " 4.623534152572803,\n",
       " 4.623006241909502,\n",
       " 4.622480232749945,\n",
       " 4.621956118245025,\n",
       " 4.621433891570306,\n",
       " 4.620913545925933,\n",
       " 4.62039507453654,\n",
       " 4.619878470651173,\n",
       " 4.619363727543187,\n",
       " 4.6188508385101725,\n",
       " 4.618339796873855,\n",
       " 4.6178305959800205,\n",
       " 4.617323229198419,\n",
       " 4.6168176899226845,\n",
       " 4.61631397157025,\n",
       " 4.61581206758225,\n",
       " 4.615311971423451,\n",
       " 4.6148136765821555,\n",
       " 4.614317176570122,\n",
       " 4.613822464922479,\n",
       " 4.613329535197642,\n",
       " 4.612838380977227,\n",
       " 4.612348995865971,\n",
       " 4.611861373491642,\n",
       " 4.611375507504967,\n",
       " 4.6108913915795355,\n",
       " 4.610409019411731,\n",
       " 4.609928384720636,\n",
       " 4.609449481247963,\n",
       " 4.60897230275796,\n",
       " 4.608496843037341,\n",
       " 4.608023095895198,\n",
       " 4.60755105516292,\n",
       " 4.60708071469412,\n",
       " 4.606612068364546,\n",
       " 4.606145110072005,\n",
       " 4.605679833736286,\n",
       " 4.605216233299077,\n",
       " 4.60475430272389,\n",
       " 4.604294035995977,\n",
       " 4.603835427122257,\n",
       " 4.603378470131233,\n",
       " 4.60292315907292,\n",
       " 4.602469488018764,\n",
       " 4.602017451061563,\n",
       " 4.6015670423153985,\n",
       " 4.601118255915542,\n",
       " 4.6006710860184,\n",
       " 4.600225526801421,\n",
       " 4.59978157246303,\n",
       " 4.5993392172225445,\n",
       " 4.598898455320108,\n",
       " 4.598459281016607,\n",
       " 4.598021688593604,\n",
       " 4.597585672353254,\n",
       " 4.597151226618241,\n",
       " 4.596718345731694,\n",
       " 4.596287024057118,\n",
       " 4.595857255978326,\n",
       " 4.595429035899349,\n",
       " 4.595002358244385,\n",
       " 4.5945772174577115,\n",
       " 4.594153608003618,\n",
       " 4.59373152436633,\n",
       " 4.593310961049946,\n",
       " 4.592891912578358,\n",
       " 4.592474373495182,\n",
       " 4.592058338363686,\n",
       " 4.591643801766726,\n",
       " 4.591230758306666,\n",
       " 4.590819202605313,\n",
       " 4.590409129303844,\n",
       " 4.590000533062744,\n",
       " 4.589593408561724,\n",
       " 4.589187750499662,\n",
       " 4.588783553594528,\n",
       " 4.588380812583321,\n",
       " 4.587979522221996,\n",
       " 4.587579677285394,\n",
       " 4.587181272567178,\n",
       " 4.586784302879765,\n",
       " 4.586388763054258,\n",
       " 4.585994647940378,\n",
       " 4.5856019524063925,\n",
       " 4.585210671339058,\n",
       " 4.5848207996435475,\n",
       " 4.584432332243386,\n",
       " 4.584045264080381,\n",
       " 4.583659590114562,\n",
       " 4.583275305324111,\n",
       " 4.582892404705298,\n",
       " 4.582510883272418,\n",
       " 4.582130736057723,\n",
       " 4.581751958111355,\n",
       " 4.581374544501292,\n",
       " 4.580998490313273,\n",
       " 4.580623790650735,\n",
       " 4.580250440634761,\n",
       " 4.579878435403997,\n",
       " 4.579507770114607,\n",
       " 4.5791384399401975,\n",
       " 4.5787704400717635,\n",
       " 4.578403765717618,\n",
       " 4.5780384121033375,\n",
       " 4.577674374471689,\n",
       " 4.577311648082584,\n",
       " 4.576950228212997,\n",
       " 4.576590110156924,\n",
       " 4.576231289225308,\n",
       " 4.57587376074598,\n",
       " 4.575517520063602,\n",
       " 4.575162562539603,\n",
       " 4.574808883552121,\n",
       " 4.574456478495942,\n",
       " 4.574105342782437,\n",
       " 4.573755471839512,\n",
       " 4.573406861111529,\n",
       " 4.573059506059272,\n",
       " 4.572713402159866,\n",
       " 4.572368544906735,\n",
       " 4.572024929809526,\n",
       " 4.571682552394067,\n",
       " 4.5713414082023025,\n",
       " 4.571001492792229,\n",
       " 4.5706628017378454,\n",
       " 4.570325330629095,\n",
       " 4.569989075071803,\n",
       " 4.569654030687624,\n",
       " 4.56932019311398,\n",
       " 4.568987558004013,\n",
       " 4.568656121026514,\n",
       " 4.568325877865882,\n",
       " 4.567996824222056,\n",
       " 4.567668955810466,\n",
       " 4.5673422683619735,\n",
       " 4.567016757622818,\n",
       " 4.56669241935456,\n",
       " 4.566369249334026,\n",
       " 4.566047243353258,\n",
       " 4.565726397219447,\n",
       " 4.565406706754897,\n",
       " 4.56508816779695,\n",
       " 4.564770776197948,\n",
       " 4.564454527825169,\n",
       " 4.564139418560778,\n",
       " 4.563825444301772,\n",
       " 4.563512600959929,\n",
       " 4.563200884461748,\n",
       " 4.562890290748406,\n",
       " 4.562580815775695,\n",
       " 4.562272455513976,\n",
       " 4.561965205948124,\n",
       " 4.561659063077476,\n",
       " 4.5613540229157845,\n",
       " 4.56105008149115,\n",
       " 4.560747234845985,\n",
       " 4.560445479036962,\n",
       " 4.560144810134948,\n",
       " 4.559845224224967,\n",
       " 4.559546717406144,\n",
       " 4.559249285791657,\n",
       " 4.558952925508682,\n",
       " 4.558657632698341,\n",
       " 4.558363403515664,\n",
       " 4.558070234129523,\n",
       " 4.557778120722592,\n",
       " 4.557487059491295,\n",
       " 4.557197046645756,\n",
       " 4.5569080784097515,\n",
       " 4.556620151020654,\n",
       " 4.5563332607294,\n",
       " 4.556047403800417,\n",
       " 4.5557625765115946,\n",
       " 4.555478775154231,\n",
       " 4.555195996032978,\n",
       " 4.554914235465802,\n",
       " 4.554633489783926,\n",
       " 4.554353755331798,\n",
       " 4.554075028467021,\n",
       " 4.553797305560327,\n",
       " 4.553520582995516,\n",
       " 4.553244857169413,\n",
       " 4.552970124491824,\n",
       " 4.552696381385485,\n",
       " 4.5524236242860185,\n",
       " 4.5521518496418825,\n",
       " 4.5518810539143315,\n",
       " 4.551611233577364,\n",
       " 4.551342385117678,\n",
       " 4.551074505034629,\n",
       " 4.550807589840181,\n",
       " 4.550541636058861,\n",
       " 4.550276640227711,\n",
       " 4.550012598896252,\n",
       " 4.549749508626433,\n",
       " 4.549487365992583,\n",
       " 4.549226167581372,\n",
       " 4.5489659099917645,\n",
       " 4.548706589834975,\n",
       " 4.548448203734425,\n",
       " 4.548190748325698,\n",
       " 4.547934220256497,\n",
       " 4.547678616186597,\n",
       " 4.547423932787805,\n",
       " 4.547170166743919,\n",
       " 4.546917314750676,\n",
       " 4.546665373515724,\n",
       " 4.54641433975856,\n",
       " 4.546164210210502,\n",
       " 4.545914981614642,\n",
       " 4.545666650725801,\n",
       " 4.545419214310491,\n",
       " 4.545172669146869,\n",
       " 4.544927012024698,\n",
       " 4.544682239745306,\n",
       " 4.544438349121537,\n",
       " 4.544195336977722,\n",
       " 4.543953200149625,\n",
       " 4.543711935484407,\n",
       " 4.543471539840593,\n",
       " 4.543232010088012,\n",
       " 4.542993343107779,\n",
       " 4.542755535792235,\n",
       " 4.542518585044917,\n",
       " 4.5422824877805175,\n",
       " 4.5420472409248385,\n",
       " 4.541812841414758,\n",
       " 4.5415792861981865,\n",
       " 4.541346572234026,\n",
       " 4.541114696492136,\n",
       " 4.540883655953286,\n",
       " 4.540653447609125,\n",
       " 4.540424068462133,\n",
       " 4.540195515525591,\n",
       " 4.5399677858235385,\n",
       " 4.53974087639073,\n",
       " 4.539514784272603,\n",
       " 4.539289506525239,\n",
       " 4.53906504021532,\n",
       " 4.538841382420095,\n",
       " 4.5386185302273425,\n",
       " 4.538396480735328,\n",
       " 4.538175231052766,\n",
       " 4.537954778298796,\n",
       " 4.537735119602923,\n",
       " 4.537516252104996,\n",
       " 4.537298172955165,\n",
       " 4.537080879313848,\n",
       " 4.5368643683516865,\n",
       " 4.536648637249516,\n",
       " 4.536433683198326,\n",
       " 4.536219503399223,\n",
       " 4.536006095063397,\n",
       " 4.535793455412081,\n",
       " 4.535581581676518,\n",
       " 4.535370471097923,\n",
       " 4.535160120927449,\n",
       " 4.53495052842615,\n",
       " 4.534741690864945,\n",
       " 4.534533605524585,\n",
       " 4.534326269695612,\n",
       " 4.534119680678329,\n",
       " 4.533913835782765,\n",
       " 4.533708732328634,\n",
       " 4.53350436764531,\n",
       " 4.53330073907178,\n",
       " 4.533097843956624,\n",
       " 4.532895679657962,\n",
       " 4.532694243543437,\n",
       " 4.532493532990171,\n",
       " 4.532293545384737,\n",
       " 4.532094278123114,\n",
       " 4.53189572861067,\n",
       " 4.531697894262111,\n",
       " 4.531500772501459,\n",
       " 4.531304360762014,\n",
       " 4.531108656486318,\n",
       " 4.5309136571261295,\n",
       " 4.530719360142384,\n",
       " 4.53052576300516,\n",
       " 4.530332863193653,\n",
       " 4.530140658196134,\n",
       " 4.529949145509925,\n",
       " 4.52975832264136,\n",
       " 4.529568187105754,\n",
       " 4.529378736427375,\n",
       " 4.5291899681394066,\n",
       " 4.5290018797839195,\n",
       " 4.528814468911833,\n",
       " 4.528627733082893,\n",
       " 4.528441669865631,\n",
       " 4.528256276837342,\n",
       " 4.52807155158404,\n",
       " 4.527887491700442,\n",
       " 4.527704094789922,\n",
       " 4.52752135846449,\n",
       " 4.527339280344758,\n",
       " 4.527157858059903,\n",
       " 4.52697708924765,\n",
       " 4.5267969715542264,\n",
       " 4.52661750263434,\n",
       " 4.526438680151148,\n",
       " 4.5262605017762185,\n",
       " 4.526082965189513,\n",
       " 4.5259060680793475,\n",
       " 4.525729808142365,\n",
       " 4.525554183083503,\n",
       " 4.525379190615968,\n",
       " 4.525204828461203,\n",
       " 4.525031094348856,\n",
       " 4.524857986016757,\n",
       " 4.52468550121088,\n",
       " 4.5245136376853194,\n",
       " 4.524342393202259,\n",
       " 4.524171765531945,\n",
       " 4.524001752452653,\n",
       " 4.523832351750661,\n",
       " 4.523663561220222,\n",
       " 4.523495378663533,\n",
       " 4.523327801890707,\n",
       " 4.523160828719747,\n",
       " 4.5229944569765115,\n",
       " 4.522828684494693,\n",
       " 4.522663509115789,\n",
       " 4.522498928689069,\n",
       " 4.522334941071547,\n",
       " 4.52217154412796,\n",
       " 4.522008735730735,\n",
       " 4.521846513759959,\n",
       " 4.521684876103361,\n",
       " 4.521523820656275,\n",
       " 4.521363345321613,\n",
       " 4.521203448009849,\n",
       " 4.521044126638972,\n",
       " 4.520885379134479,\n",
       " 4.520727203429336,\n",
       " 4.520569597463955,\n",
       " 4.520412559186167,\n",
       " 4.52025608655119,\n",
       " 4.520100177521617,\n",
       " 4.519944830067369,\n",
       " 4.519790042165688,\n",
       " 4.5196358118010975,\n",
       " 4.519482136965378,\n",
       " 4.519329015657548,\n",
       " 4.519176445883834,\n",
       " 4.519024425657637,\n",
       " 4.5188729529995255,\n",
       " 4.5187220259371825,\n",
       " 4.518571642505414,\n",
       " 4.518421800746084,\n",
       " 4.518272498708126,\n",
       " 4.518123734447491,\n",
       " 4.517975506027139,\n",
       " 4.5178278115170025,\n",
       " 4.517680648993968,\n",
       " 4.51753401654185,\n",
       " 4.517387912251362,\n",
       " 4.517242334220096,\n",
       " 4.517097280552497,\n",
       " 4.51695274935984,\n",
       " 4.516808738760196,\n",
       " 4.516665246878423,\n",
       " 4.516522271846126,\n",
       " 4.516379811801645,\n",
       " 4.516237864890023,\n",
       " 4.516096429262984,\n",
       " 4.515955503078913,\n",
       " ...]"
      ]
     },
     "execution_count": 20,
     "metadata": {},
     "output_type": "execute_result"
    }
   ],
   "source": [
    "cost_history"
   ]
  },
  {
   "cell_type": "code",
   "execution_count": 21,
   "metadata": {},
   "outputs": [
    {
     "data": {
      "text/plain": [
       "[<matplotlib.lines.Line2D at 0x157b5f2cf10>]"
      ]
     },
     "execution_count": 21,
     "metadata": {},
     "output_type": "execute_result"
    },
    {
     "data": {
      "image/png": "[encoded data removed]",
      "text/plain": [
       "<Figure size 432x288 with 1 Axes>"
      ]
     },
     "metadata": {
      "needs_background": "light"
     },
     "output_type": "display_data"
    }
   ],
   "source": [
    "plt.plot(cost_history)"
   ]
  },
  {
   "cell_type": "code",
   "execution_count": 22,
   "metadata": {},
   "outputs": [
    {
     "data": {
      "text/plain": [
       "16.385791072906276"
      ]
     },
     "execution_count": 22,
     "metadata": {},
     "output_type": "execute_result"
    }
   ],
   "source": [
    "# Predecir un nuevo valor\n",
    "x_new = 17\n",
    "# [x,1]*beta\n",
    "y_predict = np.array([x_new,1]).dot(beta)\n",
    "y_predict"
   ]
  },
  {
   "cell_type": "markdown",
   "metadata": {},
   "source": [
    "## Ejemplo usando la librería de Sklearn"
   ]
  },
  {
   "cell_type": "markdown",
   "metadata": {},
   "source": [
    "### Ejemplo 1:"
   ]
  },
  {
   "cell_type": "code",
   "execution_count": 23,
   "metadata": {},
   "outputs": [],
   "source": [
    "import pandas as pd\n",
    "import numpy as np\n",
    "from matplotlib import pyplot as plt\n",
    "from sklearn.linear_model import LinearRegression\n",
    "from sklearn.metrics import mean_squared_error, r2_score"
   ]
  },
  {
   "cell_type": "code",
   "execution_count": 24,
   "metadata": {},
   "outputs": [
    {
     "data": {
      "text/html": [
       "<div>\n",
       "<style scoped>\n",
       "    .dataframe tbody tr th:only-of-type {\n",
       "        vertical-align: middle;\n",
       "    }\n",
       "\n",
       "    .dataframe tbody tr th {\n",
       "        vertical-align: top;\n",
       "    }\n",
       "\n",
       "    .dataframe thead th {\n",
       "        text-align: right;\n",
       "    }\n",
       "</style>\n",
       "<table border=\"1\" class=\"dataframe\">\n",
       "  <thead>\n",
       "    <tr style=\"text-align: right;\">\n",
       "      <th></th>\n",
       "      <th>population</th>\n",
       "      <th>profit</th>\n",
       "    </tr>\n",
       "  </thead>\n",
       "  <tbody>\n",
       "    <tr>\n",
       "      <th>0</th>\n",
       "      <td>6.1101</td>\n",
       "      <td>17.5920</td>\n",
       "    </tr>\n",
       "    <tr>\n",
       "      <th>1</th>\n",
       "      <td>5.5277</td>\n",
       "      <td>9.1302</td>\n",
       "    </tr>\n",
       "    <tr>\n",
       "      <th>2</th>\n",
       "      <td>8.5186</td>\n",
       "      <td>13.6620</td>\n",
       "    </tr>\n",
       "    <tr>\n",
       "      <th>3</th>\n",
       "      <td>7.0032</td>\n",
       "      <td>11.8540</td>\n",
       "    </tr>\n",
       "    <tr>\n",
       "      <th>4</th>\n",
       "      <td>5.8598</td>\n",
       "      <td>6.8233</td>\n",
       "    </tr>\n",
       "  </tbody>\n",
       "</table>\n",
       "</div>"
      ],
      "text/plain": [
       "   population   profit\n",
       "0      6.1101  17.5920\n",
       "1      5.5277   9.1302\n",
       "2      8.5186  13.6620\n",
       "3      7.0032  11.8540\n",
       "4      5.8598   6.8233"
      ]
     },
     "execution_count": 24,
     "metadata": {},
     "output_type": "execute_result"
    }
   ],
   "source": [
    "data = pd.read_csv('../Data/ex1data1.txt', names=['population','profit'])\n",
    "data.head()"
   ]
  },
  {
   "cell_type": "code",
   "execution_count": 25,
   "metadata": {},
   "outputs": [],
   "source": [
    "# Identificar las variables independientes, dependientes\n",
    "x = data['population'].values.reshape(-1,1)\n",
    "y = data['profit'].values.reshape(-1,1)"
   ]
  },
  {
   "cell_type": "code",
   "execution_count": 26,
   "metadata": {},
   "outputs": [],
   "source": [
    "# y_hat = b1*x + b0\n",
    "# Aplicar un modelo lineal con la librería\n",
    "modelo = LinearRegression()\n",
    "#Entrenar al modelo lineal\n",
    "modelo.fit(x,y)\n",
    "#Predecir datos en x\n",
    "y_pred = modelo.predict(x)"
   ]
  },
  {
   "cell_type": "code",
   "execution_count": 27,
   "metadata": {},
   "outputs": [
    {
     "data": {
      "image/png": "[encoded data removed]",
      "text/plain": [
       "<Figure size 432x288 with 1 Axes>"
      ]
     },
     "metadata": {
      "needs_background": "light"
     },
     "output_type": "display_data"
    }
   ],
   "source": [
    "plt.figure(figsize=(6,4))\n",
    "plt.scatter(data['population'], data['profit'])\n",
    "plt.plot(x, y_pred, '-r')\n",
    "plt.xlabel('population')\n",
    "plt.ylabel('profit')\n",
    "plt.show()"
   ]
  },
  {
   "cell_type": "code",
   "execution_count": 28,
   "metadata": {},
   "outputs": [
    {
     "data": {
      "text/plain": [
       "array([[1.19303364]])"
      ]
     },
     "execution_count": 28,
     "metadata": {},
     "output_type": "execute_result"
    }
   ],
   "source": [
    "# coeficientes que acompañan a la variable independiente \"x\" beta_1,..,beta_n\n",
    "modelo.coef_"
   ]
  },
  {
   "cell_type": "code",
   "execution_count": 29,
   "metadata": {},
   "outputs": [
    {
     "data": {
      "text/plain": [
       "array([-3.89578088])"
      ]
     },
     "execution_count": 29,
     "metadata": {},
     "output_type": "execute_result"
    }
   ],
   "source": [
    "# coeficientes de intercepción al eje de las abcisas beta_0\n",
    "modelo.intercept_"
   ]
  },
  {
   "cell_type": "markdown",
   "metadata": {},
   "source": [
    "##### Modelo Obtenido\n",
    "\n",
    "$$\\hat{y} = 1.193  x - 3.895$$"
   ]
  },
  {
   "cell_type": "markdown",
   "metadata": {},
   "source": [
    "### Ejemplo 2:"
   ]
  },
  {
   "cell_type": "code",
   "execution_count": 30,
   "metadata": {},
   "outputs": [],
   "source": [
    "datos = pd.read_csv('../Data/Position_Salaries.csv')"
   ]
  },
  {
   "cell_type": "code",
   "execution_count": 31,
   "metadata": {},
   "outputs": [
    {
     "data": {
      "text/html": [
       "<div>\n",
       "<style scoped>\n",
       "    .dataframe tbody tr th:only-of-type {\n",
       "        vertical-align: middle;\n",
       "    }\n",
       "\n",
       "    .dataframe tbody tr th {\n",
       "        vertical-align: top;\n",
       "    }\n",
       "\n",
       "    .dataframe thead th {\n",
       "        text-align: right;\n",
       "    }\n",
       "</style>\n",
       "<table border=\"1\" class=\"dataframe\">\n",
       "  <thead>\n",
       "    <tr style=\"text-align: right;\">\n",
       "      <th></th>\n",
       "      <th>Position</th>\n",
       "      <th>Level</th>\n",
       "      <th>Salary</th>\n",
       "    </tr>\n",
       "  </thead>\n",
       "  <tbody>\n",
       "    <tr>\n",
       "      <th>0</th>\n",
       "      <td>Business Analyst</td>\n",
       "      <td>1</td>\n",
       "      <td>45000</td>\n",
       "    </tr>\n",
       "    <tr>\n",
       "      <th>1</th>\n",
       "      <td>Junior Consultant</td>\n",
       "      <td>2</td>\n",
       "      <td>50000</td>\n",
       "    </tr>\n",
       "    <tr>\n",
       "      <th>2</th>\n",
       "      <td>Senior Consultant</td>\n",
       "      <td>3</td>\n",
       "      <td>60000</td>\n",
       "    </tr>\n",
       "    <tr>\n",
       "      <th>3</th>\n",
       "      <td>Manager</td>\n",
       "      <td>4</td>\n",
       "      <td>80000</td>\n",
       "    </tr>\n",
       "    <tr>\n",
       "      <th>4</th>\n",
       "      <td>Country Manager</td>\n",
       "      <td>5</td>\n",
       "      <td>110000</td>\n",
       "    </tr>\n",
       "    <tr>\n",
       "      <th>5</th>\n",
       "      <td>Region Manager</td>\n",
       "      <td>6</td>\n",
       "      <td>150000</td>\n",
       "    </tr>\n",
       "    <tr>\n",
       "      <th>6</th>\n",
       "      <td>Partner</td>\n",
       "      <td>7</td>\n",
       "      <td>200000</td>\n",
       "    </tr>\n",
       "    <tr>\n",
       "      <th>7</th>\n",
       "      <td>Senior Partner</td>\n",
       "      <td>8</td>\n",
       "      <td>300000</td>\n",
       "    </tr>\n",
       "    <tr>\n",
       "      <th>8</th>\n",
       "      <td>C-level</td>\n",
       "      <td>9</td>\n",
       "      <td>500000</td>\n",
       "    </tr>\n",
       "    <tr>\n",
       "      <th>9</th>\n",
       "      <td>CEO</td>\n",
       "      <td>10</td>\n",
       "      <td>1000000</td>\n",
       "    </tr>\n",
       "  </tbody>\n",
       "</table>\n",
       "</div>"
      ],
      "text/plain": [
       "            Position  Level   Salary\n",
       "0   Business Analyst      1    45000\n",
       "1  Junior Consultant      2    50000\n",
       "2  Senior Consultant      3    60000\n",
       "3            Manager      4    80000\n",
       "4    Country Manager      5   110000\n",
       "5     Region Manager      6   150000\n",
       "6            Partner      7   200000\n",
       "7     Senior Partner      8   300000\n",
       "8            C-level      9   500000\n",
       "9                CEO     10  1000000"
      ]
     },
     "execution_count": 31,
     "metadata": {},
     "output_type": "execute_result"
    }
   ],
   "source": [
    "datos"
   ]
  },
  {
   "cell_type": "code",
   "execution_count": 32,
   "metadata": {},
   "outputs": [
    {
     "data": {
      "text/plain": [
       "array([[ 1,  2,  3,  4,  5,  6,  7,  8,  9, 10]], dtype=int64)"
      ]
     },
     "execution_count": 32,
     "metadata": {},
     "output_type": "execute_result"
    }
   ],
   "source": [
    "datos['Level'].values.reshape(1,-1)"
   ]
  },
  {
   "cell_type": "code",
   "execution_count": 33,
   "metadata": {},
   "outputs": [],
   "source": [
    "# identificar las variables independientes,dependientes\n",
    "x=datos['Level'].values.reshape(-1,1)\n",
    "y=datos['Salary'].values.reshape(-1,1)"
   ]
  },
  {
   "cell_type": "code",
   "execution_count": 34,
   "metadata": {},
   "outputs": [
    {
     "data": {
      "text/plain": [
       "Text(0, 0.5, 'Salary')"
      ]
     },
     "execution_count": 34,
     "metadata": {},
     "output_type": "execute_result"
    },
    {
     "data": {
      "image/png": "[encoded data removed]",
      "text/plain": [
       "<Figure size 432x288 with 1 Axes>"
      ]
     },
     "metadata": {
      "needs_background": "light"
     },
     "output_type": "display_data"
    }
   ],
   "source": [
    "plt.figure(figsize=(6,4))\n",
    "plt.scatter(x,y)\n",
    "plt.xlabel('Level')\n",
    "plt.ylabel('Salary')"
   ]
  },
  {
   "cell_type": "code",
   "execution_count": 35,
   "metadata": {},
   "outputs": [
    {
     "name": "stdout",
     "output_type": "stream",
     "text": [
      "Error cuadrático Medio: 26695878787.878788\n",
      "R2_score: 0.5053238120653418\n"
     ]
    },
    {
     "data": {
      "text/plain": [
       "(array([[80878.78787879]]), array([-195333.33333333]))"
      ]
     },
     "execution_count": 35,
     "metadata": {},
     "output_type": "execute_result"
    },
    {
     "data": {
      "image/png": "[encoded data removed]",
      "text/plain": [
       "<Figure size 432x288 with 1 Axes>"
      ]
     },
     "metadata": {
      "needs_background": "light"
     },
     "output_type": "display_data"
    }
   ],
   "source": [
    "# Buscar un modelo lineal que se ajuste a los datos\n",
    "\n",
    "# 1.- Entrenar un modelo lineal con la librería y_hat=b1*x + bo\n",
    "modelo = LinearRegression()\n",
    "modelo.fit(x,y)\n",
    "# 2.- Predecir los valores de x\n",
    "y_pred = modelo.predict(x)\n",
    "# 3.- Grafiquen su modelo con los datos originales\n",
    "plt.figure(figsize=(6,4))\n",
    "plt.scatter(x,y)\n",
    "plt.plot(x,y_pred,'r')\n",
    "plt.xlabel('Level')\n",
    "plt.ylabel('Salary')\n",
    "# 4.- mean_squared_error(y_pred,y), r2_score(y_pred,y) \n",
    "print('Error cuadrático Medio: '+str(mean_squared_error(y_pred,y)))\n",
    "print('R2_score: '+str(r2_score(y_pred,y)))\n",
    "modelo.coef_, modelo.intercept_"
   ]
  },
  {
   "cell_type": "markdown",
   "metadata": {},
   "source": [
    "### Ejemplo aplicando un modelo de regresión polinomial"
   ]
  },
  {
   "cell_type": "code",
   "execution_count": 71,
   "metadata": {},
   "outputs": [
    {
     "data": {
      "text/plain": [
       "array([[ 1],\n",
       "       [ 2],\n",
       "       [ 3],\n",
       "       [ 4],\n",
       "       [ 5],\n",
       "       [ 6],\n",
       "       [ 7],\n",
       "       [ 8],\n",
       "       [ 9],\n",
       "       [10]], dtype=int64)"
      ]
     },
     "execution_count": 71,
     "metadata": {},
     "output_type": "execute_result"
    }
   ],
   "source": [
    "x"
   ]
  },
  {
   "cell_type": "code",
   "execution_count": 47,
   "metadata": {},
   "outputs": [],
   "source": [
    "# y_hat = beta_2*x^2 + beta_1*x + beta_0\n",
    "\n",
    "from sklearn.preprocessing import PolynomialFeatures"
   ]
  },
  {
   "cell_type": "code",
   "execution_count": 58,
   "metadata": {},
   "outputs": [],
   "source": [
    "poly = PolynomialFeatures(degree=3, include_bias = False)\n"
   ]
  },
  {
   "cell_type": "code",
   "execution_count": 59,
   "metadata": {},
   "outputs": [],
   "source": [
    "x_poly = poly.fit_transform(x)"
   ]
  },
  {
   "cell_type": "code",
   "execution_count": 60,
   "metadata": {},
   "outputs": [
    {
     "data": {
      "text/plain": [
       "array([[   1.,    1.,    1.],\n",
       "       [   2.,    4.,    8.],\n",
       "       [   3.,    9.,   27.],\n",
       "       [   4.,   16.,   64.],\n",
       "       [   5.,   25.,  125.],\n",
       "       [   6.,   36.,  216.],\n",
       "       [   7.,   49.,  343.],\n",
       "       [   8.,   64.,  512.],\n",
       "       [   9.,   81.,  729.],\n",
       "       [  10.,  100., 1000.]])"
      ]
     },
     "execution_count": 60,
     "metadata": {},
     "output_type": "execute_result"
    }
   ],
   "source": [
    "#[x;x^2]\n",
    "# y_hat = X*Beta\n",
    "# X=[1;x]\n",
    "# Beta = [beta_0;beta_1]\n",
    "# y_hat = btea_0 + beta_1*x\n",
    "x_poly"
   ]
  },
  {
   "cell_type": "code",
   "execution_count": 61,
   "metadata": {},
   "outputs": [
    {
     "data": {
      "text/plain": [
       "LinearRegression()"
      ]
     },
     "execution_count": 61,
     "metadata": {},
     "output_type": "execute_result"
    }
   ],
   "source": [
    "# Obtener el modelo\n",
    "modelo = LinearRegression()\n",
    "modelo.fit(x_poly, y)"
   ]
  },
  {
   "cell_type": "code",
   "execution_count": 62,
   "metadata": {},
   "outputs": [],
   "source": [
    "#y_pred = beta_2*x^2 + beta_1*x + beta_0\n",
    "y_pred = modelo.predict(x_poly)"
   ]
  },
  {
   "cell_type": "code",
   "execution_count": 63,
   "metadata": {},
   "outputs": [
    {
     "name": "stdout",
     "output_type": "stream",
     "text": [
      "Error cuadrático Medio: 1515662004.6620116\n",
      "R2_score: 0.9808499387901439\n"
     ]
    },
    {
     "data": {
      "text/plain": [
       "(array([[180664.33566434, -48548.95104895,   4120.04662005]]),\n",
       " array([-121333.33333334]))"
      ]
     },
     "execution_count": 63,
     "metadata": {},
     "output_type": "execute_result"
    },
    {
     "data": {
      "image/png": "[encoded data removed]",
      "text/plain": [
       "<Figure size 432x288 with 1 Axes>"
      ]
     },
     "metadata": {
      "needs_background": "light"
     },
     "output_type": "display_data"
    }
   ],
   "source": [
    "plt.figure(figsize=(6,4))\n",
    "plt.scatter(x,y)\n",
    "plt.plot(x,y_pred,'r')\n",
    "plt.xlabel('Level')\n",
    "plt.ylabel('Salary')\n",
    "# 4.- mean_squared_error(y_pred,y), r2_score(y_pred,y) \n",
    "print('Error cuadrático Medio: '+str(mean_squared_error(y_pred,y)))\n",
    "print('R2_score: '+str(r2_score(y_pred,y)))\n",
    "modelo.coef_, modelo.intercept_"
   ]
  },
  {
   "cell_type": "markdown",
   "metadata": {},
   "source": [
    "## Actividad : Predecir los sig niveles\n",
    "- Crear un modelo polinomial de grado 3 y predecir los niveles sig:\n",
    "- x_new = [2.5,8.5,13]\n",
    "- Graficar los nuevos niveles y sus respectivos salarios\n"
   ]
  },
  {
   "cell_type": "code",
   "execution_count": 72,
   "metadata": {},
   "outputs": [
    {
     "data": {
      "text/plain": [
       "array([[2.5],\n",
       "       [7.5]])"
      ]
     },
     "execution_count": 72,
     "metadata": {},
     "output_type": "execute_result"
    }
   ],
   "source": [
    "# Predicir nuevos valores (utilizando el modelo entrenado)\n",
    "x_new_array = np.array([[2.5],[7.5]])\n",
    "x_new_array"
   ]
  },
  {
   "cell_type": "code",
   "execution_count": 73,
   "metadata": {},
   "outputs": [
    {
     "data": {
      "text/plain": [
       "array([[  2.5  ,   6.25 ,  15.625],\n",
       "       [  7.5  ,  56.25 , 421.875]])"
      ]
     },
     "execution_count": 73,
     "metadata": {},
     "output_type": "execute_result"
    }
   ],
   "source": [
    "x_new_poly = poly.fit_transform(x_new_array)\n",
    "x_new_poly"
   ]
  },
  {
   "cell_type": "code",
   "execution_count": 74,
   "metadata": {},
   "outputs": [
    {
     "data": {
      "text/plain": [
       "array([[ 91272.29020979],\n",
       "       [240915.35547786]])"
      ]
     },
     "execution_count": 74,
     "metadata": {},
     "output_type": "execute_result"
    }
   ],
   "source": [
    "y_new_predict = modelo.predict(x_new_poly)\n",
    "y_new_predict"
   ]
  },
  {
   "cell_type": "code",
   "execution_count": null,
   "metadata": {},
   "outputs": [],
   "source": []
  },
  {
   "cell_type": "code",
   "execution_count": 64,
   "metadata": {},
   "outputs": [
    {
     "data": {
      "text/plain": [
       "array([[180664.33566434, -48548.95104895,   4120.04662005]])"
      ]
     },
     "execution_count": 64,
     "metadata": {},
     "output_type": "execute_result"
    }
   ],
   "source": [
    "# Predicir nuevos valores (utilizando los coeficientes del modelo entrenado)\n",
    "modelo.coef_"
   ]
  },
  {
   "cell_type": "code",
   "execution_count": 68,
   "metadata": {},
   "outputs": [],
   "source": [
    "b3 = modelo.coef_[0,2]\n",
    "b2 = modelo.coef_[0,1]\n",
    "b1 = modelo.coef_[0,0]\n",
    "b0 = modelo.intercept_\n"
   ]
  },
  {
   "cell_type": "code",
   "execution_count": 69,
   "metadata": {},
   "outputs": [
    {
     "data": {
      "text/plain": [
       "array([91272.29020979])"
      ]
     },
     "execution_count": 69,
     "metadata": {},
     "output_type": "execute_result"
    }
   ],
   "source": [
    "x_new=2.5\n",
    "y_new_pred = b3*x_new**3 + b2*x_new**2 + b1*x_new + b0\n",
    "y_new_pred"
   ]
  },
  {
   "cell_type": "code",
   "execution_count": 70,
   "metadata": {},
   "outputs": [
    {
     "data": {
      "text/html": [
       "<div>\n",
       "<style scoped>\n",
       "    .dataframe tbody tr th:only-of-type {\n",
       "        vertical-align: middle;\n",
       "    }\n",
       "\n",
       "    .dataframe tbody tr th {\n",
       "        vertical-align: top;\n",
       "    }\n",
       "\n",
       "    .dataframe thead th {\n",
       "        text-align: right;\n",
       "    }\n",
       "</style>\n",
       "<table border=\"1\" class=\"dataframe\">\n",
       "  <thead>\n",
       "    <tr style=\"text-align: right;\">\n",
       "      <th></th>\n",
       "      <th>Position</th>\n",
       "      <th>Level</th>\n",
       "      <th>Salary</th>\n",
       "    </tr>\n",
       "  </thead>\n",
       "  <tbody>\n",
       "    <tr>\n",
       "      <th>0</th>\n",
       "      <td>Business Analyst</td>\n",
       "      <td>1</td>\n",
       "      <td>45000</td>\n",
       "    </tr>\n",
       "    <tr>\n",
       "      <th>1</th>\n",
       "      <td>Junior Consultant</td>\n",
       "      <td>2</td>\n",
       "      <td>50000</td>\n",
       "    </tr>\n",
       "    <tr>\n",
       "      <th>2</th>\n",
       "      <td>Senior Consultant</td>\n",
       "      <td>3</td>\n",
       "      <td>60000</td>\n",
       "    </tr>\n",
       "    <tr>\n",
       "      <th>3</th>\n",
       "      <td>Manager</td>\n",
       "      <td>4</td>\n",
       "      <td>80000</td>\n",
       "    </tr>\n",
       "    <tr>\n",
       "      <th>4</th>\n",
       "      <td>Country Manager</td>\n",
       "      <td>5</td>\n",
       "      <td>110000</td>\n",
       "    </tr>\n",
       "    <tr>\n",
       "      <th>5</th>\n",
       "      <td>Region Manager</td>\n",
       "      <td>6</td>\n",
       "      <td>150000</td>\n",
       "    </tr>\n",
       "    <tr>\n",
       "      <th>6</th>\n",
       "      <td>Partner</td>\n",
       "      <td>7</td>\n",
       "      <td>200000</td>\n",
       "    </tr>\n",
       "    <tr>\n",
       "      <th>7</th>\n",
       "      <td>Senior Partner</td>\n",
       "      <td>8</td>\n",
       "      <td>300000</td>\n",
       "    </tr>\n",
       "    <tr>\n",
       "      <th>8</th>\n",
       "      <td>C-level</td>\n",
       "      <td>9</td>\n",
       "      <td>500000</td>\n",
       "    </tr>\n",
       "    <tr>\n",
       "      <th>9</th>\n",
       "      <td>CEO</td>\n",
       "      <td>10</td>\n",
       "      <td>1000000</td>\n",
       "    </tr>\n",
       "  </tbody>\n",
       "</table>\n",
       "</div>"
      ],
      "text/plain": [
       "            Position  Level   Salary\n",
       "0   Business Analyst      1    45000\n",
       "1  Junior Consultant      2    50000\n",
       "2  Senior Consultant      3    60000\n",
       "3            Manager      4    80000\n",
       "4    Country Manager      5   110000\n",
       "5     Region Manager      6   150000\n",
       "6            Partner      7   200000\n",
       "7     Senior Partner      8   300000\n",
       "8            C-level      9   500000\n",
       "9                CEO     10  1000000"
      ]
     },
     "execution_count": 70,
     "metadata": {},
     "output_type": "execute_result"
    }
   ],
   "source": [
    "datos"
   ]
  },
  {
   "cell_type": "markdown",
   "metadata": {},
   "source": [
    "## Multiple Linear Regresion"
   ]
  },
  {
   "cell_type": "code",
   "execution_count": 76,
   "metadata": {},
   "outputs": [],
   "source": [
    "import numpy as np\n",
    "import matplotlib.pyplot as plt\n",
    "import pandas as pd"
   ]
  },
  {
   "cell_type": "code",
   "execution_count": 77,
   "metadata": {},
   "outputs": [
    {
     "data": {
      "text/html": [
       "<div>\n",
       "<style scoped>\n",
       "    .dataframe tbody tr th:only-of-type {\n",
       "        vertical-align: middle;\n",
       "    }\n",
       "\n",
       "    .dataframe tbody tr th {\n",
       "        vertical-align: top;\n",
       "    }\n",
       "\n",
       "    .dataframe thead th {\n",
       "        text-align: right;\n",
       "    }\n",
       "</style>\n",
       "<table border=\"1\" class=\"dataframe\">\n",
       "  <thead>\n",
       "    <tr style=\"text-align: right;\">\n",
       "      <th></th>\n",
       "      <th>R&amp;D Spend</th>\n",
       "      <th>Administration</th>\n",
       "      <th>Marketing Spend</th>\n",
       "      <th>State</th>\n",
       "      <th>Profit</th>\n",
       "    </tr>\n",
       "  </thead>\n",
       "  <tbody>\n",
       "    <tr>\n",
       "      <th>0</th>\n",
       "      <td>165349.20</td>\n",
       "      <td>136897.80</td>\n",
       "      <td>471784.10</td>\n",
       "      <td>New York</td>\n",
       "      <td>192261.83</td>\n",
       "    </tr>\n",
       "    <tr>\n",
       "      <th>1</th>\n",
       "      <td>162597.70</td>\n",
       "      <td>151377.59</td>\n",
       "      <td>443898.53</td>\n",
       "      <td>California</td>\n",
       "      <td>191792.06</td>\n",
       "    </tr>\n",
       "    <tr>\n",
       "      <th>2</th>\n",
       "      <td>153441.51</td>\n",
       "      <td>101145.55</td>\n",
       "      <td>407934.54</td>\n",
       "      <td>Florida</td>\n",
       "      <td>191050.39</td>\n",
       "    </tr>\n",
       "    <tr>\n",
       "      <th>3</th>\n",
       "      <td>144372.41</td>\n",
       "      <td>118671.85</td>\n",
       "      <td>383199.62</td>\n",
       "      <td>New York</td>\n",
       "      <td>182901.99</td>\n",
       "    </tr>\n",
       "    <tr>\n",
       "      <th>4</th>\n",
       "      <td>142107.34</td>\n",
       "      <td>91391.77</td>\n",
       "      <td>366168.42</td>\n",
       "      <td>Florida</td>\n",
       "      <td>166187.94</td>\n",
       "    </tr>\n",
       "  </tbody>\n",
       "</table>\n",
       "</div>"
      ],
      "text/plain": [
       "   R&D Spend  Administration  Marketing Spend       State     Profit\n",
       "0  165349.20       136897.80        471784.10    New York  192261.83\n",
       "1  162597.70       151377.59        443898.53  California  191792.06\n",
       "2  153441.51       101145.55        407934.54     Florida  191050.39\n",
       "3  144372.41       118671.85        383199.62    New York  182901.99\n",
       "4  142107.34        91391.77        366168.42     Florida  166187.94"
      ]
     },
     "execution_count": 77,
     "metadata": {},
     "output_type": "execute_result"
    }
   ],
   "source": [
    "dataset = pd.read_csv('../Data/50_Startups.csv')\n",
    "dataset.head()"
   ]
  },
  {
   "cell_type": "code",
   "execution_count": 78,
   "metadata": {},
   "outputs": [],
   "source": [
    "# Definir las variables dependientes e independientes\n",
    "X = dataset.iloc[:, :-1].values\n",
    "y = dataset.iloc[:, -1].values"
   ]
  },
  {
   "cell_type": "code",
   "execution_count": 79,
   "metadata": {},
   "outputs": [
    {
     "data": {
      "text/plain": [
       "array([[165349.2, 136897.8, 471784.1, 'New York'],\n",
       "       [162597.7, 151377.59, 443898.53, 'California'],\n",
       "       [153441.51, 101145.55, 407934.54, 'Florida'],\n",
       "       [144372.41, 118671.85, 383199.62, 'New York'],\n",
       "       [142107.34, 91391.77, 366168.42, 'Florida'],\n",
       "       [131876.9, 99814.71, 362861.36, 'New York'],\n",
       "       [134615.46, 147198.87, 127716.82, 'California'],\n",
       "       [130298.13, 145530.06, 323876.68, 'Florida'],\n",
       "       [120542.52, 148718.95, 311613.29, 'New York'],\n",
       "       [123334.88, 108679.17, 304981.62, 'California'],\n",
       "       [101913.08, 110594.11, 229160.95, 'Florida'],\n",
       "       [100671.96, 91790.61, 249744.55, 'California'],\n",
       "       [93863.75, 127320.38, 249839.44, 'Florida'],\n",
       "       [91992.39, 135495.07, 252664.93, 'California'],\n",
       "       [119943.24, 156547.42, 256512.92, 'Florida'],\n",
       "       [114523.61, 122616.84, 261776.23, 'New York'],\n",
       "       [78013.11, 121597.55, 264346.06, 'California'],\n",
       "       [94657.16, 145077.58, 282574.31, 'New York'],\n",
       "       [91749.16, 114175.79, 294919.57, 'Florida'],\n",
       "       [86419.7, 153514.11, 0.0, 'New York'],\n",
       "       [76253.86, 113867.3, 298664.47, 'California'],\n",
       "       [78389.47, 153773.43, 299737.29, 'New York'],\n",
       "       [73994.56, 122782.75, 303319.26, 'Florida'],\n",
       "       [67532.53, 105751.03, 304768.73, 'Florida'],\n",
       "       [77044.01, 99281.34, 140574.81, 'New York'],\n",
       "       [64664.71, 139553.16, 137962.62, 'California'],\n",
       "       [75328.87, 144135.98, 134050.07, 'Florida'],\n",
       "       [72107.6, 127864.55, 353183.81, 'New York'],\n",
       "       [66051.52, 182645.56, 118148.2, 'Florida'],\n",
       "       [65605.48, 153032.06, 107138.38, 'New York'],\n",
       "       [61994.48, 115641.28, 91131.24, 'Florida'],\n",
       "       [61136.38, 152701.92, 88218.23, 'New York'],\n",
       "       [63408.86, 129219.61, 46085.25, 'California'],\n",
       "       [55493.95, 103057.49, 214634.81, 'Florida'],\n",
       "       [46426.07, 157693.92, 210797.67, 'California'],\n",
       "       [46014.02, 85047.44, 205517.64, 'New York'],\n",
       "       [28663.76, 127056.21, 201126.82, 'Florida'],\n",
       "       [44069.95, 51283.14, 197029.42, 'California'],\n",
       "       [20229.59, 65947.93, 185265.1, 'New York'],\n",
       "       [38558.51, 82982.09, 174999.3, 'California'],\n",
       "       [28754.33, 118546.05, 172795.67, 'California'],\n",
       "       [27892.92, 84710.77, 164470.71, 'Florida'],\n",
       "       [23640.93, 96189.63, 148001.11, 'California'],\n",
       "       [15505.73, 127382.3, 35534.17, 'New York'],\n",
       "       [22177.74, 154806.14, 28334.72, 'California'],\n",
       "       [1000.23, 124153.04, 1903.93, 'New York'],\n",
       "       [1315.46, 115816.21, 297114.46, 'Florida'],\n",
       "       [0.0, 135426.92, 0.0, 'California'],\n",
       "       [542.05, 51743.15, 0.0, 'New York'],\n",
       "       [0.0, 116983.8, 45173.06, 'California']], dtype=object)"
      ]
     },
     "execution_count": 79,
     "metadata": {},
     "output_type": "execute_result"
    }
   ],
   "source": [
    "X"
   ]
  },
  {
   "cell_type": "code",
   "execution_count": 81,
   "metadata": {},
   "outputs": [],
   "source": [
    "from sklearn.compose import ColumnTransformer\n",
    "from sklearn.preprocessing import OneHotEncoder\n",
    "#   ... ,NY, CA, FL\n",
    "#[0.0, 116983.8, 45173.06,0,1,0]"
   ]
  },
  {
   "cell_type": "code",
   "execution_count": 82,
   "metadata": {},
   "outputs": [
    {
     "data": {
      "text/plain": [
       "array([[0.0, 0.0, 1.0, 165349.2, 136897.8, 471784.1],\n",
       "       [1.0, 0.0, 0.0, 162597.7, 151377.59, 443898.53],\n",
       "       [0.0, 1.0, 0.0, 153441.51, 101145.55, 407934.54],\n",
       "       [0.0, 0.0, 1.0, 144372.41, 118671.85, 383199.62],\n",
       "       [0.0, 1.0, 0.0, 142107.34, 91391.77, 366168.42],\n",
       "       [0.0, 0.0, 1.0, 131876.9, 99814.71, 362861.36],\n",
       "       [1.0, 0.0, 0.0, 134615.46, 147198.87, 127716.82],\n",
       "       [0.0, 1.0, 0.0, 130298.13, 145530.06, 323876.68],\n",
       "       [0.0, 0.0, 1.0, 120542.52, 148718.95, 311613.29],\n",
       "       [1.0, 0.0, 0.0, 123334.88, 108679.17, 304981.62],\n",
       "       [0.0, 1.0, 0.0, 101913.08, 110594.11, 229160.95],\n",
       "       [1.0, 0.0, 0.0, 100671.96, 91790.61, 249744.55],\n",
       "       [0.0, 1.0, 0.0, 93863.75, 127320.38, 249839.44],\n",
       "       [1.0, 0.0, 0.0, 91992.39, 135495.07, 252664.93],\n",
       "       [0.0, 1.0, 0.0, 119943.24, 156547.42, 256512.92],\n",
       "       [0.0, 0.0, 1.0, 114523.61, 122616.84, 261776.23],\n",
       "       [1.0, 0.0, 0.0, 78013.11, 121597.55, 264346.06],\n",
       "       [0.0, 0.0, 1.0, 94657.16, 145077.58, 282574.31],\n",
       "       [0.0, 1.0, 0.0, 91749.16, 114175.79, 294919.57],\n",
       "       [0.0, 0.0, 1.0, 86419.7, 153514.11, 0.0],\n",
       "       [1.0, 0.0, 0.0, 76253.86, 113867.3, 298664.47],\n",
       "       [0.0, 0.0, 1.0, 78389.47, 153773.43, 299737.29],\n",
       "       [0.0, 1.0, 0.0, 73994.56, 122782.75, 303319.26],\n",
       "       [0.0, 1.0, 0.0, 67532.53, 105751.03, 304768.73],\n",
       "       [0.0, 0.0, 1.0, 77044.01, 99281.34, 140574.81],\n",
       "       [1.0, 0.0, 0.0, 64664.71, 139553.16, 137962.62],\n",
       "       [0.0, 1.0, 0.0, 75328.87, 144135.98, 134050.07],\n",
       "       [0.0, 0.0, 1.0, 72107.6, 127864.55, 353183.81],\n",
       "       [0.0, 1.0, 0.0, 66051.52, 182645.56, 118148.2],\n",
       "       [0.0, 0.0, 1.0, 65605.48, 153032.06, 107138.38],\n",
       "       [0.0, 1.0, 0.0, 61994.48, 115641.28, 91131.24],\n",
       "       [0.0, 0.0, 1.0, 61136.38, 152701.92, 88218.23],\n",
       "       [1.0, 0.0, 0.0, 63408.86, 129219.61, 46085.25],\n",
       "       [0.0, 1.0, 0.0, 55493.95, 103057.49, 214634.81],\n",
       "       [1.0, 0.0, 0.0, 46426.07, 157693.92, 210797.67],\n",
       "       [0.0, 0.0, 1.0, 46014.02, 85047.44, 205517.64],\n",
       "       [0.0, 1.0, 0.0, 28663.76, 127056.21, 201126.82],\n",
       "       [1.0, 0.0, 0.0, 44069.95, 51283.14, 197029.42],\n",
       "       [0.0, 0.0, 1.0, 20229.59, 65947.93, 185265.1],\n",
       "       [1.0, 0.0, 0.0, 38558.51, 82982.09, 174999.3],\n",
       "       [1.0, 0.0, 0.0, 28754.33, 118546.05, 172795.67],\n",
       "       [0.0, 1.0, 0.0, 27892.92, 84710.77, 164470.71],\n",
       "       [1.0, 0.0, 0.0, 23640.93, 96189.63, 148001.11],\n",
       "       [0.0, 0.0, 1.0, 15505.73, 127382.3, 35534.17],\n",
       "       [1.0, 0.0, 0.0, 22177.74, 154806.14, 28334.72],\n",
       "       [0.0, 0.0, 1.0, 1000.23, 124153.04, 1903.93],\n",
       "       [0.0, 1.0, 0.0, 1315.46, 115816.21, 297114.46],\n",
       "       [1.0, 0.0, 0.0, 0.0, 135426.92, 0.0],\n",
       "       [0.0, 0.0, 1.0, 542.05, 51743.15, 0.0],\n",
       "       [1.0, 0.0, 0.0, 0.0, 116983.8, 45173.06]], dtype=object)"
      ]
     },
     "execution_count": 82,
     "metadata": {},
     "output_type": "execute_result"
    }
   ],
   "source": [
    "ct = ColumnTransformer(transformers=[('encoder', OneHotEncoder(), [3])], remainder='passthrough')\n",
    "X = np.array(ct.fit_transform(X))\n",
    "X"
   ]
  },
  {
   "cell_type": "code",
   "execution_count": 84,
   "metadata": {},
   "outputs": [],
   "source": [
    "# Construir el modelo de Regresión Multiple\n",
    "\n",
    "from sklearn.linear_model import LinearRegression\n"
   ]
  },
  {
   "cell_type": "code",
   "execution_count": 86,
   "metadata": {},
   "outputs": [
    {
     "data": {
      "text/plain": [
       "LinearRegression()"
      ]
     },
     "execution_count": 86,
     "metadata": {},
     "output_type": "execute_result"
    }
   ],
   "source": [
    "modelo_multiple = LinearRegression()\n",
    "# Entrenamiento del modelo\n",
    "modelo_multiple.fit(X, y)"
   ]
  },
  {
   "cell_type": "code",
   "execution_count": 87,
   "metadata": {},
   "outputs": [],
   "source": [
    "# Predicción\n",
    "y_pred = modelo_multiple.predict(X)"
   ]
  },
  {
   "cell_type": "code",
   "execution_count": 88,
   "metadata": {},
   "outputs": [
    {
     "data": {
      "text/plain": [
       "array([192390.57136321, 189071.32010493, 182276.18673285, 173584.97618976,\n",
       "       172277.13381668, 163473.80711842, 158099.29278418, 160155.64464938,\n",
       "       151634.74332631, 154829.66252709, 135664.64259064, 135528.60078161,\n",
       "       129282.91780691, 127431.24898632, 149694.38277549, 146143.63551379,\n",
       "       116854.0745287 , 130085.40993358, 129149.72574274, 115594.18840731,\n",
       "       116570.73444001, 117201.50508973, 114833.30513843, 110123.79610587,\n",
       "       113294.37345155, 102200.26891867, 110765.30116879, 114279.8040301 ,\n",
       "       101818.5873869 , 101721.0420294 ,  99629.0105373 ,  97617.2963202 ,\n",
       "        98988.23660304,  98061.35894838,  88974.70416293,  90420.0096061 ,\n",
       "        75423.09286559,  89577.70222197,  69606.52160904,  83684.97603991,\n",
       "        74762.74617647,  74956.31104908,  70575.99371382,  60100.2682187 ,\n",
       "        64585.14721291,  47588.36470993,  56272.99268495,  46468.23200484,\n",
       "        49123.07308287,  48185.03879259])"
      ]
     },
     "execution_count": 88,
     "metadata": {},
     "output_type": "execute_result"
    }
   ],
   "source": [
    "y_pred"
   ]
  },
  {
   "cell_type": "code",
   "execution_count": 95,
   "metadata": {},
   "outputs": [
    {
     "data": {
      "text/plain": [
       "array([192261.83, 191792.06, 191050.39, 182901.99, 166187.94, 156991.12,\n",
       "       156122.51, 155752.6 , 152211.77, 149759.96, 146121.95, 144259.4 ,\n",
       "       141585.52, 134307.35, 132602.65, 129917.04, 126992.93, 125370.37,\n",
       "       124266.9 , 122776.86, 118474.03, 111313.02, 110352.25, 108733.99,\n",
       "       108552.04, 107404.34, 105733.54, 105008.31, 103282.38, 101004.64,\n",
       "        99937.59,  97483.56,  97427.84,  96778.92,  96712.8 ,  96479.51,\n",
       "        90708.19,  89949.14,  81229.06,  81005.76,  78239.91,  77798.83,\n",
       "        71498.49,  69758.98,  65200.33,  64926.08,  49490.75,  42559.73,\n",
       "        35673.41,  14681.4 ])"
      ]
     },
     "execution_count": 95,
     "metadata": {},
     "output_type": "execute_result"
    }
   ],
   "source": [
    "y"
   ]
  },
  {
   "cell_type": "code",
   "execution_count": 89,
   "metadata": {},
   "outputs": [],
   "source": [
    "# Calcular los errores y el r2 score\n"
   ]
  },
  {
   "cell_type": "code",
   "execution_count": 94,
   "metadata": {},
   "outputs": [
    {
     "data": {
      "text/plain": [
       "Text(0.5, 0.92, '50_startups')"
      ]
     },
     "execution_count": 94,
     "metadata": {},
     "output_type": "execute_result"
    },
    {
     "data": {
      "image/png": "[encoded data removed]",
      "text/plain": [
       "<Figure size 720x504 with 1 Axes>"
      ]
     },
     "metadata": {
      "needs_background": "light"
     },
     "output_type": "display_data"
    }
   ],
   "source": [
    "# Elegir 3 variables\n",
    "fig = plt.figure(figsize=(10,7))\n",
    "ax = plt.axes(projection = '3d')\n",
    "\n",
    "ax.scatter3D(dataset['R&D Spend'],dataset['Administration'],dataset['Profit'], c='b')\n",
    "ax.scatter3D(dataset['R&D Spend'],dataset['Administration'],y_pred, c='r')\n",
    "plt.title('50_startups')"
   ]
  },
  {
   "cell_type": "code",
   "execution_count": 96,
   "metadata": {},
   "outputs": [
    {
     "data": {
      "text/plain": [
       "50177.64442290499"
      ]
     },
     "execution_count": 96,
     "metadata": {},
     "output_type": "execute_result"
    }
   ],
   "source": [
    "modelo_multiple.intercept_"
   ]
  },
  {
   "cell_type": "code",
   "execution_count": 97,
   "metadata": {},
   "outputs": [
    {
     "data": {
      "text/plain": [
       "array([-5.23005912e+01,  1.46488202e+02, -9.41876104e+01,  8.06023114e-01,\n",
       "       -2.70043196e-02,  2.69798610e-02])"
      ]
     },
     "execution_count": 97,
     "metadata": {},
     "output_type": "execute_result"
    }
   ],
   "source": [
    "modelo_multiple.coef_"
   ]
  },
  {
   "cell_type": "code",
   "execution_count": 98,
   "metadata": {},
   "outputs": [
    {
     "data": {
      "text/plain": [
       "array([[0.0, 0.0, 1.0, 165349.2, 136897.8, 471784.1],\n",
       "       [1.0, 0.0, 0.0, 162597.7, 151377.59, 443898.53],\n",
       "       [0.0, 1.0, 0.0, 153441.51, 101145.55, 407934.54],\n",
       "       [0.0, 0.0, 1.0, 144372.41, 118671.85, 383199.62],\n",
       "       [0.0, 1.0, 0.0, 142107.34, 91391.77, 366168.42],\n",
       "       [0.0, 0.0, 1.0, 131876.9, 99814.71, 362861.36],\n",
       "       [1.0, 0.0, 0.0, 134615.46, 147198.87, 127716.82],\n",
       "       [0.0, 1.0, 0.0, 130298.13, 145530.06, 323876.68],\n",
       "       [0.0, 0.0, 1.0, 120542.52, 148718.95, 311613.29],\n",
       "       [1.0, 0.0, 0.0, 123334.88, 108679.17, 304981.62],\n",
       "       [0.0, 1.0, 0.0, 101913.08, 110594.11, 229160.95],\n",
       "       [1.0, 0.0, 0.0, 100671.96, 91790.61, 249744.55],\n",
       "       [0.0, 1.0, 0.0, 93863.75, 127320.38, 249839.44],\n",
       "       [1.0, 0.0, 0.0, 91992.39, 135495.07, 252664.93],\n",
       "       [0.0, 1.0, 0.0, 119943.24, 156547.42, 256512.92],\n",
       "       [0.0, 0.0, 1.0, 114523.61, 122616.84, 261776.23],\n",
       "       [1.0, 0.0, 0.0, 78013.11, 121597.55, 264346.06],\n",
       "       [0.0, 0.0, 1.0, 94657.16, 145077.58, 282574.31],\n",
       "       [0.0, 1.0, 0.0, 91749.16, 114175.79, 294919.57],\n",
       "       [0.0, 0.0, 1.0, 86419.7, 153514.11, 0.0],\n",
       "       [1.0, 0.0, 0.0, 76253.86, 113867.3, 298664.47],\n",
       "       [0.0, 0.0, 1.0, 78389.47, 153773.43, 299737.29],\n",
       "       [0.0, 1.0, 0.0, 73994.56, 122782.75, 303319.26],\n",
       "       [0.0, 1.0, 0.0, 67532.53, 105751.03, 304768.73],\n",
       "       [0.0, 0.0, 1.0, 77044.01, 99281.34, 140574.81],\n",
       "       [1.0, 0.0, 0.0, 64664.71, 139553.16, 137962.62],\n",
       "       [0.0, 1.0, 0.0, 75328.87, 144135.98, 134050.07],\n",
       "       [0.0, 0.0, 1.0, 72107.6, 127864.55, 353183.81],\n",
       "       [0.0, 1.0, 0.0, 66051.52, 182645.56, 118148.2],\n",
       "       [0.0, 0.0, 1.0, 65605.48, 153032.06, 107138.38],\n",
       "       [0.0, 1.0, 0.0, 61994.48, 115641.28, 91131.24],\n",
       "       [0.0, 0.0, 1.0, 61136.38, 152701.92, 88218.23],\n",
       "       [1.0, 0.0, 0.0, 63408.86, 129219.61, 46085.25],\n",
       "       [0.0, 1.0, 0.0, 55493.95, 103057.49, 214634.81],\n",
       "       [1.0, 0.0, 0.0, 46426.07, 157693.92, 210797.67],\n",
       "       [0.0, 0.0, 1.0, 46014.02, 85047.44, 205517.64],\n",
       "       [0.0, 1.0, 0.0, 28663.76, 127056.21, 201126.82],\n",
       "       [1.0, 0.0, 0.0, 44069.95, 51283.14, 197029.42],\n",
       "       [0.0, 0.0, 1.0, 20229.59, 65947.93, 185265.1],\n",
       "       [1.0, 0.0, 0.0, 38558.51, 82982.09, 174999.3],\n",
       "       [1.0, 0.0, 0.0, 28754.33, 118546.05, 172795.67],\n",
       "       [0.0, 1.0, 0.0, 27892.92, 84710.77, 164470.71],\n",
       "       [1.0, 0.0, 0.0, 23640.93, 96189.63, 148001.11],\n",
       "       [0.0, 0.0, 1.0, 15505.73, 127382.3, 35534.17],\n",
       "       [1.0, 0.0, 0.0, 22177.74, 154806.14, 28334.72],\n",
       "       [0.0, 0.0, 1.0, 1000.23, 124153.04, 1903.93],\n",
       "       [0.0, 1.0, 0.0, 1315.46, 115816.21, 297114.46],\n",
       "       [1.0, 0.0, 0.0, 0.0, 135426.92, 0.0],\n",
       "       [0.0, 0.0, 1.0, 542.05, 51743.15, 0.0],\n",
       "       [1.0, 0.0, 0.0, 0.0, 116983.8, 45173.06]], dtype=object)"
      ]
     },
     "execution_count": 98,
     "metadata": {},
     "output_type": "execute_result"
    }
   ],
   "source": [
    "X"
   ]
  },
  {
   "cell_type": "markdown",
   "metadata": {},
   "source": [
    "$$\\hat{y} = \\beta_0 + \\beta_1*x_1 + \\beta_2*x_2+ ... + \\beta_6*x_6$$"
   ]
  },
  {
   "cell_type": "code",
   "execution_count": null,
   "metadata": {},
   "outputs": [],
   "source": []
  }
 ],
 "metadata": {
  "kernelspec": {
   "display_name": "Python 3",
   "language": "python",
   "name": "python3"
  },
  "language_info": {
   "codemirror_mode": {
    "name": "ipython",
    "version": 3
   },
   "file_extension": ".py",
   "mimetype": "text/x-python",
   "name": "python",
   "nbconvert_exporter": "python",
   "pygments_lexer": "ipython3",
   "version": "3.8.8"
  }
 },
 "nbformat": 4,
 "nbformat_minor": 2
}
