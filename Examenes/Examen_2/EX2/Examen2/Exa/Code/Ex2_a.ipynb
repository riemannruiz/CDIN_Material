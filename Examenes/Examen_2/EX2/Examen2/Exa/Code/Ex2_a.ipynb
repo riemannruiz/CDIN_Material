{
 "cells": [
  {
   "cell_type": "markdown",
   "metadata": {},
   "source": [
    "<img style=\"float: left;;\" src='../Imagenes/iteso.jpg' width=\"120\" height=\"120\"/></a>\n",
    "\n",
    "# <center> <font color= #000047> DEPARTAMENTO DE MATEMÁTICAS Y FÍSICA </font> </center>\n",
    "# <center> <font color= #000047> Ciencia de Datos e Inteligencia de Negocios </font> </center>\n",
    "# <center> <font color= #000047> EXAMEN 2 : Aprendizaje No Supervizado </font> </center>\n",
    "# <center> <font color= #000047> Tipo: A </font> </center>\n",
    "\n",
    "        "
   ]
  },
  {
   "cell_type": "markdown",
   "metadata": {},
   "source": [
    "<div class=\"alert alert-danger\" style=\"margin: 10px\"><strong>NOTA IMPORTANTE!</strong> Asegúrese de escribir su nombre, y el código en las celdas comentadas.</div>"
   ]
  },
  {
   "cell_type": "markdown",
   "metadata": {},
   "source": [
    "<h1> Nombre: </h1>\n",
    "<hr>   "
   ]
  },
  {
   "cell_type": "markdown",
   "metadata": {},
   "source": [
    "<h2>Instrucciones</h2>\n",
    "\n",
    "- Lea detenidamente los reactivos y responda con claridad. Si se requiere hacer uso de más hojas para la realización de cálculos, es necesario que se adjunten a este archivo cuando se haga entrega del examen. Es necesario adjuntar las diferentes librerías o código que se utilice para la realización del examen.\n",
    "\n",
    "- Responda de manera ordenada los reactivos.\n",
    "\n",
    "- Por cada respuesta de cada reactivo se calificará __código, figuras y comentarios__.\n",
    "\n",
    "\n",
    "<h2>Tabla de Reactivos</h2>\n",
    "\n",
    "1. [Reactivo 1 (4 ptos)](#Problema1)\n",
    "2. [Reactivo 2 (3 ptos)](#Problema2)\n",
    "3. [Reactivo 3 (3 ptos)](#Problema3)\n",
    "<hr>   "
   ]
  },
  {
   "cell_type": "markdown",
   "metadata": {},
   "source": [
    "<hr>   \n",
    "\n",
    "### Reactivo 1 (4 ptos) <a name=\"Problema1\"></a> \n",
    "\n",
    "Considere el dataset **\"wineQualityReds.csv\"**, este dataset contiene datos de pruebas objetivas (por ejemplo, valores de PH) de algunos vinos realizadas por expertos y su clasificación dependiendo de la calidad del vino. Cada experto calificó la calidad del vino entre 0 (muy malo) y 10 (muy excelente) :\n",
    "\n",
    "\n",
    ">1.- Cargar el dataset en una variable `wine_df` y obtener un data quality report (dqr)\n",
    "\n",
    ">2.- Realizar una limpieza de datos eliminando la variable `quality` y guardar el nuevo dataset en `wine_clean_df`.\n",
    "\n",
    ">3.- Obtener un Analisis exploratorio de datos EDA para `wine_clean_df` (obtener al menos 3 insights).\n",
    "\n",
    ">4.- Aplicar algún criterio de selección de grupos y obtener el número óptimo de grupos para una clusterización.\n",
    "\n",
    ">5.- Tomando en cuenta el número de grupos optimos, obtenga un modelo de clustering con kmeans.\n",
    "\n",
    ">6.- Grafique sus resultado, concluya y comente. ¿Los grupos encontrados con su modelo tienen alguna relación con los grupos obtenidos por los expertos?\n",
    "\n",
    "<details>\n",
    "    <summary><b>Descripción de las variables(click aquí)</b></summary>\n",
    "    \n",
    "   1 - **fixed acidity** (tartaric acid - g / dm^3)\n",
    "    la mayoría de los ácidos involucrados con el vino o fijos o no volátiles (no se evaporan fácilmente)\n",
    "    \n",
    "   2 - **volatile acidity** (acetic acid - g / dm^3)\n",
    "    la cantidad de ácido acético en el vino, que en niveles demasiado altos puede provocar un sabor desagradable a vinagre\n",
    "    \n",
    "   3 - **citric acid** (g / dm^3)\n",
    "    Encontrado en pequeñas cantidades, el ácido cítrico puede agregar 'frescura' y sabor a los vinos.\n",
    "    \n",
    "   4 - **residual sugar** (g / dm^3)\n",
    "    la cantidad de azúcar que queda después de que se detiene la fermentación, es raro encontrar vinos con menos de 1 gramo / litro y los vinos con más de 45 gramos / litro se consideran dulces\n",
    "\n",
    "   5 - **chlorides** (sodium chloride - g / dm^3)\n",
    "    la cantidad de sal en el vino\n",
    "    \n",
    "   6 - **free sulfur dioxide** (mg / dm^3)\n",
    "    la forma libre del SO2 existe en equilibrio entre el SO2 molecular (como gas disuelto) y el ion bisulfito; Previene el crecimiento microbiano y la oxidación del vino.\n",
    "    \n",
    "   7 - **total sulfur dioxide** (mg / dm^3)\n",
    "    cantidad de formas libres y unidas de SO2; en concentraciones bajas, el SO2 es mayormente indetectable en el vino, pero en concentraciones de SO2 libre superiores a 50 ppm, el SO2 se hace evidente en la nariz y el sabor del vino.\n",
    "\n",
    "   8 - **density** (g / cm^3)\n",
    "    la densidad del agua es cercana a la del agua dependiendo del porcentaje de alcohol y contenido de azúcar\n",
    "    \n",
    "   9 - **pH**\n",
    "    describe qué tan ácido o básico es un vino en una escala de 0 (muy ácido) a 14 (muy básico); la mayoría de los vinos están entre 3-4 en la escala de pH\n",
    "    \n",
    "   10 - **sulphates** (potassium sulphate - g / dm3)\n",
    "    un aditivo para el vino que puede contribuir a los niveles de dióxido de azufre (SO2), que actúa como antimicrobiano y antioxidante\n",
    "    \n",
    "   11 - **alcohol** (% by volume)\n",
    "    el porcentaje de contenido de alcohol del vino\n",
    "    \n",
    "   12 - **quality** (0-10)\n",
    "    \n",
    "</details>\n",
    "\n",
    "**Respuesta:**\n"
   ]
  },
  {
   "cell_type": "code",
   "execution_count": null,
   "metadata": {},
   "outputs": [],
   "source": [
    "#Cargar el dataset en una variable `wine_df` y obtener un data quality report (dqr)"
   ]
  },
  {
   "cell_type": "code",
   "execution_count": null,
   "metadata": {},
   "outputs": [],
   "source": [
    "#Realizar una limpieza de datos eliminando la variable `quality` y guardar el nuevo dataset en `wine_clean_df`."
   ]
  },
  {
   "cell_type": "code",
   "execution_count": null,
   "metadata": {},
   "outputs": [],
   "source": [
    "#  Obtener un Analisis exploratorio de datos EDA para `wine_clean_df` (obtener al menos 3 insights)."
   ]
  },
  {
   "cell_type": "code",
   "execution_count": null,
   "metadata": {},
   "outputs": [],
   "source": [
    "# Aplicar algún criterio de selección de grupos y obtener el número óptimo de grupos para una clusterización."
   ]
  },
  {
   "cell_type": "code",
   "execution_count": null,
   "metadata": {},
   "outputs": [],
   "source": [
    "# Tomando en cuenta el número de grupos optimos, obtenga un modelo de clustering con kmeans.\n"
   ]
  },
  {
   "cell_type": "code",
   "execution_count": null,
   "metadata": {},
   "outputs": [],
   "source": [
    "# Grafique sus resultado, concluya y comente. ¿Los grupos encontrados con su modelo tienen alguna relación con los grupos obtenidos por los expertos?\n"
   ]
  },
  {
   "cell_type": "markdown",
   "metadata": {},
   "source": [
    "<hr>   \n",
    "\n",
    "### Reactivo 2 (3 ptos) <a name=\"Problema2\"></a> \n",
    "\n",
    "Considere la base de datos `“ex2c_4.csv”` se encuentra la información sobre características de varias flores que fueron estudiadas por un botánico. Basado en esta información obtenga lo siguiente:\n",
    "\n",
    "> <a name=\"Problema2.1\"></a> \n",
    "Por medio de `“clustering” Jerárquico` determine cuantos grupos de patrones se pueden determinar en esta base de datos.\n",
    "\n",
    "> <a name=\"Problema2.2\"></a> \n",
    "Aplique el análisis de componentes principales `PCA` en la base de datos original (`“ex2c_4.csv”`) y con la base de datos reducida (como mínimo __90%__ de la información mantenida).\n",
    "\n",
    "> <a name=\"Problema2.3\"></a>  Vuelva a determinar el número de patrones por medio de un algoritmo de `“clustering”`. ¿Se mantuvo el número de grupos encontrados? Valide su respuesta con gráficas y mediciones.\n",
    "\n",
    "**Respuesta:**\n"
   ]
  },
  {
   "cell_type": "code",
   "execution_count": 1,
   "metadata": {},
   "outputs": [],
   "source": [
    "# Por medio de un algoritmo de `“clustering” Jerárquico` determine cuantos grupos de patrones se pueden determinar en esta base de datos."
   ]
  },
  {
   "cell_type": "code",
   "execution_count": 2,
   "metadata": {},
   "outputs": [],
   "source": [
    "#Aplique el análisis de componentes principales `PCA` en la base de datos original (`“ex2c_4.csv”`) y con la base de datos reducida (como mínimo __90%__ de la información mantenida),"
   ]
  },
  {
   "cell_type": "code",
   "execution_count": 1,
   "metadata": {},
   "outputs": [],
   "source": [
    "# vuelva a determinar el número de patrones por medio de un algoritmo de `“clustering”`. ¿Se mantuvo el número de grupos encontrados? Valide su respuesta con gráficas y mediciones."
   ]
  },
  {
   "cell_type": "markdown",
   "metadata": {},
   "source": [
    "<hr>   \n",
    "\n",
    "### Reactivo 3 (3 ptos) <a name=\"Problema3\"></a> \n",
    "\n",
    "Considere la base de datos `“ex2c_2_2.csv”`. Esta base de datos contiene 3 dimensiones. \n",
    "\n",
    "> Haciendo un análisis de PCA de manera manual (i.e., realizando paso a paso como se vió en clase sin utilizar la librería), justifique si es posible hacer una reducción de las variables por medio del “PCA” a una sóla variable y si esto es posible, ¿Cuánto porcentaje de información se obtendría después de la reducción?\n",
    "\n",
    "> Muestre en un gráfico de los datos después de la reducción. COmente sus resultados.\n",
    "\n",
    "**Respuesta:**"
   ]
  },
  {
   "cell_type": "code",
   "execution_count": null,
   "metadata": {},
   "outputs": [],
   "source": [
    "# Haciendo un análisis de PCA de manera manual (i.e., realizando paso a paso como se vió en clase sin utilizar la librería), justifique si es posible hacer una reducción de las variables por medio del “PCA” a una sóla variable y si esto es posible, ¿Cuánto porcentaje de información se obtendría después de la reducción?"
   ]
  },
  {
   "cell_type": "code",
   "execution_count": null,
   "metadata": {},
   "outputs": [],
   "source": [
    "#Muestre en un gráfico de los datos después de la reducción. COmente sus resultados."
   ]
  }
 ],
 "metadata": {
  "kernelspec": {
   "display_name": "Python 3",
   "language": "python",
   "name": "python3"
  },
  "language_info": {
   "codemirror_mode": {
    "name": "ipython",
    "version": 3
   },
   "file_extension": ".py",
   "mimetype": "text/x-python",
   "name": "python",
   "nbconvert_exporter": "python",
   "pygments_lexer": "ipython3",
   "version": "3.8.8"
  }
 },
 "nbformat": 4,
 "nbformat_minor": 4
}
