{
 "cells": [
  {
   "cell_type": "markdown",
   "metadata": {},
   "source": [
    "<h1><center> ITESO </center></h1>                                                                          \n",
    "<h1><center> DEPARTAMENTO DE MATEMÁTICAS Y FÍSICA  </center></h1>                                                 <h3><center>Asignatura: Ciencia de Datos e Inteligencia de Negocios</center></h3>                          \n",
    "<h3><center> EXAMEN 3 : Aprendizaje Supervisado <h3><center> \n",
    "<h4><center>Tipo: A<h4><center>"
   ]
  },
  {
   "cell_type": "markdown",
   "metadata": {},
   "source": [
    "<h1> Nombre: </h1>\n",
    "<hr>   "
   ]
  },
  {
   "cell_type": "markdown",
   "metadata": {},
   "source": [
    "<h2>Instrucciones</h2>\n",
    "\n",
    "- Lea detenidamente los reactivos y responda con claridad. Si se requiere hacer uso de más hojas para la realización de cálculos, es necesario que se adjunten a este cuando se haga entrega del examen.\n",
    "\n",
    "- Tiempo máximo para la realización del examen: 4 h.\n",
    "\n",
    "- Resulta imprescindible explicar los pasos y/o decisiones tomadas en la solución de las cuestiones así como razonar las respuestas a las mismas. Como criterio de valoración se tendrá en cuenta no sólo los resultados finales e intermedios, sino también las explicaciones y justificaciones de todos los pasos y decisiones que se adopten para alcanzar la solución.\n",
    "\n",
    "- Responda de manera ordenada los reactivos.\n",
    "\n",
    "- Por cada respuesta de cada reactivo se calificará __código, figuras y comentarios__.\n",
    "\n",
    "\n",
    "<h2>Tabla de Reactivos</h2>\n",
    "\n",
    "2. [Reactivo 1 (3 ptos)](#Problema1)\n",
    "3. [Reactivo 2 (3 ptos)](#Problema2)\n",
    "<hr>   "
   ]
  },
  {
   "cell_type": "markdown",
   "metadata": {},
   "source": [
    "<hr>   \n",
    "\n",
    "### Reactivo 1 (5 ptos) <a name=\"Problema1\"></a> \n",
    "\n",
    "Considere el dataset **\"credit_card.csv\"** este dataset contiene las transacciones de tarjetas de crédito en septiembre 2013 de tarjetahabientes europeos. Este conjunto de datos presenta transacciones que ocurrieron en dos días, donde tenemos 492 fraudes de 284.807 transacciones. Se requiere entrenar un modelo de Aprendizaje Supervizado con un porcentaje de accuracy de al menos del 80%, que identifique y prediga si una transacción puede ser fraudulenta o no.\n",
    "\n",
    "\n",
    "\n",
    "**Respuesta:**"
   ]
  },
  {
   "cell_type": "code",
   "execution_count": null,
   "metadata": {},
   "outputs": [],
   "source": [
    "# código aquí"
   ]
  },
  {
   "cell_type": "markdown",
   "metadata": {},
   "source": [
    "<hr>   \n",
    "\n",
    "### Reactivo 2 (5 ptos) <a name=\"Problema3\"></a> \n",
    "\n",
    "Considere el dataset \"**fetal_health.csv\"** .Este conjunto de datos contiene 2126 registros de características extraídas de exámenes de cardiotocograma, que luego fueron clasificados por 3 clases:\n",
    "\n",
    "- Normal\n",
    "- Suspect\n",
    "- Pathological\n",
    "\n",
    "Utilizando este dataset, se requiere obtener un modelo de clasificación de la salud fetal para prevenir la mortalidad materna e infantil. Lo deseado es obtener un modelo con un accuracy de al menos del 80%. [referencia](https://onlinelibrary.wiley.com/doi/10.1002/1520-6661(200009/10)9:5%3C311::AID-MFM12%3E3.0.CO;2-9)\n",
    "\n",
    "**Respuesta:**"
   ]
  },
  {
   "cell_type": "code",
   "execution_count": null,
   "metadata": {},
   "outputs": [],
   "source": [
    "# código aquí"
   ]
  }
 ],
 "metadata": {
  "kernelspec": {
   "display_name": "Python 3",
   "language": "python",
   "name": "python3"
  },
  "language_info": {
   "codemirror_mode": {
    "name": "ipython",
    "version": 3
   },
   "file_extension": ".py",
   "mimetype": "text/x-python",
   "name": "python",
   "nbconvert_exporter": "python",
   "pygments_lexer": "ipython3",
   "version": "3.8.5"
  }
 },
 "nbformat": 4,
 "nbformat_minor": 4
}
