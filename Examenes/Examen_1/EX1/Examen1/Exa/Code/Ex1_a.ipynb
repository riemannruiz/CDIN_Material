{
 "cells": [
  {
   "cell_type": "markdown",
   "metadata": {},
   "source": [
    "<img style=\"float: left;;\" src='../Imagenes/iteso.jpg' width=\"120\" height=\"120\"/></a>\n",
    "\n",
    "# <center> <font color= #000047> DEPARTAMENTO DE MATEMÁTICAS Y FÍSICA </font> </center>\n",
    "# <center> <font color= #000047> Ciencia de Datos e Inteligencia de Negocios </font> </center>\n",
    "# <center> <font color= #000047> EXAMEN 1 : Minería de Datos y Medidas de Similitud </font> </center>\n",
    "# <center> <font color= #000047> Tipo: A </font> </center>\n",
    "\n",
    "        "
   ]
  },
  {
   "cell_type": "markdown",
   "metadata": {},
   "source": [
    "<div class=\"alert alert-danger\" style=\"margin: 10px\"><strong>NOTA IMPORTANTE!</strong> Asegúrese de escribir su nombre, y el código en las celdas comentadas.</div>"
   ]
  },
  {
   "cell_type": "markdown",
   "metadata": {},
   "source": [
    "<h1> Nombre: </h1>\n",
    "<hr>   "
   ]
  },
  {
   "cell_type": "markdown",
   "metadata": {},
   "source": [
    "<h2>Instrucciones</h2>\n",
    "\n",
    "- Lea detenidamente los reactivos y responda con claridad. Si se requiere hacer uso de más hojas para la realización de cálculos, es necesario que se adjunten a este archivo cuando se haga entrega del examen. Es necesario adjuntar las diferentes librerías o código que se utilice para la realización del examen.\n",
    "\n",
    "- Responda de manera ordenada los reactivos.\n",
    "\n",
    "- Por cada respuesta de cada reactivo se calificará __código, figuras y comentarios__.\n",
    "\n",
    "\n",
    "<h2>Tabla de Reactivos</h2>\n",
    "\n",
    "1. [Reactivo 1 (3.5 ptos)](#Problema1)\n",
    "2. [Reactivo 2 (2.5 ptos)](#Problema2)\n",
    "3. [Reactivo 3 (4 ptos)](#Problema3)\n",
    "<hr>   "
   ]
  },
  {
   "cell_type": "markdown",
   "metadata": {},
   "source": [
    "<hr>   \n",
    "\n",
    "### Reactivo 1 (3.5 ptos) <a name=\"Problema1\"></a> \n",
    "\n",
    "Considere el dataset **\"airbnb_cdmx.csv\"**, este dataset contiene datos de renta de alojamientos en la Ciudad de México. Utilizando este dataset realice lo siguiente:\n",
    "\n",
    "> Cargar el dataframe con nombre `df_cdmx`, y realizar un reporte de calidad de datos, donde se muestre en una columna el porcentaje de valores presentes y el porcentaje de valores faltantes (missing data).\n",
    "\n",
    "> Usando el reporte de calidad de datos obtenido, dejar sólo en el data frame las columnas que contengan el 75% o más de valores presentes.\n",
    "\n",
    "> Identificar los tipos de datos en el dataset, y separarlos en 3 subdatasets `(df_categoricos_nom, df_categoricos_ord,  df_numericos)`.\n",
    "\n",
    "> Realizar una limpieza en la columna 'host_name'. Eliminar caracteres de puntuación y convertir todo en minúsculas. \n",
    "\n",
    "> Crear una función que reciba una lista de distritos (`'neighbourhood'`) y devuelva los tipos de alojamiento (`'room_type'`) en esos distritos y el porcentaje de alojamientos de ese tipo. Prueba esta función con la lista `['Cuauhtémoc','Tlalpan']`\n",
    "\n",
    "> ¿Cuál es el número medio de alojamientos por anfitrión de cada distrito?\n",
    "\n",
    "> Dibuje un diagrama de barras con el número de alojamientos por distritos.\n",
    "\n",
    "> ¿En qué distrito (neighbourhood) se tienen los alojamientos más caros?\n",
    "\n",
    "\n",
    "**Respuesta:**"
   ]
  },
  {
   "cell_type": "code",
   "execution_count": null,
   "metadata": {},
   "outputs": [],
   "source": [
    "#Cargar el dataframe con nombre `df_cdmx`, y realizar un reporte de calidad de datos, donde se muestre en una columna el porcentaje de valores presentes y el porcentaje de valores faltantes (missing data)."
   ]
  },
  {
   "cell_type": "code",
   "execution_count": null,
   "metadata": {},
   "outputs": [],
   "source": [
    "# Usando el reporte de calidad de datos obtenido, dejar sólo en el data frame las columnas que contengan el 75% o más de valores presentes."
   ]
  },
  {
   "cell_type": "code",
   "execution_count": null,
   "metadata": {},
   "outputs": [],
   "source": [
    "# Identificar los tipos de datos en el dataset, y separarlos en 3 subdatasets `(df_categoricos_nom, df_categoricos_ord,  df_numericos)`."
   ]
  },
  {
   "cell_type": "code",
   "execution_count": null,
   "metadata": {},
   "outputs": [],
   "source": [
    "# Realizar una limpieza en la columna 'host_name'. Eliminar caracteres de puntuación y convertir todo en minúsculas. "
   ]
  },
  {
   "cell_type": "code",
   "execution_count": null,
   "metadata": {},
   "outputs": [],
   "source": [
    "# Crear una función que reciba una lista de distritos (`'neighbourhood'`) y devuelva los tipos de alojamiento (`'room_type'`) en esos distritos y el porcentaje de alojamientos de ese tipo. Prueba esta función con la lista `['Cuauhtémoc','Tlalpan']`\n"
   ]
  },
  {
   "cell_type": "code",
   "execution_count": null,
   "metadata": {},
   "outputs": [],
   "source": [
    "# ¿Cuál es el número medio de alojamientos por anfitrión de cada distrito?"
   ]
  },
  {
   "cell_type": "code",
   "execution_count": null,
   "metadata": {},
   "outputs": [],
   "source": [
    "# Dibuje un diagrama de barras con el número de alojamientos por distritos."
   ]
  },
  {
   "cell_type": "code",
   "execution_count": null,
   "metadata": {},
   "outputs": [],
   "source": [
    "# ¿En qué distrito (neighbourhood) se tienen los alojamientos más caros?"
   ]
  },
  {
   "cell_type": "markdown",
   "metadata": {},
   "source": [
    "<hr>   \n",
    "\n",
    "### Reactivo 2 (2.5 ptos) <a name=\"Problema2\"></a> \n",
    "\n",
    "Considere el dataset **paises_v1.csv** que contiene información de la población, superficie y deporte en cada país. Utilizando este archivo realice lo que se le pide.\n",
    "\n",
    "> ¿Cúales son los países con más de 46 millones de habitantes?\n",
    "\n",
    "> ¿Qué países tienen el nombre con mayor a 6 letras?\n",
    "\n",
    "> En promedio, ¿Cuántos habitantes por $km²$ existen por cada país?, guarde esta información en una columna llamada `'Habit_x_km2'`.\n",
    "\n",
    "> Categorice los países segun a su población y sus habitantes por kilometros cuadrados `'Habit_x_km2'` y guarde esta información en una nueva columna llamada `'Categoria'`.Para paises con poblaciones >46000000 y habitantes por km2 <50 serán categorizados en la categoría A.  Para paises con poblaciones >46000000 y habitantes/km2 >= 50 serán categorizados en la categoría 'B' y para paises con poblaciones <= 46000000 serán categorizados en la categoría C.\n",
    "\n",
    "> Cree una nueva columna con el código del país (el código estará representado por las primeras 3 letras del nombre del país en MAYUSCULAS)\n",
    "\n",
    "**Respuesta:**"
   ]
  },
  {
   "cell_type": "code",
   "execution_count": null,
   "metadata": {},
   "outputs": [],
   "source": [
    "#  ¿Cúales son los países con más de 46 millones de habitantes?"
   ]
  },
  {
   "cell_type": "code",
   "execution_count": null,
   "metadata": {},
   "outputs": [],
   "source": [
    "# ¿Qué países tienen el nombre con mayor a 6 letras?"
   ]
  },
  {
   "cell_type": "code",
   "execution_count": null,
   "metadata": {},
   "outputs": [],
   "source": [
    "#  En promedio, ¿Cuántos habitantes por $km²$ existen por cada país?, guarde esta información en una columna llamada `'Habit_x_km2'`."
   ]
  },
  {
   "cell_type": "code",
   "execution_count": null,
   "metadata": {},
   "outputs": [],
   "source": [
    "# Categorice los países segun a su población y sus habitantes por kilometros cuadrados `'Habit_x_km2'` y guarde esta información en una nueva columna llamada `'Categoria'`.Para paises con poblaciones >46000000 y habitantes por km2 <50 serán categorizados en la categoría A.  Para paises con poblaciones >46000000 y habitantes/km2 >= 50 serán categorizados en la categoría 'B' y para paises con poblaciones <= 46000000 serán categorizados en la categoría C."
   ]
  },
  {
   "cell_type": "code",
   "execution_count": null,
   "metadata": {},
   "outputs": [],
   "source": [
    "# Cree una nueva columna con el código del país (el código estará representado por las primeras 3 letras del nombre del país en MAYUSCULAS)"
   ]
  },
  {
   "cell_type": "markdown",
   "metadata": {},
   "source": [
    "<hr>   \n",
    "\n",
    "### Reactivo 3 (4 ptos) <a name=\"Problema3\"></a> \n",
    "\n",
    "Considere los datos sobre los ratings de personas que han asistido a diferentes restaurantes en el dataset **\"restaurant_ratings\"** y realice lo que se le pide:\n",
    "\n",
    "> Generar un reporte de calidad de datos del dataset.\n",
    "\n",
    "> Realice un filtro para las columnas  `'userID','placeID' y 'food_rating'`.\n",
    "\n",
    "> Genere un nuevo DataFrame con la interacción entre los usuarios y los restaurantes (el índice del dataframe deberá contener los ids de los usuarios, y las columnas seran los ids de los restaurantes, la interacción entre filas y columnas serán los valores de 'food_rating'). **Hint:** investigue el método **pandas.DataFrame.pivot**.\n",
    "\n",
    "> Calcule la similitud que existe entre los usuarios basados en el rating dado para cada restaurante (i.e., Obtenga la matriz de similitud entre usuarios).\n",
    "\n",
    "> Cree un recomendador de restaurantes: dada la matriz de similitud, escoger al usuario `'U1003'` y recomendar el top 3 de restaurantes que podrían gustarle. **Hint:** Seleccione al usuario más similar y recomiende los restaurantes que el usuario `'U1003'` no ha visitado pero que el usuario más similar si (i.e, los restaurantes que el usuario más similar a calificado).\n",
    "\n",
    "\n",
    "**Respuesta:**"
   ]
  },
  {
   "cell_type": "code",
   "execution_count": null,
   "metadata": {},
   "outputs": [],
   "source": [
    "#Generar un reporte de calidad de datos del dataset."
   ]
  },
  {
   "cell_type": "code",
   "execution_count": null,
   "metadata": {},
   "outputs": [],
   "source": [
    "#Realice un filtro para las columnas  `'userID','placeID' y 'food_rating'`."
   ]
  },
  {
   "cell_type": "code",
   "execution_count": null,
   "metadata": {},
   "outputs": [],
   "source": [
    "#Genere un nuevo DataFrame con la interacción entre los usuarios y los restaurantes (el índice del dataframe deberá contener los ids de los usuarios, y las columnas seran los ids de los restaurantes, la interacción entre filas y columnas serán los valores de 'food_rating'). **Hint:** investigue el método **pandas.DataFrame.pivot**."
   ]
  },
  {
   "cell_type": "code",
   "execution_count": null,
   "metadata": {},
   "outputs": [],
   "source": [
    "#Calcule la similitud que existe entre los usuarios basados en el rating dado para cada restaurante (i.e., Obtenga la matriz de similitud entre usuarios)."
   ]
  },
  {
   "cell_type": "code",
   "execution_count": null,
   "metadata": {},
   "outputs": [],
   "source": [
    "# Cree un recomendador de restaurantes: dada la matriz de similitud, escoger al usuario `'U1003'` y recomendar el top 3 de restaurantes que podrían gustarle. **Hint:** Seleccione al usuario más similar y recomiende los restaurantes que el usuario `'U1003'` no ha visitado pero que el usuario más similar si (i.e, los restaurantes que el usuario más similar a calificado)."
   ]
  }
 ],
 "metadata": {
  "kernelspec": {
   "display_name": "Python 3",
   "language": "python",
   "name": "python3"
  },
  "language_info": {
   "codemirror_mode": {
    "name": "ipython",
    "version": 3
   },
   "file_extension": ".py",
   "mimetype": "text/x-python",
   "name": "python",
   "nbconvert_exporter": "python",
   "pygments_lexer": "ipython3",
   "version": "3.8.5"
  }
 },
 "nbformat": 4,
 "nbformat_minor": 4
}
